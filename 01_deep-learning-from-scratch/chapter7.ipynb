{
 "cells": [
  {
   "cell_type": "markdown",
   "metadata": {
    "id": "ydTsfITlhbn1"
   },
   "source": [
    "# 第7章 畳み込みニューラルネットワーク"
   ]
  },
  {
   "cell_type": "markdown",
   "metadata": {},
   "source": [
    "- 第7章は畳み込みニューラルネットワーク(Convolutional Neural Network)のメカニズムについて詳しく説明し、その処理内容を Python で実装する"
   ]
  },
  {
   "cell_type": "code",
   "execution_count": 1,
   "metadata": {
    "id": "bjMl5PnefwK6"
   },
   "outputs": [],
   "source": [
    "# %cd /content/drive/MyDrive/work/\n",
    "# !git clone https://github.com/oreilly-japan/deep-learning-from-scratch.git"
   ]
  },
  {
   "cell_type": "code",
   "execution_count": 2,
   "metadata": {
    "colab": {
     "base_uri": "https://localhost:8080/"
    },
    "executionInfo": {
     "elapsed": 15124,
     "status": "ok",
     "timestamp": 1655019871173,
     "user": {
      "displayName": "Yuki Katayama",
      "userId": "15528639115256770261"
     },
     "user_tz": -540
    },
    "id": "IREB4Wc_gSVm",
    "outputId": "1ec6b67f-81f8-47f9-89f4-352e0281a64d"
   },
   "outputs": [],
   "source": [
    "# from google.colab import drive\n",
    "# drive.mount('/content/drive/')\n",
    "# %cd /content/drive/MyDrive/work/deep-learning-from-scratch/ch04/\n",
    "# %cd /deep-learning-from-scratch"
   ]
  },
  {
   "cell_type": "code",
   "execution_count": 3,
   "metadata": {
    "executionInfo": {
     "elapsed": 4,
     "status": "ok",
     "timestamp": 1655026909736,
     "user": {
      "displayName": "Yuki Katayama",
      "userId": "15528639115256770261"
     },
     "user_tz": -540
    },
    "id": "mG5wuXNxSnc1"
   },
   "outputs": [
    {
     "name": "stdout",
     "output_type": "stream",
     "text": [
      "['/home/jovyan/work/dl_study/01_deep-learning-from-scratch', '/opt/conda/lib/python38.zip', '/opt/conda/lib/python3.8', '/opt/conda/lib/python3.8/lib-dynload', '', '/opt/conda/lib/python3.8/site-packages', '/opt/conda/lib/python3.8/site-packages/IPython/extensions', '/home/jovyan/.ipython', '/home/jovyan/work/dl_study/01_deep-learning-from-scratch/refs']\n"
     ]
    }
   ],
   "source": [
    "import numpy as np\n",
    "import logging\n",
    "import sys\n",
    "import os\n",
    "from pathlib import Path\n",
    "\n",
    "# importディレクトリの追加\n",
    "# sys.path.append(os.path.join(os.path.dirname(__file__), '..'))\n",
    "sys.path.append(os.path.join(Path().resolve(), 'refs'))\n",
    "print(sys.path)\n",
    "\n",
    "# プロキシの設定"
   ]
  },
  {
   "cell_type": "code",
   "execution_count": null,
   "metadata": {},
   "outputs": [],
   "source": [
    "import urllib.request\n",
    "print(urllib.request.getproxies())"
   ]
  },
  {
   "cell_type": "code",
   "execution_count": 5,
   "metadata": {},
   "outputs": [],
   "source": [
    "import matplotlib as plt\n",
    "# matplotlibのサイズを大きくする\n",
    "plt.rcParams['figure.figsize'] = (16.0, 6.0)"
   ]
  },
  {
   "cell_type": "markdown",
   "metadata": {},
   "source": [
    "## 7.1 全体の構造"
   ]
  },
  {
   "cell_type": "markdown",
   "metadata": {},
   "source": [
    "- CNNもレゴブロックのようにレイヤを組み合わせることで作る事ができる\n",
    "- Convolutionレイヤ(畳み込み層)とPoolingレイヤ(プーリング層)が登場する\n",
    "\n",
    "- これまで見てきたネットワークは隣接する層の全てのニューロン間で結合があった(**全結合**)\n",
    "    - 全結合層はAffineレイヤという名前で実装されていた\n",
    "  \n",
    "- 全結合NNはAffineレイヤの後に活性化関数が続く\n",
    "- 畳み込みを利用したAffine-Reluというつながりが, Conv-ReLuに置き換わる\n",
    "    - Poolingレイヤは省略されることがある(多い?)\n",
    "- "
   ]
  },
  {
   "cell_type": "markdown",
   "metadata": {},
   "source": [
    "## 7.2 畳み込み層"
   ]
  },
  {
   "cell_type": "markdown",
   "metadata": {},
   "source": [
    "### 7.2.1 全結合層の問題点\n",
    "\n",
    "- 全結合層の問題点はデータの形状が無視されてしまう\n",
    "    - 画像は3次元形状で空間情報が含まれているが, それが失われる\n",
    "- CNNは空間情報を維持できる\n",
    "- 畳み込みそうの入出力データを**特徴マップ**と呼ぶ"
   ]
  },
  {
   "cell_type": "markdown",
   "metadata": {},
   "source": [
    "### 7.2.2 畳み込み演算"
   ]
  },
  {
   "cell_type": "markdown",
   "metadata": {},
   "source": [
    "### 7.2.3 パディング"
   ]
  },
  {
   "cell_type": "markdown",
   "metadata": {},
   "source": [
    "### 7.2.4 ストライド"
   ]
  },
  {
   "cell_type": "markdown",
   "metadata": {},
   "source": [
    "### 7.2.5 3次元データの畳み込み演算"
   ]
  },
  {
   "cell_type": "markdown",
   "metadata": {},
   "source": [
    "### 7.2.6 ブロックで考える"
   ]
  },
  {
   "cell_type": "markdown",
   "metadata": {},
   "source": [
    "### 7.2.7 バッチ処理"
   ]
  },
  {
   "cell_type": "markdown",
   "metadata": {},
   "source": [
    "## 7.3 プーリング層"
   ]
  },
  {
   "cell_type": "markdown",
   "metadata": {},
   "source": [
    "### 7.3.1. プーリング層の特徴"
   ]
  },
  {
   "cell_type": "markdown",
   "metadata": {},
   "source": [
    "## 7.4 Convolution/Poolingレイヤの実装"
   ]
  },
  {
   "cell_type": "markdown",
   "metadata": {},
   "source": [
    "### 7.4.1 4次元配列"
   ]
  },
  {
   "cell_type": "markdown",
   "metadata": {},
   "source": [
    "- CNNでは各層を流れるデータは4次元データ\n",
    "  - PillowやPyTorch(N, C, H, W)\n",
    "  - OpenCVやCaffeは(N, H, W, C)"
   ]
  },
  {
   "cell_type": "markdown",
   "metadata": {},
   "source": [
    "### 7.4.2. im2colによる展開"
   ]
  },
  {
   "cell_type": "markdown",
   "metadata": {},
   "source": [
    "- 畳み込み演算の実装は, 真面目にやると多重forが連なって面倒\n",
    "    - Numpyでは, **forループを使うと遅い**という弊害もある\n",
    "- `im2col`を使って実装するとシンプルに実装できる\n",
    "\n",
    "- im2colは入力データに対してフィルターを適用する場所の領域（3 次元のブロック）を横方向に 1 列に展開する\n",
    "  - 4次元(N, C, H, W)の入力データに対してim2colを適用すると, 2次元に変換される\n",
    "  - フィルターの適用領域が重なる場合, **im2colを使って展開すると, 展開後の要素数は元の行列よりも多くなる**という欠点がある\n",
    "\n",
    "\n",
    "- 大きな行列をまとめて計算すると, コンピュータ計算上は多くの恩恵がある\n",
    "  - 行列演算ライブラリ(NumpyやEigen等)は行列演算の実装が高度に最適化されていて早い\n",
    "\n",
    "- im2colによって入力データを展開した後, **フィルターを一列に展開して, 内積を取ればよい**(図7-19)\n",
    "- 畳み込みの後は, 2次元の出力データを適切な形状に整形(**reshape**)する\n",
    "\n",
    "![fig7-17_7-18](./images/fig7-17_7-18.PNG)\n",
    "\n",
    "![fig7-19](./images/fig7-19.PNG)"
   ]
  },
  {
   "cell_type": "code",
   "execution_count": 6,
   "metadata": {},
   "outputs": [],
   "source": [
    "def im2col(input_data, filter_h, filter_w, stride=1, pad=0):\n",
    "    \"\"\"\n",
    "\n",
    "    Parameters\n",
    "    ----------\n",
    "    input_data : (データ数, チャンネル, 高さ, 幅)の4次元配列からなる入力データ\n",
    "    filter_h : フィルターの高さ\n",
    "    filter_w : フィルターの幅\n",
    "    stride : ストライド\n",
    "    pad : パディング\n",
    "\n",
    "    Returns\n",
    "    -------\n",
    "    col : 2次元配列\n",
    "    \"\"\"\n",
    "    N, C, H, W = input_data.shape\n",
    "    out_h = (H + 2*pad - filter_h)//stride + 1\n",
    "    out_w = (W + 2*pad - filter_w)//stride + 1\n",
    "\n",
    "    img = np.pad(input_data, [(0,0), (0,0), (pad, pad), (pad, pad)], 'constant')\n",
    "    col = np.zeros((N, C, filter_h, filter_w, out_h, out_w))\n",
    "\n",
    "    for y in range(filter_h):\n",
    "        y_max = y + stride*out_h\n",
    "        for x in range(filter_w):\n",
    "            x_max = x + stride*out_w\n",
    "            col[:, :, y, x, :, :] = img[:, :, y:y_max:stride, x:x_max:stride]\n",
    "\n",
    "    col = col.transpose(0, 4, 5, 1, 2, 3).reshape(N*out_h*out_w, -1)\n",
    "    return col"
   ]
  },
  {
   "cell_type": "code",
   "execution_count": 7,
   "metadata": {},
   "outputs": [
    {
     "name": "stdout",
     "output_type": "stream",
     "text": [
      "x1.shape: (1, 3, 7, 7)\n",
      "[[[[0.38569167 0.67708352 0.90700092]\n",
      "   [0.62688193 0.42553286 0.41953192]\n",
      "   [0.84159003 0.12118447 0.85012963]]\n",
      "\n",
      "  [[0.92499734 0.22595636 0.84637893]\n",
      "   [0.03564305 0.98647152 0.42686626]\n",
      "   [0.38402461 0.51195296 0.8859837 ]]\n",
      "\n",
      "  [[0.22919471 0.25390699 0.85379493]\n",
      "   [0.21621359 0.63548508 0.23565323]\n",
      "   [0.10256485 0.95309328 0.27830992]]]]\n",
      "----------\n",
      "col1.shape: (9, 75)\n",
      "[[0.38569167 0.67708352 0.90700092]\n",
      " [0.67708352 0.90700092 0.72373876]\n",
      " [0.90700092 0.72373876 0.47345199]]\n",
      "=========================\n",
      "x2.shape: (10, 3, 7, 7)\n",
      "col2.shape: (90, 75)\n"
     ]
    }
   ],
   "source": [
    "import sys, os\n",
    "sys.path.append(os.pardir)\n",
    "from common.util import im2col\n",
    "\n",
    "x1 = np.random.rand(1, 3, 7, 7)\n",
    "print(f'x1.shape: {x1.shape}')\n",
    "print(f'{x1[:3, :3, :3, :3]}')\n",
    "\n",
    "print('-' * 10)\n",
    "\n",
    "col1 = im2col(x1, 5, 5, stride=1, pad=0)\n",
    "print(f'col1.shape: {col1.shape}')\n",
    "\n",
    "# 2次元目の要素数はフィルタの要素数の総和\n",
    "print(f'{col1[:3, :3]}') # (9, 75)\n",
    "\n",
    "print('=' * 25)\n",
    "\n",
    "x2 = np.random.rand(10, 3, 7, 7) # 10 個のデータ\n",
    "print(f'x2.shape: {x2.shape}')\n",
    "# print(f'{x2[:3, :3, :3, :3]}')\n",
    "# print('-' * 10)\n",
    "col2 = im2col(x2, 5, 5, stride=1, pad=0)\n",
    "\n",
    "# バッチサイズNの個数分の要素が返される\n",
    "print(f'col2.shape: {col2.shape}')      # (90, 75)\n",
    "# print(f'{col2[:3, :3]}')"
   ]
  },
  {
   "cell_type": "markdown",
   "metadata": {},
   "source": [
    "### 7.4.3. Convolutionレイヤの実装"
   ]
  },
  {
   "cell_type": "markdown",
   "metadata": {},
   "source": [
    "- 順伝播時の処理\n",
    "  1. Convolution レイヤの初期化メソッドは、フィルター（重み）とバイアス、ストライドとパディングを引数として受け取る\n",
    "  2. 入力行列を`im2col`で展開し, フィルタもreshapeで2次元配列にする\n",
    "  3. 展開した入力行列とフィルタの積(内積)を取り, 出力行列の形状に変形する\n",
    "\n",
    "- 逆伝播時の処理\n",
    "  1. 逆伝播された行列を順伝播時の変形と逆の形状にする(?)\n",
    "  1. 順伝播時のフィルタを変形する\n",
    "  1. \n",
    "  1. `col2im`で行列にする"
   ]
  },
  {
   "cell_type": "code",
   "execution_count": 8,
   "metadata": {},
   "outputs": [],
   "source": [
    "class Convolution:\n",
    "    def __init__(self, W, b, stride=1, pad=0):\n",
    "        self.W = W\n",
    "        self.b = b\n",
    "        self.stride = stride\n",
    "        self.pad = pad\n",
    "        \n",
    "    def forward(self, x):\n",
    "        FN, C, FH, FW = self.W.shape\n",
    "        N, C, H, W = x.shape\n",
    "        \n",
    "        # 7.2.4の式(7.1)を参照 \n",
    "        out_h = int(1 + (H + 2*self.pad - FH) / self.stride)\n",
    "        out_w = int(1 + (H + 2*self.pad - FW) / self.stride)\n",
    "        \n",
    "        # im2colを用いて入力行列を展開\n",
    "        col = im2col(x, FH, FW, self.stride, self.pad)\n",
    "        \n",
    "        # np.reshapeの引数に-1を指定すると, \n",
    "        # -1以外の引数に応じて, 変換行列の要素数を自動的に合わせてくれる\n",
    "        # a = np.random.rand(10, 3, 5, 5)\n",
    "        # a = a.reshape(10, -1)     \n",
    "        \n",
    "        # フィルタを展開(flatten)する\n",
    "        col_w = self.W.reshape(FN, -1).T\n",
    "        \n",
    "        # フィルタと入力行列の積を取り, バイアスを加える\n",
    "        out = np.dot(col, col_W) + self.b\n",
    "        \n",
    "        # 得られた積を整形(reshapeと軸の変更)し, 出力値とする\n",
    "        out = out.reshape(N, out_h, out_w, -1).transpose(0, 3, 1, 2)\n",
    "        \n",
    "        # 逆伝播時のためにx, col, col_Wを保持しておく\n",
    "        self.x = x\n",
    "        self.col = col\n",
    "        self.col_W = col_W\n",
    "\n",
    "        return out\n",
    "\n",
    "    def backward(self, dout):\n",
    "        FN, C, FH, FW = self.W.shape\n",
    "        # 行列の軸の入れ替える(順伝播時と逆の形式?)\n",
    "        dout = dout.transpose(0,2,3,1).reshape(-1, FN)\n",
    "\n",
    "        # 入力の総和を取る\n",
    "        self.db = np.sum(dout, axis=0)\n",
    "        \n",
    "        # 逆伝播行列と順伝播時の入力の積を取り, 整形して保持しておく\n",
    "        self.dW = np.dot(self.col.T, dout) \n",
    "        self.dW = self.dW.transpose(1, 0).reshape(FN, C, FH, FW)\n",
    "\n",
    "        # 順伝播時の重みと逆伝播の積を取り, 逆伝播出力とする\n",
    "        dcol = np.dot(dout, self.col_W.T)\n",
    "        \n",
    "        # Convolution レイヤの逆伝播の際には、im2colの逆の処理を行う\n",
    "        dx = col2im(dcol, self.x.shape, FH, FW, self.stride, self.pad)\n",
    "\n",
    "        return dx"
   ]
  },
  {
   "cell_type": "markdown",
   "metadata": {},
   "source": [
    "### 7.4.4. Poolingレイヤの実装"
   ]
  },
  {
   "cell_type": "markdown",
   "metadata": {},
   "source": [
    "- Poolingレイヤの実装もim2colを使用する\n",
    "- プーリングの適用領域はチャンネル方向に独立して展開する"
   ]
  },
  {
   "cell_type": "code",
   "execution_count": 9,
   "metadata": {},
   "outputs": [],
   "source": [
    "class Pooling:\n",
    "    def __init__(self, pool_h, pool_w, stride=2, pad=0):\n",
    "        self.pool_h = pool_h\n",
    "        self.pool_w = pool_w\n",
    "        self.stride = stride\n",
    "        self.pad = pad\n",
    "        \n",
    "        self.x = None\n",
    "        self.arg_max = None\n",
    "        \n",
    "        \n",
    "    def forward(self, x):\n",
    "        \n",
    "        N, C, H, W = x.shape\n",
    "        out_h = int(1 + (H - self.pool_h) / self.stride)\n",
    "        out_w = int(1 + (W - self.pool_w) / self.stride)\n",
    "        \n",
    "        # 展開(1)\n",
    "        col = im2col(x, self.pool_h, self.pool_w, self.stride, self.pad)\n",
    "        # チャンネル成分ごとにまとめる\n",
    "        col = col.reshape(-1, self.pool_h*self.pool_w)\n",
    "        \n",
    "        # 最大化(2)\n",
    "        out = np.max(col, axis=1)\n",
    "        \n",
    "        # 整形(3)\n",
    "        out = out.reshape(N, out_h, out_w, C).transpose(0, 3, 1, 2)\n",
    "        \n",
    "        self.x = x\n",
    "        self.arg_max = arg_max        \n",
    "        \n",
    "        return out\n",
    "\n",
    "    def backward(self, dout):\n",
    "        dout = dout.transpose(0, 2, 3, 1)\n",
    "        \n",
    "        pool_size = self.pool_h * self.pool_w\n",
    "        dmax = np.zeros((dout.size, pool_size))\n",
    "        dmax[np.arange(self.arg_max.size), self.arg_max.flatten()] = dout.flatten()\n",
    "        dmax = dmax.reshape(dout.shape + (pool_size,)) \n",
    "        \n",
    "        dcol = dmax.reshape(dmax.shape[0] * dmax.shape[1] * dmax.shape[2], -1)\n",
    "        dx = col2im(dcol, self.x.shape, self.pool_h, self.pool_w, self.stride, self.pad)\n",
    "        \n",
    "        return dx"
   ]
  },
  {
   "cell_type": "markdown",
   "metadata": {},
   "source": [
    "### 7.5 CNNの実装"
   ]
  },
  {
   "cell_type": "markdown",
   "metadata": {},
   "source": [
    "- 今までの集大成\n",
    "- 以下のネットワークを`SimpleConvNet`というクラスに実装する\n",
    "\n",
    "![fig7-23](./images/fig7-23.PNG)"
   ]
  },
  {
   "cell_type": "markdown",
   "metadata": {},
   "source": [
    "- 各畳み込み層のハイパラは引数`conv_param`にディクショナリとして与える\n",
    "- ネットワークの初期化は`__init__`メソッドで行う\n",
    "    - `conv_param`によって与えられた畳み込み層のハイパラは, ここでパースされる\n",
    "    - 学習に必要なパラメータは1層目の畳み込みと 2, 3層目の全結合層の重み"
   ]
  },
  {
   "cell_type": "code",
   "execution_count": 10,
   "metadata": {},
   "outputs": [],
   "source": [
    "import common.layers\n",
    "\n",
    "class SimpleConvNet:\n",
    "    \n",
    "    def __init__(self, input_dim=(1, 28, 28), \n",
    "                 conv_param={'filter_num': 30, 'filter_size': 5, 'pad':0, 'stride': 1},\n",
    "                 hidden_size=100, output_size=10, weight_init_std=0.01):\n",
    "        '''\n",
    "        畳み込みを用いた3層NNを初期化する    \n",
    "        \n",
    "        Parameters\n",
    "        ----------\n",
    "            input_dim: 入力データの次元(C, H, W)\n",
    "            conv_param: 畳み込み層のハイパラ(dictで渡される)\n",
    "                - filter_num: フィルタ数\n",
    "                - filter_size: フィルタサイズ\n",
    "                - stride: ストライド\n",
    "                - pad: パディング\n",
    "            hidden_size: 隠れ層のニューロン数\n",
    "            output_size: 出力層のニューロン数\n",
    "            weight_init_std: 重みの初期化に用いる標準偏差\n",
    "        '''\n",
    "        filter_num = conv_param['filter_num']\n",
    "        filter_size = conv_param['filter_size']\n",
    "        filter_pad = conv_param['pad']\n",
    "        filter_stride = conv_param['stride']\n",
    "        \n",
    "        input_size = input_dim[1]\n",
    "        \n",
    "        # T.B.W\n",
    "        conv_output_size = (input_size - filter_size + 2*filter_pad) / filter_stride + 1\n",
    "        # T.B.W\n",
    "        pool_output_size = int(filter_num * (conv_output_size/2) * (conv_output_size/2))\n",
    "        \n",
    "        self.params = {}\n",
    "        self.params['W1'] = weight_init_std * np.random.randn(filter_num, input_dim[0], filter_size, filter_size)\n",
    "        self.params['b1'] = np.zeros(filter_num)\n",
    "        \n",
    "        self.params['W2'] = weight_init_std * np.random.randn(pool_output_size, hidden_size)\n",
    "        self.params['b2'] = np.zeros(filter_num)\n",
    "        \n",
    "        self.params['W3'] = weight_init_std * np.random.randn(hidden_size, output_size)\n",
    "        self.params['b3'] = np.zeros(output_size)        \n",
    "        \n",
    "        self.layers = OrderedDict()\n",
    "        \n",
    "        # 学習するレイヤ(畳み込み層)\n",
    "        self.layers['Conv1'] = Convolution(self.params['W1'], self.params['b1'], conv_param['stride'], conv_param['pad'])\n",
    "        self.layers['Relu1'] = Relu()\n",
    "        \n",
    "        self.layers['Pool1'] = Pooling(pool_h=2, pool_w=2, stride=2)\n",
    "        \n",
    "        # 学習するレイヤ(全結合層 No.1)\n",
    "        self.layers['Affine1'] = Affine(self.params['W2'],self.params['b2'])\n",
    "        self.layers['Relu2'] = Relu()\n",
    "        \n",
    "        # 学習するレイヤ(全結合層 No.2)\n",
    "        self.layers['Affine2'] = Affine(self.params['W3'],self.params['b3'])\n",
    "        \n",
    "        self.last_layer = SoftmaxWithLoss()\n",
    "        \n",
    "    def predict(self, x):\n",
    "        for layer in self.layers.values():\n",
    "            x = layer.forward()\n",
    "        return x\n",
    "    \n",
    "    def loss(self, x, t):\n",
    "        y = self.predict(x)\n",
    "        return self.lastLayer.forward(y, t)\n",
    "    \n",
    "    def gradient(self, x, t):\n",
    "        \"\"\"\n",
    "        \n",
    "        \"\"\"\n",
    "        \n",
    "        # forward\n",
    "        self.loss(x, t)\n",
    "        \n",
    "        # backward\n",
    "        dout = 1\n",
    "        dout = self.lastLayer.backward(dout)\n",
    "        \n",
    "        layers = list(self.layers.values())\n",
    "        layers.reverse()\n",
    "        for layer in layers:\n",
    "            dout = layer.backward(dout)\n",
    "            \n",
    "        # 設定\n",
    "        grads = {}\n",
    "        grads['W1'] = self.layers['Conv1'].dW\n",
    "        grads['b1'] = self.layers['Conv1'].db\n",
    "        grads['W2'] = self.layers['Affine1'].dW\n",
    "        grads['b2'] = self.layers['Affine1'].db\n",
    "        grads['W3'] = self.layers['Affine2'].dW\n",
    "        grads['b3'] = self.layers['Affine2'].db\n",
    "        \n",
    "        return grads"
   ]
  },
  {
   "cell_type": "code",
   "execution_count": 11,
   "metadata": {},
   "outputs": [
    {
     "name": "stdout",
     "output_type": "stream",
     "text": [
      "it[0] train loss: 2.299622313622385\n",
      "=== epoch:1, train acc:0.184, test acc:0.194 ===\n",
      "it[100] train loss: 0.24273719834964427\n",
      "it[200] train loss: 0.2750785824111418\n",
      "it[300] train loss: 0.2573756022771848\n",
      "it[400] train loss: 0.1468640310685414\n",
      "it[500] train loss: 0.23591213976483325\n",
      "it[600] train loss: 0.16750633722574937\n",
      "=== epoch:2, train acc:0.96, test acc:0.96 ===\n",
      "it[700] train loss: 0.1892192493888983\n",
      "it[800] train loss: 0.076840150945274\n",
      "it[900] train loss: 0.03435584659476596\n",
      "it[1000] train loss: 0.06967961643955363\n",
      "it[1100] train loss: 0.03307129597278511\n",
      "it[1200] train loss: 0.103066887392162\n",
      "=== epoch:3, train acc:0.979, test acc:0.971 ===\n",
      "it[1300] train loss: 0.019881971827650925\n",
      "it[1400] train loss: 0.05971779287445296\n",
      "it[1500] train loss: 0.028626978069491427\n",
      "it[1600] train loss: 0.062489463560150955\n",
      "it[1700] train loss: 0.07698642444183873\n",
      "it[1800] train loss: 0.060708980617517054\n",
      "=== epoch:4, train acc:0.982, test acc:0.981 ===\n",
      "it[1900] train loss: 0.01800483405791722\n",
      "it[2000] train loss: 0.04508619372156479\n",
      "it[2100] train loss: 0.045396281692859086\n",
      "it[2200] train loss: 0.01798785126462467\n",
      "it[2300] train loss: 0.008588155395216764\n",
      "it[2400] train loss: 0.010156802030135567\n",
      "=== epoch:5, train acc:0.984, test acc:0.98 ===\n",
      "it[2500] train loss: 0.028188155084091903\n",
      "it[2600] train loss: 0.03281879844988946\n",
      "it[2700] train loss: 0.051127396774256414\n",
      "it[2800] train loss: 0.01955496959956273\n",
      "it[2900] train loss: 0.024845237551193097\n",
      "it[3000] train loss: 0.014255063771750653\n",
      "=== epoch:6, train acc:0.985, test acc:0.985 ===\n",
      "it[3100] train loss: 0.00693993409886178\n",
      "it[3200] train loss: 0.006868182149531077\n",
      "it[3300] train loss: 0.011267547810097605\n",
      "it[3400] train loss: 0.017725631615068637\n",
      "it[3500] train loss: 0.01290423107231729\n",
      "it[3600] train loss: 0.04933123076836253\n",
      "=== epoch:7, train acc:0.993, test acc:0.985 ===\n",
      "it[3700] train loss: 0.006752970761529483\n",
      "it[3800] train loss: 0.007701571206338553\n",
      "it[3900] train loss: 0.003935056041296672\n",
      "it[4000] train loss: 0.011393406977517102\n",
      "it[4100] train loss: 0.021635240036587136\n",
      "it[4200] train loss: 0.012285825204403284\n",
      "=== epoch:8, train acc:0.988, test acc:0.982 ===\n",
      "it[4300] train loss: 0.005900868509618957\n",
      "it[4400] train loss: 0.06789062064429173\n",
      "it[4500] train loss: 0.01029460297794615\n",
      "it[4600] train loss: 0.010145727118533074\n",
      "it[4700] train loss: 0.004700291340178926\n",
      "it[4800] train loss: 0.003737608335754784\n",
      "=== epoch:9, train acc:0.992, test acc:0.989 ===\n",
      "it[4900] train loss: 0.008718066939118892\n",
      "it[5000] train loss: 0.008673727640391649\n",
      "it[5100] train loss: 0.0029334140327193677\n",
      "it[5200] train loss: 0.002237505162483817\n",
      "it[5300] train loss: 0.002745752759569181\n",
      "it[5400] train loss: 0.003355657144665807\n",
      "=== epoch:10, train acc:0.994, test acc:0.988 ===\n",
      "it[5500] train loss: 0.008242071259581834\n",
      "it[5600] train loss: 0.0048657366503614494\n",
      "it[5700] train loss: 0.002817487986677471\n",
      "it[5800] train loss: 0.005685256267730496\n",
      "it[5900] train loss: 0.002353531203142922\n",
      "it[6000] train loss: 0.01449513399035925\n",
      "=== epoch:11, train acc:0.995, test acc:0.983 ===\n",
      "it[6100] train loss: 0.03420405500518937\n",
      "it[6200] train loss: 0.0013344593571933217\n",
      "it[6300] train loss: 0.0018962955820479718\n",
      "it[6400] train loss: 0.0032779259108882217\n",
      "it[6500] train loss: 0.018210433613290358\n",
      "it[6600] train loss: 0.008146099432704865\n",
      "=== epoch:12, train acc:0.994, test acc:0.985 ===\n",
      "it[6700] train loss: 0.00515016054215675\n",
      "it[6800] train loss: 0.0022029629822035344\n",
      "it[6900] train loss: 0.0007196502661830792\n",
      "it[7000] train loss: 0.005795500050997244\n",
      "it[7100] train loss: 0.0005367134805909956\n",
      "it[7200] train loss: 0.017323515276469664\n",
      "=== epoch:13, train acc:1.0, test acc:0.987 ===\n",
      "it[7300] train loss: 0.00037772664906533836\n",
      "it[7400] train loss: 0.004555133651444636\n",
      "it[7500] train loss: 0.0025650119780871047\n",
      "it[7600] train loss: 0.0008756277203072637\n",
      "it[7700] train loss: 0.0014700989294242838\n",
      "it[7800] train loss: 0.007665990264730301\n",
      "=== epoch:14, train acc:0.997, test acc:0.988 ===\n",
      "it[7900] train loss: 0.0016978920555410582\n",
      "it[8000] train loss: 0.005265326729982689\n",
      "it[8100] train loss: 0.00043193667237393616\n",
      "it[8200] train loss: 0.0019008063403852054\n",
      "it[8300] train loss: 0.0052646214358740675\n",
      "it[8400] train loss: 0.0027400259691806234\n",
      "=== epoch:15, train acc:0.997, test acc:0.982 ===\n",
      "it[8500] train loss: 0.0005171255490253604\n",
      "it[8600] train loss: 0.007181911586753338\n",
      "it[8700] train loss: 0.002380050029567942\n",
      "it[8800] train loss: 0.00036270953697654256\n",
      "it[8900] train loss: 0.00274815525631996\n",
      "it[9000] train loss: 0.0020831149326310926\n",
      "=== epoch:16, train acc:0.998, test acc:0.986 ===\n",
      "it[9100] train loss: 0.0029928780080996703\n",
      "it[9200] train loss: 5.7252099722143e-05\n",
      "it[9300] train loss: 0.0011427772318685235\n",
      "it[9400] train loss: 0.001612285566277215\n",
      "it[9500] train loss: 0.017085627024306514\n",
      "it[9600] train loss: 0.008875275333702266\n",
      "=== epoch:17, train acc:0.998, test acc:0.981 ===\n",
      "it[9700] train loss: 0.009271242034598068\n",
      "it[9800] train loss: 0.0014234627652831282\n",
      "it[9900] train loss: 0.0004077090057846973\n",
      "it[10000] train loss: 0.000973937283222501\n",
      "it[10100] train loss: 0.0010551700098446345\n",
      "it[10200] train loss: 0.00032355347978439843\n",
      "=== epoch:18, train acc:0.999, test acc:0.987 ===\n",
      "it[10300] train loss: 0.0006249974650384037\n",
      "it[10400] train loss: 0.005711091418598154\n",
      "it[10500] train loss: 0.008850738672315587\n",
      "it[10600] train loss: 0.0006964880742430636\n",
      "it[10700] train loss: 0.0006509587394954447\n",
      "it[10800] train loss: 0.0009112919552609331\n",
      "=== epoch:19, train acc:1.0, test acc:0.988 ===\n",
      "it[10900] train loss: 0.0018485740028806486\n",
      "it[11000] train loss: 0.020093561546175153\n",
      "it[11100] train loss: 5.713472496738066e-05\n",
      "it[11200] train loss: 0.00031086705451851887\n",
      "it[11300] train loss: 0.001830728517628559\n",
      "it[11400] train loss: 0.001907002159599277\n",
      "=== epoch:20, train acc:0.997, test acc:0.986 ===\n",
      "it[11500] train loss: 0.003498353581248144\n",
      "it[11600] train loss: 0.00649586640414851\n",
      "it[11700] train loss: 0.00409287072717497\n",
      "it[11800] train loss: 0.004576665734240338\n",
      "it[11900] train loss: 0.00046284083665194543\n",
      "Saved Network Parameters!\n"
     ]
    },
    {
     "data": {
      "image/png": "[encoded data removed]",
      "text/plain": [
       "<Figure size 432x288 with 1 Axes>"
      ]
     },
     "metadata": {
      "needs_background": "light"
     },
     "output_type": "display_data"
    },
    {
     "name": "stdout",
     "output_type": "stream",
     "text": [
      "CPU times: user 1h 39s, sys: 2h 2min 13s, total: 3h 2min 53s\n",
      "Wall time: 30min 48s\n"
     ]
    }
   ],
   "source": [
    "%%time\n",
    "# coding: utf-8\n",
    "import sys, os\n",
    "sys.path.append(os.pardir)  # 親ディレクトリのファイルをインポートするための設定\n",
    "import numpy as np\n",
    "import matplotlib.pyplot as plt\n",
    "from dataset.mnist import load_mnist\n",
    "from ch07.simple_convnet import SimpleConvNet\n",
    "from common.trainer import Trainer\n",
    "\n",
    "# データの読み込み\n",
    "(x_train, t_train), (x_test, t_test) = load_mnist(flatten=False)\n",
    "\n",
    "# 処理に時間のかかる場合はデータを削減 \n",
    "# x_train, t_train = x_train[:5000], t_train[:5000]\n",
    "# x_test, t_test = x_test[:1000], t_test[:1000]\n",
    "\n",
    "max_epochs = 20\n",
    "\n",
    "network = SimpleConvNet(input_dim=(1,28,28), \n",
    "                        conv_param = {'filter_num': 30, 'filter_size': 5, 'pad': 0, 'stride': 1},\n",
    "                        hidden_size=100, output_size=10, weight_init_std=0.01)\n",
    "                        \n",
    "trainer = Trainer(network, x_train, t_train, x_test, t_test,\n",
    "                  epochs=max_epochs, mini_batch_size=100,\n",
    "                  optimizer='Adam', optimizer_param={'lr': 0.001},\n",
    "                  evaluate_sample_num_per_epoch=1000, verbose=False)\n",
    "trainer.train()\n",
    "\n",
    "# パラメータの保存\n",
    "network.save_params(\"params.pkl\")\n",
    "print(\"Saved Network Parameters!\")\n",
    "\n",
    "# グラフの描画\n",
    "markers = {'train': 'o', 'test': 's'}\n",
    "x = np.arange(max_epochs)\n",
    "plt.plot(x, trainer.train_acc_list, marker='o', label='train', markevery=2)\n",
    "plt.plot(x, trainer.test_acc_list, marker='s', label='test', markevery=2)\n",
    "plt.xlabel(\"epochs\")\n",
    "plt.ylabel(\"accuracy\")\n",
    "plt.ylim(0, 1.0)\n",
    "plt.legend(loc='lower right')\n",
    "plt.show()\n"
   ]
  },
  {
   "cell_type": "markdown",
   "metadata": {},
   "source": [
    "## 7.6 CNNの可視化"
   ]
  },
  {
   "cell_type": "markdown",
   "metadata": {},
   "source": [
    "- CNNで用いられる畳み込み層のフィルター(重み)を画像として表示する\n",
    "- 畳み込み層のフィルターは、エッジやブロブなどのプリミティブな情報を抽出する"
   ]
  },
  {
   "cell_type": "markdown",
   "metadata": {},
   "source": [
    "# 7.6.1 1層目の重みの可視化"
   ]
  },
  {
   "cell_type": "code",
   "execution_count": 12,
   "metadata": {},
   "outputs": [
    {
     "data": {
      "image/png": "[encoded data removed]",
      "text/plain": [
       "<Figure size 432x288 with 30 Axes>"
      ]
     },
     "metadata": {},
     "output_type": "display_data"
    },
    {
     "data": {
      "image/png": "[encoded data removed]",
      "text/plain": [
       "<Figure size 432x288 with 30 Axes>"
      ]
     },
     "metadata": {},
     "output_type": "display_data"
    }
   ],
   "source": [
    "# coding: utf-8\n",
    "import numpy as np\n",
    "import matplotlib.pyplot as plt\n",
    "from ch07.simple_convnet import SimpleConvNet\n",
    "\n",
    "def filter_show(filters, nx=8, margin=3, scale=10):\n",
    "    \"\"\"\n",
    "    c.f. https://gist.github.com/aidiary/07d530d5e08011832b12#file-draw_weight-py\n",
    "    \"\"\"\n",
    "    FN, C, FH, FW = filters.shape\n",
    "    ny = int(np.ceil(FN / nx))\n",
    "\n",
    "    fig = plt.figure()\n",
    "    fig.subplots_adjust(left=0, right=1, bottom=0, top=1, hspace=0.05, wspace=0.05)\n",
    "\n",
    "    for i in range(FN):\n",
    "        ax = fig.add_subplot(ny, nx, i+1, xticks=[], yticks=[])\n",
    "        ax.imshow(filters[i, 0], cmap=plt.cm.gray_r, interpolation='nearest')\n",
    "    plt.show()\n",
    "\n",
    "\n",
    "network = SimpleConvNet()\n",
    "# ランダム初期化後の重み\n",
    "filter_show(network.params['W1'])\n",
    "\n",
    "# 学習後の重み\n",
    "network.load_params(\"params.pkl\")\n",
    "filter_show(network.params['W1'])"
   ]
  },
  {
   "cell_type": "markdown",
   "metadata": {},
   "source": [
    "- 学習前のフィルタはランダムに初期化されているので, 規則性が見られない\n",
    "- 学習を終えたフィルタは気息性がある画像になっている\n",
    "- 畳み込み層のフィルタは`エッジ`や`blob`を見ている "
   ]
  },
  {
   "cell_type": "markdown",
   "metadata": {},
   "source": [
    "## 7.6.2 階層構造による情報抽出"
   ]
  },
  {
   "cell_type": "markdown",
   "metadata": {},
   "source": [
    "- DNNの可視化に関する研究によると層が深くなるにしたがって, 抽出される情報は抽象化されていく\n",
    " - [Visualizing and Understanding Convolutional Networks]()\n",
    " - [Understanding Deep Image Representations by Inverting Them](https://arxiv.org/abs/1412.0035)"
   ]
  },
  {
   "cell_type": "code",
   "execution_count": null,
   "metadata": {},
   "outputs": [],
   "source": []
  }
 ],
 "metadata": {
  "colab": {
   "authorship_tag": "ABX9TyNXXc7E9tbg+hzbnUcVyZ73",
   "collapsed_sections": [],
   "mount_file_id": "1WogcERx00fk9B9Xl3aBVUJkFkrwx_VE2",
   "name": "chpater4-2_4-3_4-4.ipynb",
   "provenance": [
    {
     "file_id": "1hTlLv27iqJTeVxKw9t1tovSZ6oJN7C0v",
     "timestamp": 1655019431203
    }
   ]
  },
  "kernelspec": {
   "display_name": "Python 3",
   "language": "python",
   "name": "python3"
  },
  "language_info": {
   "codemirror_mode": {
    "name": "ipython",
    "version": 3
   },
   "file_extension": ".py",
   "mimetype": "text/x-python",
   "name": "python",
   "nbconvert_exporter": "python",
   "pygments_lexer": "ipython3",
   "version": "3.8.6"
  }
 },
 "nbformat": 4,
 "nbformat_minor": 4
}
