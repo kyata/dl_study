{
 "cells": [
  {
   "cell_type": "markdown",
   "metadata": {
    "id": "ydTsfITlhbn1"
   },
   "source": [
    "# 4.3 数値微分"
   ]
  },
  {
   "cell_type": "code",
   "execution_count": 1,
   "metadata": {
    "id": "bjMl5PnefwK6"
   },
   "outputs": [],
   "source": [
    "# %cd /content/drive/MyDrive/work/\n",
    "# !git clone https://github.com/oreilly-japan/deep-learning-from-scratch.git"
   ]
  },
  {
   "cell_type": "code",
   "execution_count": 2,
   "metadata": {
    "colab": {
     "base_uri": "https://localhost:8080/"
    },
    "executionInfo": {
     "elapsed": 15124,
     "status": "ok",
     "timestamp": 1655019871173,
     "user": {
      "displayName": "Yuki Katayama",
      "userId": "15528639115256770261"
     },
     "user_tz": -540
    },
    "id": "IREB4Wc_gSVm",
    "outputId": "1ec6b67f-81f8-47f9-89f4-352e0281a64d"
   },
   "outputs": [],
   "source": [
    "# from google.colab import drive\n",
    "# drive.mount('/content/drive/')\n",
    "# %cd /content/drive/MyDrive/work/deep-learning-from-scratch/ch04/\n",
    "# %cd /deep-learning-from-scratch"
   ]
  },
  {
   "cell_type": "code",
   "execution_count": 3,
   "metadata": {
    "executionInfo": {
     "elapsed": 4,
     "status": "ok",
     "timestamp": 1655026909736,
     "user": {
      "displayName": "Yuki Katayama",
      "userId": "15528639115256770261"
     },
     "user_tz": -540
    },
    "id": "mG5wuXNxSnc1"
   },
   "outputs": [
    {
     "name": "stdout",
     "output_type": "stream",
     "text": [
      "['/home/jovyan/work/dl_study/01_deep-learning-from-scratch', '/opt/conda/lib/python38.zip', '/opt/conda/lib/python3.8', '/opt/conda/lib/python3.8/lib-dynload', '', '/opt/conda/lib/python3.8/site-packages', '/opt/conda/lib/python3.8/site-packages/IPython/extensions', '/home/jovyan/.ipython', '/home/jovyan/work/dl_study/01_deep-learning-from-scratch/refs']\n"
     ]
    }
   ],
   "source": [
    "import numpy as np\n",
    "import matplotlib.pyplot as plt\n",
    "import logging\n",
    "import sys\n",
    "import os\n",
    "from pathlib import Path\n",
    "\n",
    "# importディレクトリの追加\n",
    "# sys.path.append(os.path.join(os.path.dirname(__file__), '..'))\n",
    "sys.path.append(os.path.join(Path().resolve(), 'refs'))\n",
    "\n",
    "print(sys.path)"
   ]
  },
  {
   "cell_type": "markdown",
   "metadata": {},
   "source": [
    "## 4.3.1. 微分"
   ]
  },
  {
   "cell_type": "markdown",
   "metadata": {
    "id": "2KVjC-cpvXzR"
   },
   "source": [
    "- 微分は\"ある瞬間\"の変化の量を表したもの\n",
    "- 10分間で2kmを走った場合なら\n",
    "    - 直前の１分間に走った距離, 直前の1秒間, 直前の0.1秒間...  のようにある瞬間の変化の量(ある瞬間の速度)を得ることができる\n",
    "\n",
    "- これは以下の式で表すことができる\n",
    "$$\n",
    "    \\frac{d f(x)}{d x} = \\lim_{h \\to 0} \\frac{ f(x + h) - f(x) }{h}\n",
    "$$\n",
    "\n",
    "- 左辺の$\\frac{d f(x)}{d x}$は$f(x)$の$x$についての微分を表す記号\n",
    "    - これは$x$に対する$f(x)$の変化の度合いとなる\n",
    "    - 微分は **$x$の小さな変化によって, 関数$f(x)$の値がどれだけ変化するか**ということを意味する\n",
    "\n",
    "- 微分する際に変化量である$h$を限りなく0に近づける\n",
    "- これは$\\lim_{h \\to 0}$で表せる"
   ]
  },
  {
   "cell_type": "markdown",
   "metadata": {},
   "source": [
    "### 関数の微分を求めるプログラムの実装"
   ]
  },
  {
   "cell_type": "code",
   "execution_count": 4,
   "metadata": {
    "executionInfo": {
     "elapsed": 357,
     "status": "ok",
     "timestamp": 1655024030036,
     "user": {
      "displayName": "Yuki Katayama",
      "userId": "15528639115256770261"
     },
     "user_tz": -540
    },
    "id": "YOhJFNzq6Q70"
   },
   "outputs": [],
   "source": [
    "# 悪い微分の実装\n",
    "def bad_numerical_diff(f, x):\n",
    "    h = 1e-50\n",
    "    return (f(x+h) - f(x)) / h"
   ]
  },
  {
   "cell_type": "markdown",
   "metadata": {
    "id": "45toPVN28rcG"
   },
   "source": [
    "## 悪い実装の問題点\n",
    "\n",
    "- 上記の実装には２つの問題点がある\n",
    "    1. 変化量hに指定している数値(1e-50)が、小さすぎて誤差が発生する(**丸め誤差**)\n",
    "    1. 関数fの差分を取る$f(x+h) - f(x)$で誤差が発生する(**計算誤差**)\n",
    "\n",
    "### 問題点1\n",
    "\n",
    "- 丸め誤差は小数の小さな範囲において数値が省略されてしまうこと\n",
    "- 小さすぎる値を用いることはコンピュータで計算する上で問題となる\n",
    "- 改善点としては**$ 10^{-4} $程度の値を用いれば良い結果が得られやすい**\n",
    "\n",
    "### 問題点2\n",
    "\n",
    "- 真の微分は$x$の位置での関数の傾き(接線)に対応する\n",
    "- 今回の実装で行っている微分は$(x+h)$と$x$間の傾きに対応する\n",
    "- 真の微分と今回の実装の値が厳密には一致しない\n",
    "- この際は$h$を無限に0へと近づけることができないために生じる\n",
    "- 数値微分(近似による接線)には誤差が含まれる\n",
    "- 数値微分による誤差を減らす工夫として、$(x+h)$と$(x-h)$で, 関数$f$の差分を計算することが挙げられる\n",
    "    - この差分は**$x$を中心としてその前後の差分を計算する**\n",
    "    - このことから、**中心差分**と呼ばれる\n",
    "    - $(x+h)と$$x$の差分により関数$f$の差分を計算する手法は**前方差分**と呼ばれる\n"
   ]
  },
  {
   "cell_type": "markdown",
   "metadata": {},
   "source": [
    "![fig4-5](./images/fig4-5.jpg)"
   ]
  },
  {
   "cell_type": "code",
   "execution_count": 5,
   "metadata": {
    "executionInfo": {
     "elapsed": 323,
     "status": "ok",
     "timestamp": 1655024033071,
     "user": {
      "displayName": "Yuki Katayama",
      "userId": "15528639115256770261"
     },
     "user_tz": -540
    },
    "id": "0tVwa6XQ9v45"
   },
   "outputs": [],
   "source": [
    "# 良い微分の実装\n",
    "def numerical_diff(f, x):\n",
    "    h = 1e-4\n",
    "    return (f(x+h) - f(x-h)) / (2*h)"
   ]
  },
  {
   "cell_type": "markdown",
   "metadata": {
    "id": "XmIQJHnHE7QI"
   },
   "source": [
    "- 微小な差分によって微分を求めることは**数値微分**と呼ぶ\n",
    "- 数式の展開によって微分を求めることは, **\"解析的に微分を求める**と表現する\n",
    "- 解析的な微分は, 誤差が含まれない**真の微分**として求めることができる\n"
   ]
  },
  {
   "cell_type": "markdown",
   "metadata": {
    "id": "SiOHrNyQFmqH"
   },
   "source": [
    "## 4.3.2 数値微分の例"
   ]
  },
  {
   "cell_type": "markdown",
   "metadata": {
    "id": "fXZaNldYGJdB"
   },
   "source": [
    "次の二次関数を微分してみる\n",
    "$$\n",
    "    y = 0.01x^{2} + 0.1x\n",
    "$$"
   ]
  },
  {
   "cell_type": "code",
   "execution_count": 6,
   "metadata": {
    "executionInfo": {
     "elapsed": 4,
     "status": "ok",
     "timestamp": 1655023758474,
     "user": {
      "displayName": "Yuki Katayama",
      "userId": "15528639115256770261"
     },
     "user_tz": -540
    },
    "id": "Rs3tlxTSFe9R"
   },
   "outputs": [],
   "source": [
    "def function_1(x):\n",
    "    return .01*x**2 + .1*x"
   ]
  },
  {
   "cell_type": "markdown",
   "metadata": {
    "id": "Q1ONx_1IHNEO"
   },
   "source": [
    "### $f(x) = 0.01x^{2} + 0.1x$のグラフ"
   ]
  },
  {
   "cell_type": "code",
   "execution_count": 7,
   "metadata": {
    "colab": {
     "base_uri": "https://localhost:8080/",
     "height": 279
    },
    "executionInfo": {
     "elapsed": 1022,
     "status": "ok",
     "timestamp": 1655023898001,
     "user": {
      "displayName": "Yuki Katayama",
      "userId": "15528639115256770261"
     },
     "user_tz": -540
    },
    "id": "jdMNKpcKGmiW",
    "outputId": "f50f0e3c-a638-44ee-d3b0-569143988150"
   },
   "outputs": [
    {
     "data": {
      "image/png": "[encoded data removed]",
      "text/plain": [
       "<Figure size 432x288 with 1 Axes>"
      ]
     },
     "metadata": {
      "needs_background": "light"
     },
     "output_type": "display_data"
    }
   ],
   "source": [
    "x = np.arange(0.0, 20.0, 0.1)\n",
    "y = function_1(x)\n",
    "plt.xlabel('x')\n",
    "plt.ylabel('f(x)')\n",
    "plt.plot(x, y)\n",
    "plt.show()"
   ]
  },
  {
   "cell_type": "code",
   "execution_count": 8,
   "metadata": {
    "colab": {
     "base_uri": "https://localhost:8080/"
    },
    "executionInfo": {
     "elapsed": 357,
     "status": "ok",
     "timestamp": 1655024306708,
     "user": {
      "displayName": "Yuki Katayama",
      "userId": "15528639115256770261"
     },
     "user_tz": -540
    },
    "id": "JxeASta5HIXQ",
    "outputId": "5eb3f046-218c-4993-a623-269957417239"
   },
   "outputs": [
    {
     "name": "stdout",
     "output_type": "stream",
     "text": [
      "numerical_diff(function_1, 5): 0.1999999999990898\n",
      "numerical_diff(function_1, 10): 0.2999999999986347\n"
     ]
    }
   ],
   "source": [
    "# 上の関数についてx=5, 10の時の微分計算\n",
    "\n",
    "print(f'numerical_diff(function_1, 5): {numerical_diff(function_1, 5)}')\n",
    "print(f'numerical_diff(function_1, 10): {numerical_diff(function_1, 10)}')"
   ]
  },
  {
   "cell_type": "markdown",
   "metadata": {
    "id": "g6AFJ52NH8kY"
   },
   "source": [
    "ここで計算した微分の値はxに対するf(x)の変化量であり, これは関数の傾きと対応する  \n",
    "$f(x) = 0.01x^{2} + 0.1x$の解析的な解は$\\frac{df(x)}{dx} = 0.02x + 0.1$となる  \n",
    "このため$x=5, 10$での真の微分はそれぞれ, $0.2, 0.3$となるが  \n",
    "上記の数値微分による結果では、**厳密な一致しないこと、その誤差は非常に小さいことがわかる**"
   ]
  },
  {
   "cell_type": "code",
   "execution_count": 9,
   "metadata": {
    "colab": {
     "base_uri": "https://localhost:8080/",
     "height": 283
    },
    "executionInfo": {
     "elapsed": 414,
     "status": "ok",
     "timestamp": 1655024768854,
     "user": {
      "displayName": "Yuki Katayama",
      "userId": "15528639115256770261"
     },
     "user_tz": -540
    },
    "id": "eZ8F9qnKII6o",
    "outputId": "f4367562-1751-45ff-f172-c120485ae8a3"
   },
   "outputs": [
    {
     "name": "stdout",
     "output_type": "stream",
     "text": [
      "0.1999999999990898\n"
     ]
    },
    {
     "data": {
      "image/png": "[encoded data removed]",
      "text/plain": [
       "<Figure size 432x288 with 1 Axes>"
      ]
     },
     "metadata": {
      "needs_background": "light"
     },
     "output_type": "display_data"
    }
   ],
   "source": [
    "def tangent_line(f, x):\n",
    "    d = numerical_diff(f, x)\n",
    "    print(d)\n",
    "    y = f(x) - d*x\n",
    "    return lambda t: d*t + y\n",
    "\n",
    "tf = tangent_line(function_1, 5)\n",
    "y2 = tf(x)\n",
    "\n",
    "plt.plot(x, y)\n",
    "plt.plot(x, y2)\n",
    "plt.show()"
   ]
  },
  {
   "cell_type": "markdown",
   "metadata": {
    "id": "KTiDEpx_KW4Z"
   },
   "source": [
    "## 4.3.3 偏微分\n",
    "\n",
    "次の,引数の二乗和を計算する式の微分を考える\n",
    "$$\n",
    "f(x_0, x_1) = x^{2}_0 + x^2_{1}\n",
    "$$"
   ]
  },
  {
   "cell_type": "code",
   "execution_count": 10,
   "metadata": {
    "executionInfo": {
     "elapsed": 378,
     "status": "ok",
     "timestamp": 1655025183652,
     "user": {
      "displayName": "Yuki Katayama",
      "userId": "15528639115256770261"
     },
     "user_tz": -540
    },
    "id": "QHNYtYA_LxW5"
   },
   "outputs": [],
   "source": [
    "def function_2(x):\n",
    "    return x[0]**2 + x[1]**2\n",
    "    # or return np.sum(x**2)"
   ]
  },
  {
   "cell_type": "markdown",
   "metadata": {
    "id": "0ONidbisMCaP"
   },
   "source": [
    "### $f(x_0, x_1) = x^{2}_0 + x^2_{1}$のグラフ"
   ]
  },
  {
   "cell_type": "markdown",
   "metadata": {
    "id": "tJbeCE41MPrb"
   },
   "source": [
    "偏微分はどの変数に対しての微分かということを区別する必要がある\n",
    "つまり、この例ではx0, x1の２つある変数のどちらの変数に対しての微分を区別する  \n",
    "複数の変数からなる、関数の微分を偏微分と呼ぶ  \n",
    "偏微分は以下の数式で表す  \n",
    "$$\n",
    "    \\frac{\\partial f}{\\partial x_0}, \\frac{\\partial f}{\\partial x_1}\n",
    "$$"
   ]
  },
  {
   "cell_type": "code",
   "execution_count": 11,
   "metadata": {
    "colab": {
     "base_uri": "https://localhost:8080/"
    },
    "executionInfo": {
     "elapsed": 564,
     "status": "ok",
     "timestamp": 1655028010244,
     "user": {
      "displayName": "Yuki Katayama",
      "userId": "15528639115256770261"
     },
     "user_tz": -540
    },
    "id": "ElTuOc_zNY4L",
    "outputId": "fe915622-e9e2-44c7-9819-41de6decde3f"
   },
   "outputs": [
    {
     "name": "stdout",
     "output_type": "stream",
     "text": [
      "numerical_diff(function_tmp1, 3.0): 6.00000000000378\n",
      "numerical_diff(function_tmp2, 4.0): 7.999999999999119\n"
     ]
    }
   ],
   "source": [
    "def function_tmp1(x0):\n",
    "    return x0*x0 + 4.0**2\n",
    "\n",
    "def function_tmp2(x1):\n",
    "    return 3.0**2.0 + x1*x1\n",
    "\n",
    "print(f'numerical_diff(function_tmp1, 3.0): {numerical_diff(function_tmp1, 3.0)}')\n",
    "print(f'numerical_diff(function_tmp2, 4.0): {numerical_diff(function_tmp2, 4.0)}')"
   ]
  },
  {
   "cell_type": "markdown",
   "metadata": {
    "id": "BSyBLbwvN5k9"
   },
   "source": [
    "変数が一つだけの関数を定義して、その関数について微分を求めている\n",
    "\n",
    "問1の場合$x_1=4$で固定した新しい関数を定義してから\n",
    "変数が$x_0$だけの関数に対して$x_0$だけの関数に対して数値微分を適用している\n",
    "\n",
    "これは、解析的な微分の解とほぼ一致する\n",
    "\n",
    "偏微分は１変数の微分と同じである場所の傾きを求める  \n",
    "ただし偏微分の場合、複数ある変数の中でターゲットとする変数を一つにしぼり、**他の変数は定数として固定する**  \n",
    "上の例では, ターゲットとする変数以外を特定の値に固定するために新しい関数を定義した  \n",
    "そして, **新しく定義した関数に対して、これまで使用した数値微分の関数を適用して偏微分を求めた**"
   ]
  },
  {
   "cell_type": "markdown",
   "metadata": {
    "id": "SNDQBwhjOVxJ"
   },
   "source": [
    "## 4.4 勾配\n",
    "\n",
    "先の例では$x_0$と$x_1$の偏微分の計算を変数ごとに計算していた  \n",
    "ここでは、$x_0$と$x_1$の偏微分を**まとめて計算する**\n",
    "\n",
    "たとえば、$x_0=3$, $x_1=4$のとき, 両方の変数$(x_0, x_1)$についての偏微分$(\\frac{\\partial f}{\\partial x_0}, \\frac{\\partial f}{\\partial x_1})$を考える\n",
    "\n",
    "<u>すべての変数の偏微分をベクトルとしてまとめたものを**勾配(gradient)**と呼ぶ</u>  \n",
    "<u>勾配が示す方向は、**各場所において関数の値を最も減らす方向**となる</u>\n"
   ]
  },
  {
   "cell_type": "code",
   "execution_count": 12,
   "metadata": {
    "executionInfo": {
     "elapsed": 3,
     "status": "ok",
     "timestamp": 1655027724977,
     "user": {
      "displayName": "Yuki Katayama",
      "userId": "15528639115256770261"
     },
     "user_tz": -540
    },
    "id": "nUqqBNRaPjHW"
   },
   "outputs": [],
   "source": [
    "def numerical_gradient(f, x):\n",
    "    h = 1e-4\n",
    "    grad = np.zeros_like(x)\n",
    "\n",
    "    for idx in range(x.size):\n",
    "        tmp_val = x[idx]\n",
    "        # f(x+h)の計算\n",
    "        x[idx] = tmp_val + h\n",
    "        fxh1 = f(x)\n",
    "\n",
    "        #f(x-h)の計算\n",
    "        x[idx] = tmp_val - h\n",
    "        fxh2 = f(x)\n",
    "\n",
    "        grad[idx] = (fxh1 - fxh2) / (2*h)\n",
    "        x[idx] = tmp_val    #値をもとに戻す\n",
    "\n",
    "    return grad"
   ]
  },
  {
   "cell_type": "code",
   "execution_count": 13,
   "metadata": {
    "id": "E5SO3z2HVmXX"
   },
   "outputs": [
    {
     "name": "stdout",
     "output_type": "stream",
     "text": [
      "numerical_gradient(function_2, np.array([3.0, 4.0])): [6. 8.]\n",
      "numerical_gradient(function_2, np.array([0.0, 2.0])): [0. 4.]\n",
      "numerical_gradient(function_2, np.array([3.0, 0.0])): [6. 0.]\n"
     ]
    }
   ],
   "source": [
    "print(f'numerical_gradient(function_2, np.array([3.0, 4.0])): {numerical_gradient(function_2, np.array([3.0, 4.0]))}')\n",
    "print(f'numerical_gradient(function_2, np.array([0.0, 2.0])): {numerical_gradient(function_2, np.array([0.0, 2.0]))}')\n",
    "print(f'numerical_gradient(function_2, np.array([3.0, 0.0])): {numerical_gradient(function_2, np.array([3.0, 0.0]))}')"
   ]
  },
  {
   "cell_type": "code",
   "execution_count": 14,
   "metadata": {},
   "outputs": [
    {
     "data": {
      "image/png": "[encoded data removed]",
      "text/plain": [
       "<Figure size 432x288 with 1 Axes>"
      ]
     },
     "metadata": {
      "needs_background": "light"
     },
     "output_type": "display_data"
    }
   ],
   "source": [
    "import numpy as np\n",
    "import matplotlib.pylab as plt\n",
    "from mpl_toolkits.mplot3d import Axes3D\n",
    "\n",
    "def _numerical_gradient_no_batch(f, x):\n",
    "    h = 1e-4  # 0.0001\n",
    "    grad = np.zeros_like(x)\n",
    "    \n",
    "    for idx in range(x.size):\n",
    "        tmp_val = x[idx]\n",
    "        x[idx] = float(tmp_val) + h\n",
    "        fxh1 = f(x)  # f(x+h)\n",
    "        \n",
    "        x[idx] = tmp_val - h \n",
    "        fxh2 = f(x)  # f(x-h)\n",
    "        grad[idx] = (fxh1 - fxh2) / (2*h)\n",
    "        \n",
    "        x[idx] = tmp_val  # 値を元に戻す\n",
    "        \n",
    "    return grad\n",
    "\n",
    "\n",
    "def numerical_gradient(f, X):\n",
    "    if X.ndim == 1:\n",
    "        return _numerical_gradient_no_batch(f, X)\n",
    "    else:\n",
    "        grad = np.zeros_like(X)\n",
    "        \n",
    "        for idx, x in enumerate(X):\n",
    "            grad[idx] = _numerical_gradient_no_batch(f, x)\n",
    "        \n",
    "        return grad\n",
    "\n",
    "\n",
    "def function_2(x):\n",
    "    if x.ndim == 1:\n",
    "        return np.sum(x**2)\n",
    "    else:\n",
    "        return np.sum(x**2, axis=1)\n",
    "\n",
    "\n",
    "def tangent_line(f, x):\n",
    "    d = numerical_gradient(f, x)\n",
    "    print(d)\n",
    "    y = f(x) - d*x\n",
    "    return lambda t: d*t + y\n",
    "\n",
    "\n",
    "if __name__ == '__main__':\n",
    "    x0 = np.arange(-2, 2.5, 0.25)\n",
    "    x1 = np.arange(-2, 2.5, 0.25)\n",
    "    X, Y = np.meshgrid(x0, x1)\n",
    "    \n",
    "    X = X.flatten()\n",
    "    Y = Y.flatten()\n",
    "\n",
    "    grad = numerical_gradient(function_2, np.array([X, Y]).T).T\n",
    "\n",
    "    plt.figure()\n",
    "    plt.quiver(X, Y, -grad[0], -grad[1],  angles=\"xy\",color=\"#666666\")\n",
    "    plt.xlim([-2, 2])\n",
    "    plt.ylim([-2, 2])\n",
    "    plt.xlabel('x0')\n",
    "    plt.ylabel('x1')\n",
    "    plt.grid()\n",
    "    plt.draw()\n",
    "    plt.show()"
   ]
  },
  {
   "cell_type": "markdown",
   "metadata": {},
   "source": [
    "### 4.4.1 勾配法\n",
    "\n",
    "- 機械学習問題の多くは、学習時に最適なパラメータ(重みとバイアス)を探索する\n",
    "- NNも、上記と同様に最適なパラメータを学習時に見つけなければならない\n",
    "\n",
    "- ここでの\"最適なパラメータ\"とは, **損失関数が最小値を取るときのパラメータ値**を指す\n",
    "- 一般に損失関数は複雑かつ、パラメータ空間は広大となるため, 最小値を探索することは容易ではない\n",
    "- 勾配法は各地点において、関数の値を最も減らす方向を示す\n",
    "- 勾配が指す先が本当に関数の最小値なのかどうか、**その先が本当に進むべき方向なのかどうか保証することはできない**\n",
    "\n",
    "#### 鞍点\n",
    "\n",
    "- 関数の極小値や最小値などは鞍点(saddle point)と呼ばれ, 鞍点では勾配が0になる\n",
    "- 極小値は局所的な最小値を示す\n",
    "- 勾配法は勾配が0の場所を探索するが, その場所が必ずしも最小値であるとは限らない\n",
    "- 関数が複雑で歪な形をしている場合は, プラトーと呼ばれる学習が進まない停滞期に陥ることがある\n",
    "\n",
    "- 複雑な関数においては,**勾配が指す方向は最小値でない場合がほとんど**\n",
    "- 勾配が必ず最小値を指すとは限らないが, その方向に進むことで関数の値を最も減らすことができる\n",
    "\n",
    "- 勾配法は現在の場所から勾配方向に**一定の距離だけ進む**  \n",
    "  さらに**移動した先でも同様に勾配を求めて, またその勾配方向へ進むという事を繰り返す**\n",
    "  \n",
    "- 勾配方向へ進むことを繰り返すことで, 関数の値を徐々に減らすことを**勾配法(gradient method)**と呼ぶ\n",
    "\n",
    "- 勾配法は機械学習の最適化問題で使用されることが多く, NNの学習では勾配法がよく使用される\n",
    "\n",
    "- 勾配法は以下の式で表すことができる\n",
    "\n",
    "$$\n",
    "    x_0 = x_0 - \\eta \\frac{\\partial f}{\\partial x_0}, \n",
    "    x_1 = x_1 - \\eta \\frac{\\partial f}{\\partial x_1}\n",
    "$$\n",
    "\n",
    "#### 学習率\n",
    "\n",
    "- 上記における$\\eta$は更新の量を表し, NNの学習においては**学習率(learning rate)**と呼ぶ\n",
    "- LRは1回の学習で, どれだけパラメータを更新するかということを決める\n",
    "- 上記の式は一回の更新式を示しており, 学習ではこれを繰り返し行う\n",
    "    - つまりステップ毎に変数の値を更新していき, それを繰り返すことで徐々に関数の値を減らす\n",
    "    - 上記例では、変数が2つの場合を示しているが, さらに変数の数が増えても同じような式で更新できる\n",
    "    \n",
    "- 学習率の値は0.01や0.001など前もって決めておく必要がある\n",
    "\n",
    "- 学習率は、一般的に大きすぎても, 小さすぎても良くない\n",
    "  - 学習率が大きすぎると: **大きな値に発散してしまう**\n",
    "  - 学習率が小さすぎると: **パラメータがほとんど更新されない**"
   ]
  },
  {
   "cell_type": "code",
   "execution_count": 15,
   "metadata": {},
   "outputs": [],
   "source": [
    "def gradient_descent(f, init_x, lr=0.01, step_num=100):\n",
    "    x = init_x\n",
    "    for i in range(step_num):\n",
    "        grad = numerical_gradient(f, x)\n",
    "        x -= lr * grad\n",
    "    return x\n",
    "\n",
    "def function_2(x):\n",
    "    return x[0]**2 + x[1]**2"
   ]
  },
  {
   "cell_type": "code",
   "execution_count": 16,
   "metadata": {},
   "outputs": [
    {
     "name": "stdout",
     "output_type": "stream",
     "text": [
      "gradient_descent(function_2, init_x=init_x, lr=0.1, step_num=100): [-6.11110793e-10  8.14814391e-10]\n"
     ]
    }
   ],
   "source": [
    "# 学習率が適切な例の勾配法\n",
    "init_x = np.array([-3.0, 4.0])\n",
    "print(f'gradient_descent(function_2, init_x=init_x, lr=0.1, step_num=100): {gradient_descent(function_2, init_x=init_x, lr=0.1, step_num=100)}')"
   ]
  },
  {
   "cell_type": "markdown",
   "metadata": {},
   "source": [
    "疑問メモ\n",
    "- plotの個数は100個あるの?"
   ]
  },
  {
   "cell_type": "code",
   "execution_count": 17,
   "metadata": {},
   "outputs": [
    {
     "name": "stdout",
     "output_type": "stream",
     "text": [
      "gradient_descent(function_2, init_x=init_x, lr=10.0, step_num=100):       [ 2.34235971e+12 -3.96091057e+12]\n",
      "gradient_descent(function_2, init_x=init_x, lr=1e-10, step_num=100):       [ 2.34235971e+12 -3.96091057e+12]\n"
     ]
    }
   ],
   "source": [
    "# 学習率が適切な例の勾配法\n",
    "\n",
    "print(f'gradient_descent(function_2, init_x=init_x, lr=10.0, step_num=100): \\\n",
    "      {gradient_descent(function_2, init_x=init_x, lr=10.0, step_num=100)}')\n",
    "\n",
    "print(f'gradient_descent(function_2, init_x=init_x, lr=1e-10, step_num=100): \\\n",
    "      {gradient_descent(function_2, init_x=init_x, lr=1e-10, step_num=100)}')"
   ]
  },
  {
   "cell_type": "markdown",
   "metadata": {},
   "source": [
    "### 4.4.2 ニューラルネットワークに対する勾配\n",
    "\n",
    "- NNの学習においても勾配を求める必要がある\n",
    "    - ここでの勾配は重みパラメータに対する損失関数の勾配\n",
    "\n",
    "- 形状が2\\*3の重み$W$を持つNNがあり、損失関数を$L$で表す場合  \n",
    "勾配$\\frac{\\partial L}{\\partial W}$は以下の式で表す\n",
    "\n",
    "$$\n",
    "W =\\begin{pmatrix}\n",
    "        \\ w_{11} & w_{12} & w_{13} \\\\\n",
    "        \\ w_{21} & w_{22} & w_{23}\n",
    "    \\end{pmatrix}\n",
    "$$\n",
    "\n",
    "$$\n",
    "\\frac{\\partial L}{\\partial W} = \\begin{pmatrix}\n",
    "     \\ \\frac{\\partial L}{w_{11}} & \\frac{\\partial L}{w_{12}} & \\frac{\\partial L}{w_{13}} \\\\\n",
    "     \\ \\frac{\\partial L}{\\partial w_{21}} & \\frac{\\partial L}{\\partial w_{22}} & \\frac{\\partial L}{\\partial w_{23}}\n",
    "\\end{pmatrix}\n",
    "$$\n",
    "\n",
    "\n",
    "- 勾配$\\frac{\\partial L}{\\partial W}$の各要素はそれぞれの要素に関する偏微分から構成される\n",
    "\n",
    "- **勾配$\\frac{\\partial L}{\\partial W}$の形状は重み$W$の形状と同じになる**\n",
    "    \n",
    "\n"
   ]
  },
  {
   "cell_type": "markdown",
   "metadata": {},
   "source": [
    "## 4.5 学習アルゴリズムの実装\n",
    "\n",
    "- NNは適用可能な重みとバイアスをもちこの重みとバイアスを訓練データに適応するように調整することを*学習*と呼ぶ\n",
    "- NNの学習学習アルゴリズムは以下の順序で実行される\n",
    "    1. **ミニバッチ選択**\n",
    "    1. **勾配算出**\n",
    "    1. **重みパラメータを更新**\n",
    "    1. **1～3を繰り返す**\n",
    "    \n",
    "- 上記の手法を**\"確率的勾配降下法(Stochastic Gradient Descent)\"**と呼ぶ"
   ]
  },
  {
   "cell_type": "markdown",
   "metadata": {},
   "source": [
    "### 4.5.1. 2層ニューラルネットワークのクラス"
   ]
  },
  {
   "cell_type": "markdown",
   "metadata": {},
   "source": [
    "- 初期化メソッド __init__()では, 重みパラメータの初期化を行う\n",
    "\n",
    "- 重みパラメータの初期値には様々な初期化手法がある\n",
    "    - ref. https://ai-trend.jp/basic-study/neural-network/initial_value/"
   ]
  },
  {
   "cell_type": "code",
   "execution_count": 18,
   "metadata": {},
   "outputs": [],
   "source": [
    "# coding: utf-8\n",
    "import numpy as np\n",
    "\n",
    "def _numerical_gradient_1d(f, x):\n",
    "    h = 1e-4 # 0.0001\n",
    "    grad = np.zeros_like(x)\n",
    "    \n",
    "    for idx in range(x.size):\n",
    "        tmp_val = x[idx]\n",
    "        x[idx] = float(tmp_val) + h\n",
    "        fxh1 = f(x) # f(x+h)\n",
    "        \n",
    "        x[idx] = tmp_val - h \n",
    "        fxh2 = f(x) # f(x-h)\n",
    "        grad[idx] = (fxh1 - fxh2) / (2*h)\n",
    "        \n",
    "        x[idx] = tmp_val # 値を元に戻す\n",
    "        \n",
    "    return grad\n",
    "\n",
    "\n",
    "def numerical_gradient_2d(f, X):\n",
    "    if X.ndim == 1:\n",
    "        return _numerical_gradient_1d(f, X)\n",
    "    else:\n",
    "        grad = np.zeros_like(X)\n",
    "        \n",
    "        for idx, x in enumerate(X):\n",
    "            grad[idx] = _numerical_gradient_1d(f, x)\n",
    "        \n",
    "        return grad\n",
    "\n",
    "\n",
    "def numerical_gradient(f, x):\n",
    "    h = 1e-4 # 0.0001\n",
    "    grad = np.zeros_like(x)\n",
    "    print(f'{x.shape}')\n",
    "    \n",
    "    it = np.nditer(x, flags=['multi_index'], op_flags=['readwrite'])\n",
    "    while not it.finished:\n",
    "        # print(f'it.multi_index: {it.multi_index}')\n",
    "        idx = it.multi_index\n",
    "        tmp_val = x[idx]\n",
    "        x[idx] = tmp_val + h\n",
    "        fxh1 = f(x) # f(x+h)\n",
    "        \n",
    "        x[idx] = tmp_val - h \n",
    "        fxh2 = f(x) # f(x-h)\n",
    "        grad[idx] = (fxh1 - fxh2) / (2*h)\n",
    "        \n",
    "        x[idx] = tmp_val # 値を元に戻す\n",
    "        it.iternext()\n",
    "        \n",
    "    return grad"
   ]
  },
  {
   "cell_type": "code",
   "execution_count": 19,
   "metadata": {},
   "outputs": [],
   "source": [
    "import sys, os\n",
    "import logging\n",
    "sys.path.append(os.pardir)\n",
    "from common.functions import *\n",
    "from common.gradient import numerical_gradient\n",
    "\n",
    "class TwoLayerNet:\n",
    "    \n",
    "    def __init__(self, input_size, hidden_size, output_size, weight_init_std=0.01):\n",
    "        \n",
    "        # 重みの初期化(重みは乱数, バイアスは0で初期化)\n",
    "        self.params = {}\n",
    "        self.params['W1'] = weight_init_std + np.random.randn(input_size, hidden_size)\n",
    "        self.params['b1'] = np.zeros(hidden_size)\n",
    "        self.params['W2'] = weight_init_std * np.random.randn(hidden_size, output_size)\n",
    "        self.params['b2'] = np.zeros(output_size)\n",
    "        \n",
    "    # 推論処理(foward)\n",
    "    def predict(self, x):\n",
    "        W1, W2 = self.params['W1'], self.params['W2']\n",
    "        b1, b2 = self.params['b1'], self.params['b2']\n",
    "                \n",
    "        a1 = np.dot(x, W1) + b1\n",
    "        z1 = sigmoid(a1)\n",
    "        a2 = np.dot(z1, W2) + b2\n",
    "        y = softmax(a2)\n",
    "        logging.debug(f'pred(): x: {x}')\n",
    "        logging.debug(f'pred(): -> y {y}')\n",
    "        \n",
    "        return y\n",
    "        \n",
    "    # 損失関数(x: 入力データ, t: 教師データ)\n",
    "    def loss(self, x, t):\n",
    "        y = self.predict(x)\n",
    "        \n",
    "        # 推論結果と教師データのクロスエントロピーで損失計算\n",
    "        l = cross_entropy_error(y, t)\n",
    "        logging.debug(f'loss(): loss: {l}')\n",
    "        \n",
    "        return l\n",
    "    \n",
    "    # 正解率計算\n",
    "    def accuracy(self, x, t):\n",
    "        y = self.predict(x)\n",
    "        \n",
    "        # yベクトルについて, 最大となるものを取る\n",
    "        y = np.argmax(y, axis=1)\n",
    "        t = np.argmax(t, axis=1)\n",
    "        \n",
    "        # 教師データと一致している推論結果を算出\n",
    "        accuracy = np.sum(y == t) / float(x.shape[0])\n",
    "        return accuracy\n",
    "    \n",
    "    def numerical_grad(self, x, t):\n",
    "        loss_W = lambda W: self.loss(x, t)\n",
    "                \n",
    "        grads = {}  # 勾配\n",
    "        grads['W1'] = numerical_gradient(loss_W, self.params['W1'])\n",
    "        print(f'W1 grads: {W1}')\n",
    "        grads['b1'] = numerical_gradient(loss_W, self.params['b1'])\n",
    "        print(f'b1 grads: {b1}')\n",
    "        grads['W2'] = numerical_gradient(loss_W, self.params['W2'])\n",
    "        print(f'W1 grads: {W2}')\n",
    "        grads['b2'] = numerical_gradient(loss_W, self.params['b2'])\n",
    "        print(f'b2 grads: {b2}')\n",
    "        \n",
    "        return grads"
   ]
  },
  {
   "cell_type": "markdown",
   "metadata": {},
   "source": [
    "## 4.5.2 ミニバッチ学習の実装"
   ]
  },
  {
   "cell_type": "code",
   "execution_count": 22,
   "metadata": {},
   "outputs": [
    {
     "name": "stderr",
     "output_type": "stream",
     "text": [
      "  0%|          | 1/10000 [00:23<65:07:50, 23.45s/it]\n"
     ]
    },
    {
     "ename": "KeyboardInterrupt",
     "evalue": "",
     "output_type": "error",
     "traceback": [
      "\u001b[0;31m---------------------------------------------------------------------------\u001b[0m",
      "\u001b[0;31mKeyboardInterrupt\u001b[0m                         Traceback (most recent call last)",
      "\u001b[0;32m<ipython-input-22-6f7c837c84cc>\u001b[0m in \u001b[0;36m<module>\u001b[0;34m\u001b[0m\n\u001b[1;32m     26\u001b[0m \u001b[0;34m\u001b[0m\u001b[0m\n\u001b[1;32m     27\u001b[0m     \u001b[0;31m# clacurate gradient\u001b[0m\u001b[0;34m\u001b[0m\u001b[0;34m\u001b[0m\u001b[0;34m\u001b[0m\u001b[0m\n\u001b[0;32m---> 28\u001b[0;31m     \u001b[0mgrad\u001b[0m \u001b[0;34m=\u001b[0m \u001b[0mnetwork\u001b[0m\u001b[0;34m.\u001b[0m\u001b[0mnumerical_gradient\u001b[0m\u001b[0;34m(\u001b[0m\u001b[0mx_batch\u001b[0m\u001b[0;34m,\u001b[0m \u001b[0mt_batch\u001b[0m\u001b[0;34m)\u001b[0m\u001b[0;34m\u001b[0m\u001b[0;34m\u001b[0m\u001b[0m\n\u001b[0m\u001b[1;32m     29\u001b[0m     \u001b[0;31m# grad = network.gradient(x_batch, t_batch)  # 高速版\u001b[0m\u001b[0;34m\u001b[0m\u001b[0;34m\u001b[0m\u001b[0;34m\u001b[0m\u001b[0m\n\u001b[1;32m     30\u001b[0m \u001b[0;34m\u001b[0m\u001b[0m\n",
      "\u001b[0;32m~/work/dl_study/01_deep-learning-from-scratch/refs/ch04/two_layer_net.py\u001b[0m in \u001b[0;36mnumerical_gradient\u001b[0;34m(self, x, t)\u001b[0m\n\u001b[1;32m     47\u001b[0m \u001b[0;34m\u001b[0m\u001b[0m\n\u001b[1;32m     48\u001b[0m         \u001b[0mgrads\u001b[0m \u001b[0;34m=\u001b[0m \u001b[0;34m{\u001b[0m\u001b[0;34m}\u001b[0m\u001b[0;34m\u001b[0m\u001b[0;34m\u001b[0m\u001b[0m\n\u001b[0;32m---> 49\u001b[0;31m         \u001b[0mgrads\u001b[0m\u001b[0;34m[\u001b[0m\u001b[0;34m'W1'\u001b[0m\u001b[0;34m]\u001b[0m \u001b[0;34m=\u001b[0m \u001b[0mnumerical_gradient\u001b[0m\u001b[0;34m(\u001b[0m\u001b[0mloss_W\u001b[0m\u001b[0;34m,\u001b[0m \u001b[0mself\u001b[0m\u001b[0;34m.\u001b[0m\u001b[0mparams\u001b[0m\u001b[0;34m[\u001b[0m\u001b[0;34m'W1'\u001b[0m\u001b[0;34m]\u001b[0m\u001b[0;34m)\u001b[0m\u001b[0;34m\u001b[0m\u001b[0;34m\u001b[0m\u001b[0m\n\u001b[0m\u001b[1;32m     50\u001b[0m         \u001b[0mgrads\u001b[0m\u001b[0;34m[\u001b[0m\u001b[0;34m'b1'\u001b[0m\u001b[0;34m]\u001b[0m \u001b[0;34m=\u001b[0m \u001b[0mnumerical_gradient\u001b[0m\u001b[0;34m(\u001b[0m\u001b[0mloss_W\u001b[0m\u001b[0;34m,\u001b[0m \u001b[0mself\u001b[0m\u001b[0;34m.\u001b[0m\u001b[0mparams\u001b[0m\u001b[0;34m[\u001b[0m\u001b[0;34m'b1'\u001b[0m\u001b[0;34m]\u001b[0m\u001b[0;34m)\u001b[0m\u001b[0;34m\u001b[0m\u001b[0;34m\u001b[0m\u001b[0m\n\u001b[1;32m     51\u001b[0m         \u001b[0mgrads\u001b[0m\u001b[0;34m[\u001b[0m\u001b[0;34m'W2'\u001b[0m\u001b[0;34m]\u001b[0m \u001b[0;34m=\u001b[0m \u001b[0mnumerical_gradient\u001b[0m\u001b[0;34m(\u001b[0m\u001b[0mloss_W\u001b[0m\u001b[0;34m,\u001b[0m \u001b[0mself\u001b[0m\u001b[0;34m.\u001b[0m\u001b[0mparams\u001b[0m\u001b[0;34m[\u001b[0m\u001b[0;34m'W2'\u001b[0m\u001b[0;34m]\u001b[0m\u001b[0;34m)\u001b[0m\u001b[0;34m\u001b[0m\u001b[0;34m\u001b[0m\u001b[0m\n",
      "\u001b[0;32m~/work/dl_study/01_deep-learning-from-scratch/refs/common/gradient.py\u001b[0m in \u001b[0;36mnumerical_gradient\u001b[0;34m(f, x)\u001b[0m\n\u001b[1;32m     41\u001b[0m         \u001b[0mtmp_val\u001b[0m \u001b[0;34m=\u001b[0m \u001b[0mx\u001b[0m\u001b[0;34m[\u001b[0m\u001b[0midx\u001b[0m\u001b[0;34m]\u001b[0m\u001b[0;34m\u001b[0m\u001b[0;34m\u001b[0m\u001b[0m\n\u001b[1;32m     42\u001b[0m         \u001b[0mx\u001b[0m\u001b[0;34m[\u001b[0m\u001b[0midx\u001b[0m\u001b[0;34m]\u001b[0m \u001b[0;34m=\u001b[0m \u001b[0mtmp_val\u001b[0m \u001b[0;34m+\u001b[0m \u001b[0mh\u001b[0m\u001b[0;34m\u001b[0m\u001b[0;34m\u001b[0m\u001b[0m\n\u001b[0;32m---> 43\u001b[0;31m         \u001b[0mfxh1\u001b[0m \u001b[0;34m=\u001b[0m \u001b[0mf\u001b[0m\u001b[0;34m(\u001b[0m\u001b[0mx\u001b[0m\u001b[0;34m)\u001b[0m \u001b[0;31m# f(x+h)\u001b[0m\u001b[0;34m\u001b[0m\u001b[0;34m\u001b[0m\u001b[0m\n\u001b[0m\u001b[1;32m     44\u001b[0m \u001b[0;34m\u001b[0m\u001b[0m\n\u001b[1;32m     45\u001b[0m         \u001b[0mx\u001b[0m\u001b[0;34m[\u001b[0m\u001b[0midx\u001b[0m\u001b[0;34m]\u001b[0m \u001b[0;34m=\u001b[0m \u001b[0mtmp_val\u001b[0m \u001b[0;34m-\u001b[0m \u001b[0mh\u001b[0m\u001b[0;34m\u001b[0m\u001b[0;34m\u001b[0m\u001b[0m\n",
      "\u001b[0;32m~/work/dl_study/01_deep-learning-from-scratch/refs/ch04/two_layer_net.py\u001b[0m in \u001b[0;36m<lambda>\u001b[0;34m(W)\u001b[0m\n\u001b[1;32m     44\u001b[0m     \u001b[0;31m# x:入力データ, t:教師データ\u001b[0m\u001b[0;34m\u001b[0m\u001b[0;34m\u001b[0m\u001b[0;34m\u001b[0m\u001b[0m\n\u001b[1;32m     45\u001b[0m     \u001b[0;32mdef\u001b[0m \u001b[0mnumerical_gradient\u001b[0m\u001b[0;34m(\u001b[0m\u001b[0mself\u001b[0m\u001b[0;34m,\u001b[0m \u001b[0mx\u001b[0m\u001b[0;34m,\u001b[0m \u001b[0mt\u001b[0m\u001b[0;34m)\u001b[0m\u001b[0;34m:\u001b[0m\u001b[0;34m\u001b[0m\u001b[0;34m\u001b[0m\u001b[0m\n\u001b[0;32m---> 46\u001b[0;31m         \u001b[0mloss_W\u001b[0m \u001b[0;34m=\u001b[0m \u001b[0;32mlambda\u001b[0m \u001b[0mW\u001b[0m\u001b[0;34m:\u001b[0m \u001b[0mself\u001b[0m\u001b[0;34m.\u001b[0m\u001b[0mloss\u001b[0m\u001b[0;34m(\u001b[0m\u001b[0mx\u001b[0m\u001b[0;34m,\u001b[0m \u001b[0mt\u001b[0m\u001b[0;34m)\u001b[0m\u001b[0;34m\u001b[0m\u001b[0;34m\u001b[0m\u001b[0m\n\u001b[0m\u001b[1;32m     47\u001b[0m \u001b[0;34m\u001b[0m\u001b[0m\n\u001b[1;32m     48\u001b[0m         \u001b[0mgrads\u001b[0m \u001b[0;34m=\u001b[0m \u001b[0;34m{\u001b[0m\u001b[0;34m}\u001b[0m\u001b[0;34m\u001b[0m\u001b[0;34m\u001b[0m\u001b[0m\n",
      "\u001b[0;32m~/work/dl_study/01_deep-learning-from-scratch/refs/ch04/two_layer_net.py\u001b[0m in \u001b[0;36mloss\u001b[0;34m(self, x, t)\u001b[0m\n\u001b[1;32m     30\u001b[0m     \u001b[0;31m# x:入力データ, t:教師データ\u001b[0m\u001b[0;34m\u001b[0m\u001b[0;34m\u001b[0m\u001b[0;34m\u001b[0m\u001b[0m\n\u001b[1;32m     31\u001b[0m     \u001b[0;32mdef\u001b[0m \u001b[0mloss\u001b[0m\u001b[0;34m(\u001b[0m\u001b[0mself\u001b[0m\u001b[0;34m,\u001b[0m \u001b[0mx\u001b[0m\u001b[0;34m,\u001b[0m \u001b[0mt\u001b[0m\u001b[0;34m)\u001b[0m\u001b[0;34m:\u001b[0m\u001b[0;34m\u001b[0m\u001b[0;34m\u001b[0m\u001b[0m\n\u001b[0;32m---> 32\u001b[0;31m         \u001b[0my\u001b[0m \u001b[0;34m=\u001b[0m \u001b[0mself\u001b[0m\u001b[0;34m.\u001b[0m\u001b[0mpredict\u001b[0m\u001b[0;34m(\u001b[0m\u001b[0mx\u001b[0m\u001b[0;34m)\u001b[0m\u001b[0;34m\u001b[0m\u001b[0;34m\u001b[0m\u001b[0m\n\u001b[0m\u001b[1;32m     33\u001b[0m \u001b[0;34m\u001b[0m\u001b[0m\n\u001b[1;32m     34\u001b[0m         \u001b[0;32mreturn\u001b[0m \u001b[0mcross_entropy_error\u001b[0m\u001b[0;34m(\u001b[0m\u001b[0my\u001b[0m\u001b[0;34m,\u001b[0m \u001b[0mt\u001b[0m\u001b[0;34m)\u001b[0m\u001b[0;34m\u001b[0m\u001b[0;34m\u001b[0m\u001b[0m\n",
      "\u001b[0;32m~/work/dl_study/01_deep-learning-from-scratch/refs/ch04/two_layer_net.py\u001b[0m in \u001b[0;36mpredict\u001b[0;34m(self, x)\u001b[0m\n\u001b[1;32m     21\u001b[0m         \u001b[0mb1\u001b[0m\u001b[0;34m,\u001b[0m \u001b[0mb2\u001b[0m \u001b[0;34m=\u001b[0m \u001b[0mself\u001b[0m\u001b[0;34m.\u001b[0m\u001b[0mparams\u001b[0m\u001b[0;34m[\u001b[0m\u001b[0;34m'b1'\u001b[0m\u001b[0;34m]\u001b[0m\u001b[0;34m,\u001b[0m \u001b[0mself\u001b[0m\u001b[0;34m.\u001b[0m\u001b[0mparams\u001b[0m\u001b[0;34m[\u001b[0m\u001b[0;34m'b2'\u001b[0m\u001b[0;34m]\u001b[0m\u001b[0;34m\u001b[0m\u001b[0;34m\u001b[0m\u001b[0m\n\u001b[1;32m     22\u001b[0m \u001b[0;34m\u001b[0m\u001b[0m\n\u001b[0;32m---> 23\u001b[0;31m         \u001b[0ma1\u001b[0m \u001b[0;34m=\u001b[0m \u001b[0mnp\u001b[0m\u001b[0;34m.\u001b[0m\u001b[0mdot\u001b[0m\u001b[0;34m(\u001b[0m\u001b[0mx\u001b[0m\u001b[0;34m,\u001b[0m \u001b[0mW1\u001b[0m\u001b[0;34m)\u001b[0m \u001b[0;34m+\u001b[0m \u001b[0mb1\u001b[0m\u001b[0;34m\u001b[0m\u001b[0;34m\u001b[0m\u001b[0m\n\u001b[0m\u001b[1;32m     24\u001b[0m         \u001b[0mz1\u001b[0m \u001b[0;34m=\u001b[0m \u001b[0msigmoid\u001b[0m\u001b[0;34m(\u001b[0m\u001b[0ma1\u001b[0m\u001b[0;34m)\u001b[0m\u001b[0;34m\u001b[0m\u001b[0;34m\u001b[0m\u001b[0m\n\u001b[1;32m     25\u001b[0m         \u001b[0ma2\u001b[0m \u001b[0;34m=\u001b[0m \u001b[0mnp\u001b[0m\u001b[0;34m.\u001b[0m\u001b[0mdot\u001b[0m\u001b[0;34m(\u001b[0m\u001b[0mz1\u001b[0m\u001b[0;34m,\u001b[0m \u001b[0mW2\u001b[0m\u001b[0;34m)\u001b[0m \u001b[0;34m+\u001b[0m \u001b[0mb2\u001b[0m\u001b[0;34m\u001b[0m\u001b[0;34m\u001b[0m\u001b[0m\n",
      "\u001b[0;32m<__array_function__ internals>\u001b[0m in \u001b[0;36mdot\u001b[0;34m(*args, **kwargs)\u001b[0m\n",
      "\u001b[0;31mKeyboardInterrupt\u001b[0m: "
     ]
    }
   ],
   "source": [
    "import numpy as np\n",
    "from dataset.mnist import load_mnist\n",
    "from ch04.two_layer_net import TwoLayerNet\n",
    "import tqdm\n",
    "\n",
    "logger = logging.getLogger(\"LogTest\")\n",
    "logger.setLevel(logging.DEBUG)\n",
    "\n",
    "(x_train, t_train), (x_test, t_test) = load_mnist(normalize=True, one_hot_label=True)\n",
    "\n",
    "train_loss_list = []\n",
    "\n",
    "# パラメータを更新する回数(=イテレーション数)\n",
    "iters_num = 10000\n",
    "train_size = x_train.shape[0]\n",
    "batch_size = 100\n",
    "learning_rate = 0.1\n",
    "\n",
    "network = TwoLayerNet(input_size=784, hidden_size=50, output_size=10)\n",
    "\n",
    "for i in tqdm.tqdm(range(iters_num)):  \n",
    "    # get mini-batch\n",
    "    batch_mask = np.random.choice(train_size, batch_size)\n",
    "    x_batch = x_train[batch_mask]\n",
    "    t_batch = t_train[batch_mask]\n",
    "    \n",
    "    # clacurate gradient\n",
    "    grad = network.numerical_gradient(x_batch, t_batch)\n",
    "    # grad = network.gradient(x_batch, t_batch)  # 高速版\n",
    "    \n",
    "    # update params\n",
    "    for key in ('W1', 'b1', 'W2', 'b2'):\n",
    "        # 勾配の要素を参照し, その分をパラメータから減算\n",
    "        network.params[key] -= learning_rate * grad[key]\n",
    "        \n",
    "    # 学習経過の記録\n",
    "    loss = network.loss(x_batch, t_batch)\n",
    "    logging.debug(f'loss: {loss}')\n",
    "    \n",
    "    train_loss_list.append(loss)"
   ]
  },
  {
   "cell_type": "markdown",
   "metadata": {},
   "source": [
    "## 4.5.3 テストデータで評価\n",
    "\n",
    "### エポック(epoch)\n",
    "- エポックとは学習において、**訓練データを全て使い切る回数**\n",
    "- 10, 000個の訓練データに対して, 100個のミニバッチで学習する場合\n",
    "- ** SGDを100回繰り返したら, 全ての訓練データを見たことになる(100回 * 100batch = 10,000個) **\n",
    " \n",
    "- 1epoch毎に認識精度を計算する理由は, 時間を短くするため\n",
    "    - おおきな視点でざっくりと認識精度が推定できればよい"
   ]
  },
  {
   "cell_type": "code",
   "execution_count": 23,
   "metadata": {},
   "outputs": [
    {
     "name": "stderr",
     "output_type": "stream",
     "text": [
      "  2%|▏         | 166/10000 [00:00<14:26, 11.34it/s]"
     ]
    },
    {
     "name": "stdout",
     "output_type": "stream",
     "text": [
      "train acc: 0.09751666666666667, test acc: 0.0974\n"
     ]
    },
    {
     "name": "stderr",
     "output_type": "stream",
     "text": [
      "  7%|▋         | 728/10000 [00:00<03:23, 45.56it/s]"
     ]
    },
    {
     "name": "stdout",
     "output_type": "stream",
     "text": [
      "train acc: 0.7768333333333334, test acc: 0.7852\n"
     ]
    },
    {
     "name": "stderr",
     "output_type": "stream",
     "text": [
      " 14%|█▎        | 1352/10000 [00:01<00:39, 217.08it/s]"
     ]
    },
    {
     "name": "stdout",
     "output_type": "stream",
     "text": [
      "train acc: 0.8807166666666667, test acc: 0.8851\n"
     ]
    },
    {
     "name": "stderr",
     "output_type": "stream",
     "text": [
      " 20%|█▉        | 1978/10000 [00:02<00:13, 592.50it/s]"
     ]
    },
    {
     "name": "stdout",
     "output_type": "stream",
     "text": [
      "train acc: 0.9005333333333333, test acc: 0.9026\n"
     ]
    },
    {
     "name": "stderr",
     "output_type": "stream",
     "text": [
      " 26%|██▌       | 2603/10000 [00:02<00:08, 833.82it/s]"
     ]
    },
    {
     "name": "stdout",
     "output_type": "stream",
     "text": [
      "train acc: 0.90855, test acc: 0.9128\n"
     ]
    },
    {
     "name": "stderr",
     "output_type": "stream",
     "text": [
      " 32%|███▏      | 3228/10000 [00:03<00:07, 896.00it/s] "
     ]
    },
    {
     "name": "stdout",
     "output_type": "stream",
     "text": [
      "train acc: 0.9148833333333334, test acc: 0.9194\n"
     ]
    },
    {
     "name": "stderr",
     "output_type": "stream",
     "text": [
      " 37%|███▋      | 3728/10000 [00:03<00:07, 890.20it/s] "
     ]
    },
    {
     "name": "stdout",
     "output_type": "stream",
     "text": [
      "train acc: 0.9206166666666666, test acc: 0.924\n"
     ]
    },
    {
     "name": "stderr",
     "output_type": "stream",
     "text": [
      " 43%|████▎     | 4348/10000 [00:04<00:06, 903.04it/s] "
     ]
    },
    {
     "name": "stdout",
     "output_type": "stream",
     "text": [
      "train acc: 0.9242333333333334, test acc: 0.9273\n"
     ]
    },
    {
     "name": "stderr",
     "output_type": "stream",
     "text": [
      " 50%|████▉     | 4973/10000 [00:05<00:05, 908.98it/s] "
     ]
    },
    {
     "name": "stdout",
     "output_type": "stream",
     "text": [
      "train acc: 0.9267333333333333, test acc: 0.9286\n"
     ]
    },
    {
     "name": "stderr",
     "output_type": "stream",
     "text": [
      " 56%|█████▌    | 5598/10000 [00:05<00:04, 909.84it/s] "
     ]
    },
    {
     "name": "stdout",
     "output_type": "stream",
     "text": [
      "train acc: 0.9305833333333333, test acc: 0.9322\n"
     ]
    },
    {
     "name": "stderr",
     "output_type": "stream",
     "text": [
      " 62%|██████▏   | 6224/10000 [00:06<00:04, 909.29it/s] "
     ]
    },
    {
     "name": "stdout",
     "output_type": "stream",
     "text": [
      "train acc: 0.93255, test acc: 0.9339\n"
     ]
    },
    {
     "name": "stderr",
     "output_type": "stream",
     "text": [
      " 67%|██████▋   | 6728/10000 [00:06<00:03, 900.93it/s] "
     ]
    },
    {
     "name": "stdout",
     "output_type": "stream",
     "text": [
      "train acc: 0.9366333333333333, test acc: 0.936\n"
     ]
    },
    {
     "name": "stderr",
     "output_type": "stream",
     "text": [
      " 74%|███████▎  | 7353/10000 [00:07<00:02, 907.06it/s] "
     ]
    },
    {
     "name": "stdout",
     "output_type": "stream",
     "text": [
      "train acc: 0.9386333333333333, test acc: 0.937\n"
     ]
    },
    {
     "name": "stderr",
     "output_type": "stream",
     "text": [
      " 80%|███████▉  | 7979/10000 [00:08<00:02, 910.31it/s] "
     ]
    },
    {
     "name": "stdout",
     "output_type": "stream",
     "text": [
      "train acc: 0.9406833333333333, test acc: 0.9395\n"
     ]
    },
    {
     "name": "stderr",
     "output_type": "stream",
     "text": [
      " 86%|████████▌ | 8605/10000 [00:08<00:01, 908.98it/s] "
     ]
    },
    {
     "name": "stdout",
     "output_type": "stream",
     "text": [
      "train acc: 0.9433166666666667, test acc: 0.9418\n"
     ]
    },
    {
     "name": "stderr",
     "output_type": "stream",
     "text": [
      " 92%|█████████▏| 9232/10000 [00:09<00:00, 910.13it/s] "
     ]
    },
    {
     "name": "stdout",
     "output_type": "stream",
     "text": [
      "train acc: 0.9459666666666666, test acc: 0.9433\n"
     ]
    },
    {
     "name": "stderr",
     "output_type": "stream",
     "text": [
      " 97%|█████████▋| 9728/10000 [00:10<00:00, 887.87it/s] "
     ]
    },
    {
     "name": "stdout",
     "output_type": "stream",
     "text": [
      "train acc: 0.9473, test acc: 0.9464\n"
     ]
    },
    {
     "name": "stderr",
     "output_type": "stream",
     "text": [
      "100%|██████████| 10000/10000 [00:10<00:00, 973.10it/s]\n"
     ]
    }
   ],
   "source": [
    "import numpy as np\n",
    "from dataset.mnist import load_mnist\n",
    "from ch04.two_layer_net import TwoLayerNet\n",
    "import tqdm\n",
    "\n",
    "(x_train, t_train), (x_test, t_test) = load_mnist(normalize=True, one_hot_label=True)\n",
    "train_size = x_train.shape[0]\n",
    "\n",
    "# ハイパラ\n",
    "iters_num = 10000\n",
    "batch_size = 100\n",
    "learning_rate = 0.1\n",
    "\n",
    "train_loss_list = []\n",
    "train_acc_list = []\n",
    "test_acc_list = []\n",
    "\n",
    "# 1エポックあたりの繰り返し数\n",
    "iter_per_epoch = max(train_size / batch_size, 1)\n",
    "\n",
    "network = TwoLayerNet(input_size=784, hidden_size=50, output_size=10)\n",
    "\n",
    "for i in tqdm.tqdm(range(iters_num)):\n",
    "    # ミニバッチの取得\n",
    "    batch_mask = np.random.choice(train_size, batch_size)\n",
    "    x_batch = x_train[batch_mask]\n",
    "    t_batch = t_train[batch_mask]\n",
    "    \n",
    "    # 勾配の計算\n",
    "    # grad = network.numerical_gradient(x_batch, t_batch)\n",
    "    grad = network.gradient(x_batch, t_batch) # 高速版\n",
    "    \n",
    "    # パラメータの更新(それぞれのモデルのパラメータから LRをかけた勾配を引く)\n",
    "    for key in ('W1', 'b1', 'W2', 'b2'):\n",
    "        network.params[key] -= learning_rate * grad[key]\n",
    "        \n",
    "    loss = network.loss(x_batch, t_batch)\n",
    "    train_loss_list.append(loss)\n",
    "    \n",
    "    # 1エポック毎に認識精度を計算\n",
    "    \n",
    "    if i % iter_per_epoch == 0:\n",
    "        train_acc = network.accuracy(x_train, t_train)\n",
    "        test_acc = network.accuracy(x_test, t_test)\n",
    "        train_acc_list.append(train_acc)\n",
    "        test_acc_list.append(test_acc)\n",
    "        print(f'train acc: {train_acc}, test acc: {test_acc}')        "
   ]
  },
  {
   "cell_type": "markdown",
   "metadata": {},
   "source": [
    "### 学習曲線"
   ]
  },
  {
   "cell_type": "code",
   "execution_count": 24,
   "metadata": {},
   "outputs": [
    {
     "data": {
      "image/png": "[encoded data removed]",
      "text/plain": [
       "<Figure size 360x360 with 1 Axes>"
      ]
     },
     "metadata": {
      "needs_background": "light"
     },
     "output_type": "display_data"
    },
    {
     "data": {
      "image/png": "[encoded data removed]",
      "text/plain": [
       "<Figure size 441.5x360 with 1 Axes>"
      ]
     },
     "metadata": {
      "needs_background": "light"
     },
     "output_type": "display_data"
    }
   ],
   "source": [
    "import seaborn as sns\n",
    "import pandas as pd\n",
    "\n",
    "df = pd.DataFrame({'train_acc': train_acc_list, 'test_acc': test_acc_list})\n",
    "\n",
    "p1 = sns.relplot(data=train_loss_list, kind='line')\n",
    "p2 = sns.relplot(data=df, kind='line')"
   ]
  },
  {
   "cell_type": "markdown",
   "metadata": {},
   "source": [
    "## 4.6 まとめ\n",
    "\n",
    "- MLで使用するデータセットは訓練データとテストデータに分けて使用する\n",
    "- 訓練データで学習を行い, 学習したモデルの汎化能力をテストデータで評価する\n",
    "- NNの学習は<u>損失関数を指標として</u>, **損失関数の値が小さくなるように重みパラメータを更新する**\n",
    "- 重みパラメータを更新は<u>重みパラメータの勾配を利用し</u>, **勾配方向に重みの値を更新する作業を繰り返す**\n",
    "    - **勾配は各パラメータ毎の損失関数に対する偏微分の結果をまとめたもの**\n",
    "    \n",
    "\n",
    "- 微小な値を与えたとき差分によって微分を求めることを**数値微分**と呼ぶ\n",
    "\n",
    "- 数値微分によって、重みパラメータの勾配を求めることができる\n",
    "- 数値微分による計算には時間がかかるが, **実装は簡単**\n",
    "- 第5章で紹介される, **誤差逆伝播法は高速に勾配を求めることができる**"
   ]
  }
 ],
 "metadata": {
  "colab": {
   "authorship_tag": "ABX9TyNXXc7E9tbg+hzbnUcVyZ73",
   "collapsed_sections": [],
   "mount_file_id": "1WogcERx00fk9B9Xl3aBVUJkFkrwx_VE2",
   "name": "chpater4-2_4-3_4-4.ipynb",
   "provenance": [
    {
     "file_id": "1hTlLv27iqJTeVxKw9t1tovSZ6oJN7C0v",
     "timestamp": 1655019431203
    }
   ]
  },
  "kernelspec": {
   "display_name": "Python 3",
   "language": "python",
   "name": "python3"
  },
  "language_info": {
   "codemirror_mode": {
    "name": "ipython",
    "version": 3
   },
   "file_extension": ".py",
   "mimetype": "text/x-python",
   "name": "python",
   "nbconvert_exporter": "python",
   "pygments_lexer": "ipython3",
   "version": "3.8.6"
  }
 },
 "nbformat": 4,
 "nbformat_minor": 4
}
