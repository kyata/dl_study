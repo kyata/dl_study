{
 "cells": [
  {
   "cell_type": "code",
   "execution_count": 3,
   "metadata": {
    "executionInfo": {
     "elapsed": 401,
     "status": "ok",
     "timestamp": 1652602532179,
     "user": {
      "displayName": "Yuki Katayama",
      "userId": "15528639115256770261"
     },
     "user_tz": -540
    },
    "id": "g6fEJa0qpDqg"
   },
   "outputs": [],
   "source": [
    "import numpy as np"
   ]
  },
  {
   "cell_type": "code",
   "execution_count": 4,
   "metadata": {
    "colab": {
     "base_uri": "https://localhost:8080/"
    },
    "executionInfo": {
     "elapsed": 447,
     "status": "ok",
     "timestamp": 1652602533753,
     "user": {
      "displayName": "Yuki Katayama",
      "userId": "15528639115256770261"
     },
     "user_tz": -540
    },
    "id": "dBhYlM-dpLro",
    "outputId": "e657fba3-1d76-4aa1-e735-d770837a5619"
   },
   "outputs": [
    {
     "name": "stdout",
     "output_type": "stream",
     "text": [
      "[1 2 3 4]\n"
     ]
    },
    {
     "data": {
      "text/plain": [
       "1"
      ]
     },
     "execution_count": 4,
     "metadata": {},
     "output_type": "execute_result"
    }
   ],
   "source": [
    "A = np.array([1, 2, 3, 4])\n",
    "print(A)\n",
    "np.ndim(A)"
   ]
  },
  {
   "cell_type": "code",
   "execution_count": 5,
   "metadata": {
    "colab": {
     "base_uri": "https://localhost:8080/"
    },
    "executionInfo": {
     "elapsed": 31,
     "status": "ok",
     "timestamp": 1652602533753,
     "user": {
      "displayName": "Yuki Katayama",
      "userId": "15528639115256770261"
     },
     "user_tz": -540
    },
    "id": "__SBY6uGpVZP",
    "outputId": "842f5530-07e4-45fe-9579-1a0594139b55"
   },
   "outputs": [
    {
     "data": {
      "text/plain": [
       "(4,)"
      ]
     },
     "execution_count": 5,
     "metadata": {},
     "output_type": "execute_result"
    }
   ],
   "source": [
    "A.shape"
   ]
  },
  {
   "cell_type": "code",
   "execution_count": 6,
   "metadata": {
    "colab": {
     "base_uri": "https://localhost:8080/"
    },
    "executionInfo": {
     "elapsed": 22,
     "status": "ok",
     "timestamp": 1652602533754,
     "user": {
      "displayName": "Yuki Katayama",
      "userId": "15528639115256770261"
     },
     "user_tz": -540
    },
    "id": "M7TOcFqHpXUV",
    "outputId": "e7e04c5c-7c75-4543-fbb6-5806aa991332"
   },
   "outputs": [
    {
     "name": "stdout",
     "output_type": "stream",
     "text": [
      "[[1 2]\n",
      " [3 4]\n",
      " [5 6]]\n"
     ]
    },
    {
     "data": {
      "text/plain": [
       "2"
      ]
     },
     "execution_count": 6,
     "metadata": {},
     "output_type": "execute_result"
    }
   ],
   "source": [
    "B = np.array([[1,2], [3,4], [5,6]])\n",
    "\n",
    "print(B)\n",
    "np.ndim(B)"
   ]
  },
  {
   "cell_type": "markdown",
   "metadata": {
    "id": "4BR0sf0nqbjb"
   },
   "source": [
    "## 3.3.2 行列の積\n",
    "\n",
    "- 行列の積(内積)は`np.dot()`で計算できる\n",
    "- 行列の積は被演算子の順序が異なると結果が変わる(非可換)\n",
    "- 行列の積を計算するには、対応する次元の要素数が一致している必要がある\n",
    "  - 1次元目の要素数(列数)と行列Bの"
   ]
  },
  {
   "cell_type": "code",
   "execution_count": 7,
   "metadata": {
    "colab": {
     "base_uri": "https://localhost:8080/"
    },
    "executionInfo": {
     "elapsed": 16,
     "status": "ok",
     "timestamp": 1652602533754,
     "user": {
      "displayName": "Yuki Katayama",
      "userId": "15528639115256770261"
     },
     "user_tz": -540
    },
    "id": "4Vfy_L07pj6n",
    "outputId": "c3019b72-4306-45e1-ba37-f80f84305462"
   },
   "outputs": [
    {
     "name": "stdout",
     "output_type": "stream",
     "text": [
      "A.shape: (2, 2)\n",
      "B.shape: (2, 2)\n"
     ]
    },
    {
     "data": {
      "text/plain": [
       "array([[19, 22],\n",
       "       [43, 50]])"
      ]
     },
     "execution_count": 7,
     "metadata": {},
     "output_type": "execute_result"
    }
   ],
   "source": [
    "A = np.array([[1,2], [3,4]])\n",
    "print(f'A.shape: {A.shape}')\n",
    "\n",
    "B = np.array([[5,6], [7,8]])\n",
    "print(f'B.shape: {B.shape}')\n",
    "\n",
    "np.dot(A, B)"
   ]
  },
  {
   "cell_type": "code",
   "execution_count": 8,
   "metadata": {
    "colab": {
     "base_uri": "https://localhost:8080/"
    },
    "executionInfo": {
     "elapsed": 11,
     "status": "ok",
     "timestamp": 1652602533754,
     "user": {
      "displayName": "Yuki Katayama",
      "userId": "15528639115256770261"
     },
     "user_tz": -540
    },
    "id": "fB2LpIQ3q4Lg",
    "outputId": "0f54ff0b-9e13-4b42-cbb4-a47a98cc70fc"
   },
   "outputs": [
    {
     "name": "stdout",
     "output_type": "stream",
     "text": [
      "A.shape: (2, 3)\n",
      "B.shape: (3, 2)\n"
     ]
    },
    {
     "data": {
      "text/plain": [
       "array([[22, 28],\n",
       "       [49, 64]])"
      ]
     },
     "execution_count": 8,
     "metadata": {},
     "output_type": "execute_result"
    }
   ],
   "source": [
    "A = np.array([[1,2,3], [4,5,6]])\n",
    "print(f'A.shape: {A.shape}')\n",
    "\n",
    "B = np.array([[1,2], [3,4], [5,6]])\n",
    "print(f'B.shape: {B.shape}')\n",
    "\n",
    "np.dot(A, B)"
   ]
  },
  {
   "cell_type": "code",
   "execution_count": 9,
   "metadata": {},
   "outputs": [
    {
     "name": "stdout",
     "output_type": "stream",
     "text": [
      "(2,)\n",
      "[[1 3 5]\n",
      " [2 4 6]]\n",
      "Y: [ 5 11 17]\n"
     ]
    }
   ],
   "source": [
    "X = np.array([1, 2])\n",
    "print(X.shape)\n",
    "\n",
    "# x1_w = [1,3,5]\n",
    "# x2_w = [2,4,6]\n",
    "W = np.array([[1,3,5], [2,4,6]])\n",
    "print(W)\n",
    "\n",
    "W.shape\n",
    "\n",
    "Y = np.dot(X, W)\n",
    "print(f'Y: {Y}')"
   ]
  },
  {
   "cell_type": "markdown",
   "metadata": {
    "id": "f3XU_j1UttBO"
   },
   "source": [
    "## 3層ニューラルネットワークの実装\n",
    "\n",
    "$$\n",
    "    a^{(1)}_n = w^{(1)}_{11}x_1 + w^{(1)}_{12}x_2 + b^{(1)}_1\n",
    "$$\n",
    "\n",
    "上記の式は行列式で以下のように表せる\n",
    "\n",
    "$$\n",
    "\\begin{align}\n",
    "    \\mathbf{A}^{(1)} = \\mathbf{X}\\mathbf{W}^{(1)} + \\mathbf{B}^{(1)} \\\\\n",
    "    \\mathbf{A}^{(1)}  \n",
    "\\end{align}\n",
    "$$"
   ]
  },
  {
   "cell_type": "code",
   "execution_count": 10,
   "metadata": {
    "colab": {
     "base_uri": "https://localhost:8080/"
    },
    "executionInfo": {
     "elapsed": 423,
     "status": "ok",
     "timestamp": 1652603106248,
     "user": {
      "displayName": "Yuki Katayama",
      "userId": "15528639115256770261"
     },
     "user_tz": -540
    },
    "id": "09VL2BvY0iOT",
    "outputId": "cf9238ea-61a4-4294-e2b8-b1b8ed48599f"
   },
   "outputs": [
    {
     "data": {
      "text/plain": [
       "array([0.26894142, 0.73105858, 0.88079708])"
      ]
     },
     "execution_count": 10,
     "metadata": {},
     "output_type": "execute_result"
    }
   ],
   "source": [
    "def sigmoid(x):\n",
    "    return 1 / (1 + np.exp(-x))\n",
    "\n",
    "x = np.array([-1., 1., 2.])\n",
    "sigmoid(x)"
   ]
  },
  {
   "cell_type": "code",
   "execution_count": 11,
   "metadata": {
    "colab": {
     "base_uri": "https://localhost:8080/"
    },
    "executionInfo": {
     "elapsed": 564,
     "status": "ok",
     "timestamp": 1652603112072,
     "user": {
      "displayName": "Yuki Katayama",
      "userId": "15528639115256770261"
     },
     "user_tz": -540
    },
    "id": "OmZsS4Z3trwa",
    "outputId": "f6ac7b76-17a0-4ea4-a6ae-2a03310dc0a3"
   },
   "outputs": [
    {
     "name": "stdout",
     "output_type": "stream",
     "text": [
      "W1.shape: (2, 3)\n",
      "X.shape: (2,)\n",
      "B1.shape: (3,)\n",
      "[0.3 0.7 1.1]\n"
     ]
    }
   ],
   "source": [
    "X = np.array([1.0, 0.5])\n",
    "W1 = np.array([[0.1, 0.3, 0.5], [0.2, 0.4, 0.6]])\n",
    "B1 = np.array([0.1, 0.2, 0.3])\n",
    "\n",
    "print(f'W1.shape: {W1.shape}')\n",
    "print(f'X.shape: {X.shape}')\n",
    "print(f'B1.shape: {B1.shape}')\n",
    "\n",
    "A1 = np.dot(X, W1) + B1\n",
    "\n",
    "print(A1)"
   ]
  },
  {
   "cell_type": "code",
   "execution_count": null,
   "metadata": {
    "colab": {
     "base_uri": "https://localhost:8080/"
    },
    "executionInfo": {
     "elapsed": 386,
     "status": "ok",
     "timestamp": 1652603126212,
     "user": {
      "displayName": "Yuki Katayama",
      "userId": "15528639115256770261"
     },
     "user_tz": -540
    },
    "id": "XDg2NdvUxW-p",
    "outputId": "9f6321e6-72ad-4cdb-8291-43f427353664"
   },
   "outputs": [],
   "source": [
    "# 隠れそうでの重み付き和\n",
    "\n",
    "# 活性化関数により変換された信号\n",
    "Z1 = sigmoid(A1)\n",
    "\n",
    "print(A1)\n",
    "print(Z1)"
   ]
  },
  {
   "cell_type": "markdown",
   "metadata": {
    "id": "QM7cyCJe1WWT"
   },
   "source": [
    "## 第1層から第2層の実装(図3-19)\n"
   ]
  },
  {
   "cell_type": "code",
   "execution_count": null,
   "metadata": {
    "colab": {
     "base_uri": "https://localhost:8080/"
    },
    "executionInfo": {
     "elapsed": 336,
     "status": "ok",
     "timestamp": 1652603939979,
     "user": {
      "displayName": "Yuki Katayama",
      "userId": "15528639115256770261"
     },
     "user_tz": -540
    },
    "id": "2GF255h60n5p",
    "outputId": "b3d268c5-0612-478d-b578-05561b98e602"
   },
   "outputs": [],
   "source": [
    "# 第二層の重みとバイアスの定義\n",
    "W2 = np.array([[0.1, 0.4], [0.2, 0.5], [0.3, 0.6]])\n",
    "B2 = np.array([.1, .2])\n",
    "\n",
    "print(Z1.shape)\n",
    "print(W2.shape)\n",
    "print(B2.shape)"
   ]
  },
  {
   "cell_type": "code",
   "execution_count": null,
   "metadata": {
    "colab": {
     "base_uri": "https://localhost:8080/"
    },
    "executionInfo": {
     "elapsed": 433,
     "status": "ok",
     "timestamp": 1652604030310,
     "user": {
      "displayName": "Yuki Katayama",
      "userId": "15528639115256770261"
     },
     "user_tz": -540
    },
    "id": "WG7_Xm-Z1GKr",
    "outputId": "d9af06e8-2580-49e4-944c-24e6da75a68a"
   },
   "outputs": [],
   "source": [
    "# 第2層の入力値の定義\n",
    "# => 第一層の出力Z1と、重みW2にバイアスB2を足したもの(=Z1の重み付き線形和)\n",
    "A2 = np.dot(Z1, W2) + B2\n",
    "\n",
    "# 第二層の出力値を定義\n",
    "# => 第二層の入力値に活性化関数を適用したもの\n",
    "Z2 = sigmoid(A2)\n",
    "\n",
    "print(f'A2: {A2}')\n",
    "print(f'Z2: {Z2}')"
   ]
  },
  {
   "cell_type": "markdown",
   "metadata": {
    "id": "mtkfkYKl4ibI"
   },
   "source": [
    "# 最終層(第3層)の実装(図3-20)\n"
   ]
  },
  {
   "cell_type": "code",
   "execution_count": null,
   "metadata": {
    "executionInfo": {
     "elapsed": 503,
     "status": "ok",
     "timestamp": 1652607656614,
     "user": {
      "displayName": "Yuki Katayama",
      "userId": "15528639115256770261"
     },
     "user_tz": -540
    },
    "id": "ksO_3bkmFZod"
   },
   "outputs": [],
   "source": [
    "def identity_function(x):\n",
    "    \"\"\"Returns the inputs as is\n",
    "\n",
    "    Parameters:\n",
    "    ---\n",
    "    x: np.array<T>\n",
    "\n",
    "    Returns:\n",
    "    ---\n",
    "    np.array<T>\n",
    "    \"\"\"\n",
    "\n",
    "    return x"
   ]
  },
  {
   "cell_type": "code",
   "execution_count": null,
   "metadata": {
    "colab": {
     "base_uri": "https://localhost:8080/"
    },
    "executionInfo": {
     "elapsed": 12,
     "status": "ok",
     "timestamp": 1652607657979,
     "user": {
      "displayName": "Yuki Katayama",
      "userId": "15528639115256770261"
     },
     "user_tz": -540
    },
    "id": "kaUziYae3xOU",
    "outputId": "72553a64-6d81-44d2-b410-e8c00195a90e"
   },
   "outputs": [],
   "source": [
    "W3 = np.array([[.1, .3], [.2, .4]])\n",
    "B3 = np.array([.1, .2])\n",
    "\n",
    "# 入力値を定義(第二層の重み付き線形和)\n",
    "A3 = np.dot(Z2, W3) + B3\n",
    "print(f'A3: {A3}')\n",
    "\n",
    "# 最終出力を定義\n",
    "Y = identity_function(A3)\n",
    "\n",
    "print(f'output Y: {Y}')"
   ]
  },
  {
   "cell_type": "markdown",
   "metadata": {
    "id": "tCCoNZoj5vFl"
   },
   "source": [
    "- 出力層で利用する活性化関数は解く問題の性質に応じて決定する\n",
    "- 以下のような例が一般的\n",
    "    - 回帰問題では恒等関数\n",
    "    - 2クラス分類ではシグモイド関数\n",
    "    - 多クラス分類ではソフトマックス関数など"
   ]
  },
  {
   "cell_type": "markdown",
   "metadata": {
    "id": "Ml7I98y65UE1"
   },
   "source": [
    "# 3.4.3 実装のまとめ"
   ]
  },
  {
   "cell_type": "code",
   "execution_count": null,
   "metadata": {
    "executionInfo": {
     "elapsed": 607,
     "status": "ok",
     "timestamp": 1652607870719,
     "user": {
      "displayName": "Yuki Katayama",
      "userId": "15528639115256770261"
     },
     "user_tz": -540
    },
    "id": "2e6lW3VF6jd4"
   },
   "outputs": [],
   "source": [
    "# ネットワークの初期化\n",
    "def init_network():\n",
    "    \"\"\" Initialize the networks\n",
    "\n",
    "    Parameters:\n",
    "    ---\n",
    "    None\n",
    "\n",
    "    Returns:\n",
    "    ---\n",
    "    dict(np.array[<T>]\n",
    "        initialized network\n",
    "    \"\"\"\n",
    "\n",
    "    network= {}\n",
    "\n",
    "    # 各層の重みとバイアスを定義\n",
    "    network['W1'] = np.array([[0.1, 0.3, 0.5], [0.2, 0.4, 0.6]])\n",
    "    network['b1'] = np.array([0.1, 0.2, 0.3])\n",
    "    network['W2'] = np.array([[0.1, 0.4], [0.2, 0.5], [0.3, 0.6]])\n",
    "    network['b2'] = np.array([0.1, 0.2])\n",
    "    network['W3'] = np.array([[0.1, 0.3], [0.2, 0.4]])\n",
    "    network['b3'] = np.array([0.1, 0.2])\n",
    "\n",
    "    return network\n",
    "\n",
    "def forward(network, x):\n",
    "    \"\"\" Define the forward sequence\n",
    "\n",
    "    Parameters:\n",
    "    ---\n",
    "    dict(np.array)\n",
    "        network: weighted network\n",
    "    np.array:\n",
    "        x: inputs\n",
    "\n",
    "    Returns:\n",
    "    ---\n",
    "    np.array\n",
    "        outputs of the network\n",
    "    \"\"\"\n",
    "\n",
    "    W1, W2, W3 = network['W1'], network['W2'], network['W3']\n",
    "    b1, b2, b3 = network['b1'], network['b2'], network['b3']\n",
    "\n",
    "    a1 = np.dot(x, W1) + b1\n",
    "    z1 = sigmoid(a1)\n",
    "\n",
    "    # a2 = np.dot(z1, W2) + b2\n",
    "    # 2次元行列の積はnp.matmul()でもでもnp.dot()と等価\n",
    "    # ただし, 3次元以上の積の場合は, np.dot()と振る舞いが異なるので注意\n",
    "    a2 = np.matmul(z1, W2) + b2\n",
    "\n",
    "    z2 = sigmoid(a2)\n",
    "\n",
    "    # a3 = np.dot(z2, W3) + b3\n",
    "    # np.matmul()は@演算子でも書ける(>=Python3.5 && >=Numpy1.10.0 )\n",
    "    a3 = z2 @ W3 + b3\n",
    "    \n",
    "    y = identity_function(a3)\n",
    "    # print(f'a3: {a3}, y: {y}')\n",
    "\n",
    "    return y"
   ]
  },
  {
   "cell_type": "code",
   "execution_count": null,
   "metadata": {
    "colab": {
     "base_uri": "https://localhost:8080/"
    },
    "executionInfo": {
     "elapsed": 10,
     "status": "ok",
     "timestamp": 1652607871226,
     "user": {
      "displayName": "Yuki Katayama",
      "userId": "15528639115256770261"
     },
     "user_tz": -540
    },
    "id": "tv0V-60s7xmP",
    "outputId": "7b9f7c12-df6a-497e-ae40-e3e53437a428"
   },
   "outputs": [],
   "source": [
    "network = init_network()\n",
    "x = np.array([1.0, 0.5])\n",
    "y = forward(network, x)\n",
    "\n",
    "print(y)"
   ]
  },
  {
   "cell_type": "code",
   "execution_count": null,
   "metadata": {
    "executionInfo": {
     "elapsed": 313,
     "status": "ok",
     "timestamp": 1652607665378,
     "user": {
      "displayName": "Yuki Katayama",
      "userId": "15528639115256770261"
     },
     "user_tz": -540
    },
    "id": "IxDlVQ_6AydB"
   },
   "outputs": [],
   "source": []
  }
 ],
 "metadata": {
  "colab": {
   "authorship_tag": "ABX9TyOgoy5PpZeN/Ou4Hrd17SiW",
   "name": "chpater3-2.ipynb",
   "provenance": []
  },
  "kernelspec": {
   "display_name": "Python 3",
   "language": "python",
   "name": "python3"
  },
  "language_info": {
   "codemirror_mode": {
    "name": "ipython",
    "version": 3
   },
   "file_extension": ".py",
   "mimetype": "text/x-python",
   "name": "python",
   "nbconvert_exporter": "python",
   "pygments_lexer": "ipython3",
   "version": "3.8.6"
  }
 },
 "nbformat": 4,
 "nbformat_minor": 4
}
