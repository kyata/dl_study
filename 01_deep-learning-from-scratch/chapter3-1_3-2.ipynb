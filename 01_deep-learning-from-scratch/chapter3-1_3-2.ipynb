{
 "cells": [
  {
   "cell_type": "code",
   "execution_count": 1,
   "metadata": {
    "id": "jPOGCgZza_0k"
   },
   "outputs": [],
   "source": [
    "import numpy as np\n",
    "import pandas as pd"
   ]
  },
  {
   "cell_type": "markdown",
   "metadata": {
    "id": "rp1khpSJShd5"
   },
   "source": [
    "# 3. ニューラルネットワーク\n",
    "\n",
    "前章のおさらい\n",
    "\n",
    "- パーセプトロンは様々な複雑な表現を(理論上)表現できる\n",
    "- ただし、重みを設定する作業が必要\n",
    "- ニューラルネットワークは、**パーセプトロンの適切な重みパラメータをデータから自動で学習できる**"
   ]
  },
  {
   "cell_type": "markdown",
   "metadata": {
    "id": "FYTCezvaVHU3"
   },
   "source": [
    "## パーセプトロンの定義\n",
    "\n",
    "パーセプトロンは以下の式で定義される\n",
    "\n",
    "$$\n",
    "y = h(b + w1x1 + w2x2)\n",
    "$$\n",
    "\n",
    "- パーセプトロンの動作は、$ x1 $ と$ x2 $と$ 1 $ の3つの信号がニューロンの入力となる\n",
    "\n",
    "- それら3 つの信号に**それぞれの重みが乗算され**、次のニューロンに送信される\n",
    "\n",
    "- 次のニューロンでは重み付けされた信号の和が計算され、その和が0を超えたら1を出力し、そうでなければ0を出力する\n",
    "\n",
    "- $ h(x) $は**活性化関数 (activation function)**と呼ばれ、入力信号のの総和を出力信号に変換する\n",
    "\n"
   ]
  },
  {
   "cell_type": "markdown",
   "metadata": {
    "id": "Qb5ZOMfxXgIs"
   },
   "source": [
    "# 3.2. 活性化関数\n",
    "\n",
    "- 活性化関数には様々な種類が存在する\n",
    "\n"
   ]
  },
  {
   "cell_type": "markdown",
   "metadata": {
    "id": "9oKIS-mWaffQ"
   },
   "source": [
    "## 3.2.2 ステップ関数\n",
    "\n",
    "- ステップ関数は0を境にして、出力が0から1に切り替わる\n",
    "- 階段状に値が切り替わるため、階段関数と呼ばれることもある"
   ]
  },
  {
   "cell_type": "code",
   "execution_count": 2,
   "metadata": {
    "id": "F_ohsJ1sSaJl"
   },
   "outputs": [],
   "source": [
    "\"\"\"\n",
    "def step_function(x):\n",
    "    if x > 0:\n",
    "        return 1\n",
    "    else:\n",
    "        return 0\n",
    "\"\"\"\n",
    "\n",
    "def step_function(x):\n",
    "    y = x > 0\n",
    "    return y.astype(np.int32)"
   ]
  },
  {
   "cell_type": "code",
   "execution_count": 3,
   "metadata": {
    "colab": {
     "base_uri": "https://localhost:8080/",
     "height": 265
    },
    "id": "iCZGyikLecu-",
    "outputId": "85f5fb26-b733-4422-b95e-5311507b016e"
   },
   "outputs": [
    {
     "data": {
      "image/png": "[encoded data removed]",
      "text/plain": [
       "<Figure size 432x288 with 1 Axes>"
      ]
     },
     "metadata": {
      "needs_background": "light"
     },
     "output_type": "display_data"
    }
   ],
   "source": [
    "import numpy as np\n",
    "import matplotlib.pyplot as plt\n",
    "\n",
    "x = np.arange(-5., 5., .1)\n",
    "y = step_function(x)\n",
    "\n",
    "plt.plot(x, y)\n",
    "plt.ylim(-.1, 1.1)  # Set y-axis range\n",
    "plt.show()"
   ]
  },
  {
   "cell_type": "markdown",
   "metadata": {
    "id": "6i6BGZxzbdIa"
   },
   "source": [
    "## NumPy実装の解説\n",
    "\n",
    "NumPy配列に対して不等号の演算を行うと、配列の各要素に対するブーリアンの配列が生成される"
   ]
  },
  {
   "cell_type": "code",
   "execution_count": 4,
   "metadata": {
    "colab": {
     "base_uri": "https://localhost:8080/"
    },
    "id": "dCxATx_5a16X",
    "outputId": "4f3c3598-25c8-484c-dabe-86eee1a16357"
   },
   "outputs": [
    {
     "data": {
      "text/plain": [
       "array([False,  True,  True])"
      ]
     },
     "execution_count": 4,
     "metadata": {},
     "output_type": "execute_result"
    }
   ],
   "source": [
    "x = np.array([-1.0, 1.0, 2.0])\n",
    "\n",
    "y = x > 0\n",
    "y"
   ]
  },
  {
   "cell_type": "markdown",
   "metadata": {
    "id": "o1837WKvbo03"
   },
   "source": [
    "ステップ関数はint型を出力する関数であるため、出力yの要素の方をintにキャストする"
   ]
  },
  {
   "cell_type": "code",
   "execution_count": 5,
   "metadata": {
    "colab": {
     "base_uri": "https://localhost:8080/"
    },
    "id": "BkyOz8C-bmuI",
    "outputId": "e8354ebb-9737-4461-a851-101aada9943f"
   },
   "outputs": [
    {
     "data": {
      "text/plain": [
       "array([0, 1, 1], dtype=int32)"
      ]
     },
     "execution_count": 5,
     "metadata": {},
     "output_type": "execute_result"
    }
   ],
   "source": [
    "y = y.astype(np.int32)\n",
    "y"
   ]
  },
  {
   "cell_type": "code",
   "execution_count": null,
   "metadata": {
    "colab": {
     "base_uri": "https://localhost:8080/",
     "height": 340
    },
    "id": "j5l7fknYb0Ix",
    "outputId": "069b728e-8d29-465f-cba9-149682a668bb"
   },
   "outputs": [],
   "source": []
  },
  {
   "cell_type": "markdown",
   "metadata": {
    "id": "F7vqDl4fdanh"
   },
   "source": [
    "## 3.2.1. シグモイド関数\n",
    "\n",
    "$$\n",
    "h(x) = \\frac{1}{1+\\exp(-x)}\n",
    "$$\n",
    "\n",
    "- NNで良く用いられる活性化関数としてシグモイド関数が挙げられる\n",
    "\n",
    "- $ \\exp(-x) $ は $ e^{-x} $を意味し、$ e $ はネイピア数(自然対数の底)である\n",
    "\n",
    "- パーセプトロンとNNの主な違いは活性化関数だけしかない\n",
    "\n",
    "- つまり、ニューロンが多層につながる構造や信号の伝達方法は、パーセプトロンと同様となる"
   ]
  },
  {
   "cell_type": "code",
   "execution_count": 8,
   "metadata": {
    "colab": {
     "base_uri": "https://localhost:8080/"
    },
    "id": "a321RZSdda9E",
    "outputId": "3a8d11a2-e11f-445c-e28a-2fb650813301"
   },
   "outputs": [
    {
     "data": {
      "text/plain": [
       "array([0.26894142, 0.73105858, 0.88079708])"
      ]
     },
     "execution_count": 8,
     "metadata": {},
     "output_type": "execute_result"
    }
   ],
   "source": [
    "def sigmoid(x):\n",
    "    return 1 / (1 + np.exp(-x))\n",
    "\n",
    "x = np.array([-1., 1., 2.])\n",
    "sigmoid(x)"
   ]
  },
  {
   "cell_type": "code",
   "execution_count": 9,
   "metadata": {
    "colab": {
     "base_uri": "https://localhost:8080/",
     "height": 269
    },
    "id": "7CgR2W2dgZrK",
    "outputId": "69d3491c-0a78-4233-f5f4-051be45e9972"
   },
   "outputs": [
    {
     "data": {
      "image/png": "[encoded data removed]",
      "text/plain": [
       "<Figure size 432x288 with 1 Axes>"
      ]
     },
     "metadata": {
      "needs_background": "light"
     },
     "output_type": "display_data"
    }
   ],
   "source": [
    "x = np.arange(-5., 5., .1)\n",
    "y = sigmoid(x)\n",
    "plt.plot(x, y)\n",
    "plt.ylim(-0.1, 1.0, 1)  # Set y-axis range\n",
    "plt.show()"
   ]
  },
  {
   "cell_type": "markdown",
   "metadata": {
    "id": "LSyMwu0qe2kN"
   },
   "source": [
    "### NumPy実装の解説\n",
    "\n",
    "- numpyのブロードキャスト機能により、スカラ値とNumPy配列での演算が行われると、スカラ値とNumPy配列の要素同士で演算が行われる\n",
    "\n",
    "- sigmoid関数の実装でも`np.exp(-x)`はNumPy配列を生成するため  \n",
    "  `1 / (1 + np.exp(-x))`の結果はNumPy配列の各要素間で計算されることになる"
   ]
  },
  {
   "cell_type": "code",
   "execution_count": null,
   "metadata": {
    "colab": {
     "base_uri": "https://localhost:8080/"
    },
    "id": "IdR06W_Oenr_",
    "outputId": "9ed49c39-6657-4648-b104-29f6bcd704c8"
   },
   "outputs": [],
   "source": [
    "t = np.array([1., 2., 3.])\n",
    "print(1. + t)\n",
    "print('---')\n",
    "print(1. / t)"
   ]
  },
  {
   "cell_type": "markdown",
   "metadata": {
    "id": "GmlG3khXgn48"
   },
   "source": [
    "## シグモイド関数とステップ関数の比較\n",
    "\n",
    "\n",
    "**異なる点**\n",
    "\n",
    "- ステップ関数は0を境に急激に出力が変わる\n",
    "- シグモイド関数は滑らかな曲線で、入力に対して連続的に出力が変化する\n",
    "    - シグモイド関数の\"滑らかさ\"がNNの学習において重要な意味を持つ\n",
    "\n",
    "- ステップ関数が0 or 1の二値のみを返すのに対して  \n",
    "  シグモイド関数は実数値を返す\n",
    "\n",
    "**共通する点**\n",
    "\n",
    "- 入力が小さい時には出力は0に近く、入力が大きくなるに従い出力が1に近づく\n",
    "\n",
    "- 入力信号が重要な情報であれば大きな値を出力し、入力信号が重要でなければ小さな値を出力する\n",
    "\n",
    "- 入力信号の大きさに依存せず、**出力信号は必ず0から1の範囲を取る**\n",
    "\n",
    "- 両関数とも**非線形な関数に分類される**\n",
    "  - 直線で表現できない"
   ]
  },
  {
   "cell_type": "markdown",
   "metadata": {
    "id": "PNG9g-3Qjxqt"
   },
   "source": [
    "## 3.2.6 非線形関数\n",
    "\n",
    "- ** NNでは活性化関数に非線形関数を用いる必要がある **\n",
    "\n",
    "- 活性化関数に線形関数を用いると層を深くすることの意味がなくなってしまう\n",
    "    - 線形関数はいくら層を深くしても、隠れ層のないネットワークと同じ表現力しか持たない\n",
    "\n"
   ]
  },
  {
   "cell_type": "markdown",
   "metadata": {
    "id": "cU_Vu_CylDjW"
   },
   "source": [
    "## 3.2.7 ReLU関数\n",
    "\n",
    "- 入力が0以下ならば0を出力する\n",
    "- 入力が0を超えていれば、その値をそのまま出力する\n",
    "\n",
    "$$\n",
    "\\begin{equation}\n",
    "h(x) = \\left\\{ \\,\n",
    "    \\begin{aligned}\n",
    "    x \\quad ( x > 0 ) \\\\\n",
    "    0 \\quad (x \\leqq 0) \\\\\n",
    "    \\end{aligned}\n",
    "\\right.\n",
    "\\end{equation}\n",
    "$$\n",
    "- 最近の活性化関数にはよく使われる"
   ]
  },
  {
   "cell_type": "code",
   "execution_count": 10,
   "metadata": {
    "colab": {
     "base_uri": "https://localhost:8080/",
     "height": 269
    },
    "id": "CBQ2T7zYjqtN",
    "outputId": "f9a0a21c-a8a0-406e-8e2a-7ccb963f89ff"
   },
   "outputs": [
    {
     "data": {
      "image/png": "[encoded data removed]",
      "text/plain": [
       "<Figure size 432x288 with 1 Axes>"
      ]
     },
     "metadata": {
      "needs_background": "light"
     },
     "output_type": "display_data"
    }
   ],
   "source": [
    "def relu(x):\n",
    "    return np.maximum(0, x)\n",
    "\n",
    "x = np.arange(-6.0, 5.0, 0.1)\n",
    "y = relu(x)\n",
    "plt.plot(x, y)\n",
    "plt.ylim(-5.0, 6.0, 1.0)  # Set y-axis range\n",
    "plt.show()"
   ]
  },
  {
   "cell_type": "code",
   "execution_count": null,
   "metadata": {
    "id": "KHwBJlpHnraS"
   },
   "outputs": [],
   "source": []
  }
 ],
 "metadata": {
  "colab": {
   "name": "chapter3-1.ipynb",
   "provenance": []
  },
  "kernelspec": {
   "display_name": "Python 3",
   "language": "python",
   "name": "python3"
  },
  "language_info": {
   "codemirror_mode": {
    "name": "ipython",
    "version": 3
   },
   "file_extension": ".py",
   "mimetype": "text/x-python",
   "name": "python",
   "nbconvert_exporter": "python",
   "pygments_lexer": "ipython3",
   "version": "3.8.6"
  }
 },
 "nbformat": 4,
 "nbformat_minor": 4
}
