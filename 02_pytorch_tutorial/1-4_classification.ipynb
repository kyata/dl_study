{
 "cells": [
  {
   "cell_type": "code",
   "execution_count": 2,
   "id": "95740630-610e-46b3-be9a-b5a7bdebe804",
   "metadata": {},
   "outputs": [
    {
     "name": "stdout",
     "output_type": "stream",
     "text": [
      "['/home/y-katayama/notebooks/dl_study/02_pytorch_tutorial', '/usr/lib/python38.zip', '/usr/lib/python3.8', '/usr/lib/python3.8/lib-dynload', '', '/home/y-katayama/venv/pt1.7/lib/python3.8/site-packages']\n"
     ]
    }
   ],
   "source": [
    "import sys\n",
    "import os\n",
    "from pathlib import Path\n",
    "\n",
    "# importディレクトリの追加\n",
    "# sys.path.append(os.path.join(os.path.dirname(__file__), '..'))\n",
    "print(sys.path)\n",
    "\n",
    "# プロキシの設定\n",
    "# os.environ['HTTP_PROXY'] = ''\n",
    "# os.environ['HTTPS_PROXY'] = ''\n",
    "\n",
    "%matplotlib inline"
   ]
  },
  {
   "cell_type": "code",
   "execution_count": 3,
   "id": "a7a270e4-640b-476f-8085-751eb44a2288",
   "metadata": {},
   "outputs": [
    {
     "name": "stdout",
     "output_type": "stream",
     "text": [
      "Wed Dec 14 16:47:26 2022       \n",
      "+-----------------------------------------------------------------------------+\n",
      "| NVIDIA-SMI 525.60.13    Driver Version: 525.60.13    CUDA Version: 12.0     |\n",
      "|-------------------------------+----------------------+----------------------+\n",
      "| GPU  Name        Persistence-M| Bus-Id        Disp.A | Volatile Uncorr. ECC |\n",
      "| Fan  Temp  Perf  Pwr:Usage/Cap|         Memory-Usage | GPU-Util  Compute M. |\n",
      "|                               |                      |               MIG M. |\n",
      "|===============================+======================+======================|\n",
      "|   0  NVIDIA GeForce ...  On   | 00000000:01:00.0 Off |                  N/A |\n",
      "| 40%   31C    P8    17W / 184W |     47MiB /  8192MiB |      0%      Default |\n",
      "|                               |                      |                  N/A |\n",
      "+-------------------------------+----------------------+----------------------+\n",
      "|   1  NVIDIA GeForce ...  On   | 00000000:03:00.0 Off |                  N/A |\n",
      "| 40%   29C    P8    14W / 184W |      6MiB /  8192MiB |      0%      Default |\n",
      "|                               |                      |                  N/A |\n",
      "+-------------------------------+----------------------+----------------------+\n",
      "                                                                               \n",
      "+-----------------------------------------------------------------------------+\n",
      "| Processes:                                                                  |\n",
      "|  GPU   GI   CI        PID   Type   Process name                  GPU Memory |\n",
      "|        ID   ID                                                   Usage      |\n",
      "|=============================================================================|\n",
      "|    0   N/A  N/A      1986      G   /usr/lib/xorg/Xorg                 45MiB |\n",
      "|    1   N/A  N/A      1986      G   /usr/lib/xorg/Xorg                  4MiB |\n",
      "+-----------------------------------------------------------------------------+\n"
     ]
    }
   ],
   "source": [
    "!nvidia-smi"
   ]
  },
  {
   "cell_type": "markdown",
   "id": "f78eb07f-1971-4f0c-9bf1-e43cb3493668",
   "metadata": {},
   "source": [
    "# クラス分類の学習方法"
   ]
  },
  {
   "cell_type": "markdown",
   "id": "ffcc88dc-16ce-4bb2-b827-558a1d258d3e",
   "metadata": {},
   "source": [
    "- 画像, テキスト, 音声, 動画などのデータを扱う場合は, numpy配列にデータを読み込んだり標準的なPythonパッケージを利用する\n",
    "\n",
    "    - 画像: Pillow, OpenCV\n",
    "    - 音声: scipy, librosa\n",
    "    - テキスト: Python/Cython, NLTK, SpaCy\n",
    "\n",
    "- PyTorchでは画像データのためにImagenetやCIFAR10, MNISTを簡単に扱える`torchvision`パッケージがある\n",
    "\n",
    "  - torchvision.datasets やtorch.utils.data.DataLoaderが含まれ, これらはユーザーに多くの便利な機能を提供します。"
   ]
  },
  {
   "cell_type": "markdown",
   "id": "4b51f380-ff24-4943-9208-34b134dbaf87",
   "metadata": {},
   "source": [
    "## CIFAR10の読み込みと正規化"
   ]
  },
  {
   "cell_type": "code",
   "execution_count": 4,
   "id": "cfb6d3ca-f4eb-4467-b770-9fb51e955955",
   "metadata": {},
   "outputs": [],
   "source": [
    "import torch\n",
    "import torchvision\n",
    "import torchvision.transforms as transforms"
   ]
  },
  {
   "cell_type": "code",
   "execution_count": 5,
   "id": "9eea494f-e3ee-4b2b-9354-55556e9d8a8e",
   "metadata": {},
   "outputs": [
    {
     "name": "stdout",
     "output_type": "stream",
     "text": [
      "Files already downloaded and verified\n",
      "Files already downloaded and verified\n"
     ]
    }
   ],
   "source": [
    "transform = transforms.Compose(\n",
    "    [transforms.ToTensor(),\n",
    "     transforms.Normalize((0.5, 0.5, 0.5), (0.5, 0.5, 0.5))])\n",
    "\n",
    "# 学習用DataLoaderを定義\n",
    "trainset = torchvision.datasets.CIFAR10(root='./data', train=True, download=True, transform=transform)\n",
    "trainloader = torch.utils.data.DataLoader(trainset, batch_size=4, shuffle=True, num_workers=2)\n",
    "\n",
    "# テスト用DataLoaderを定義\n",
    "testset = torchvision.datasets.CIFAR10(root='./data', train=False, download=True, transform=transform)\n",
    "testloader = torch.utils.data.DataLoader(testset, batch_size=4, shuffle=False, num_workers=2)\n",
    "\n",
    "classes = ('plane', 'car', 'bird', 'cat', 'deer', 'dog', 'frog', 'horse', 'ship', 'truck')"
   ]
  },
  {
   "cell_type": "code",
   "execution_count": 6,
   "id": "ba5d2ae5-14a0-45db-8ceb-61cd08b9a065",
   "metadata": {},
   "outputs": [
    {
     "data": {
      "image/png": "[encoded data removed]",
      "text/plain": [
       "<Figure size 640x480 with 1 Axes>"
      ]
     },
     "metadata": {},
     "output_type": "display_data"
    },
    {
     "name": "stdout",
     "output_type": "stream",
     "text": [
      "horse  frog   cat  deer\n"
     ]
    }
   ],
   "source": [
    "import matplotlib.pyplot as plt\n",
    "import numpy as np\n",
    "\n",
    "def imshow(img):\n",
    "    \"\"\"パラメータimgで与えられた画像を表示する\"\"\"\n",
    "    \n",
    "    img = img / 2 + 0.5    # 正規化を戻す\n",
    "    npimg = img.numpy()\n",
    "    plt.imshow(np.transpose(npimg, (1, 2, 0)))\n",
    "    plt.show()\n",
    "    \n",
    "# 適当な訓練セットの画像を取得\n",
    "dataiter = iter(trainloader)\n",
    "images, labels = dataiter.next()\n",
    "\n",
    "# 画像の表示\n",
    "imshow(torchvision.utils.make_grid(images))\n",
    "\n",
    "# ラベルの表示\n",
    "print(' '.join('%5s' % classes[labels[j]] for j in range(4)))"
   ]
  },
  {
   "cell_type": "markdown",
   "id": "42d9fb0c-1406-4e5a-8e15-fe3b22d40c4c",
   "metadata": {},
   "source": [
    "## 畳み込みニューラルネットワークの定義"
   ]
  },
  {
   "cell_type": "code",
   "execution_count": 7,
   "id": "974ab0d8-67bb-487f-bf63-39724a0ba8b0",
   "metadata": {},
   "outputs": [],
   "source": [
    "import torch.nn as nn\n",
    "import torch.nn.functional as F\n",
    "\n",
    "\n",
    "class Net(nn.Module):\n",
    "    def __init__(self):\n",
    "        super(Net, self).__init__()\n",
    "        self.conv1 = nn.Conv2d(3, 6, 5)\n",
    "        self.pool = nn.MaxPool2d(2, 2)\n",
    "        self.conv2 = nn.Conv2d(6, 16, 5)\n",
    "        self.fc1 = nn.Linear(16 * 5 * 5, 120)\n",
    "        self.fc2 = nn.Linear(120, 84)\n",
    "        self.fc3 = nn.Linear(84, 10)\n",
    "\n",
    "    def forward(self, x):\n",
    "        x = self.pool(F.relu(self.conv1(x)))\n",
    "        x = self.pool(F.relu(self.conv2(x)))\n",
    "        x = x.view(-1, 16 * 5 * 5)\n",
    "        x = F.relu(self.fc1(x))\n",
    "        x = F.relu(self.fc2(x))\n",
    "        x = self.fc3(x)\n",
    "        return x\n",
    "\n",
    "\n",
    "net = Net()"
   ]
  },
  {
   "cell_type": "markdown",
   "id": "ad86eec1-de0f-4d7b-9aac-ec8cb10433da",
   "metadata": {},
   "source": [
    "## 損失関数とオプティマイザの定義\n",
    "\n",
    "- 損失はクロスエントロピー誤差\n",
    "- 最適化はmomentumつきのSGD"
   ]
  },
  {
   "cell_type": "code",
   "execution_count": 8,
   "id": "9f0a1e5b-b735-4fe5-b2b3-5411cd4175f6",
   "metadata": {},
   "outputs": [],
   "source": [
    "import torch.optim as optim\n",
    "\n",
    "criterion = nn.CrossEntropyLoss()\n",
    "optimizer = optim.SGD(net.parameters(), lr=0.001, momentum=0.9)"
   ]
  },
  {
   "cell_type": "markdown",
   "id": "e40e251c-1b4a-4e69-a7dc-c5eb3eda0021",
   "metadata": {},
   "source": [
    "## ネットワークの訓練"
   ]
  },
  {
   "cell_type": "code",
   "execution_count": 9,
   "id": "ec4a2b76-40d6-4ccd-8bb9-390c3a509e44",
   "metadata": {},
   "outputs": [
    {
     "name": "stdout",
     "output_type": "stream",
     "text": [
      "[1,  2000] loss: 2.196\n",
      "[1,  4000] loss: 1.844\n",
      "[1,  6000] loss: 1.674\n",
      "[1,  8000] loss: 1.573\n",
      "[1, 10000] loss: 1.516\n",
      "[1, 12000] loss: 1.468\n",
      "[2,  2000] loss: 1.395\n",
      "[2,  4000] loss: 1.374\n",
      "[2,  6000] loss: 1.341\n",
      "[2,  8000] loss: 1.326\n",
      "[2, 10000] loss: 1.285\n",
      "[2, 12000] loss: 1.309\n",
      "Fininshed training\n"
     ]
    }
   ],
   "source": [
    "for epoch in range(2):\n",
    "    \n",
    "    running_loss = 0.0\n",
    "    for i, data in enumerate(trainloader, 0):\n",
    "        \n",
    "        # データセットのデータを[inputs, labels]のtupleで取得\n",
    "        inputs, labels = data\n",
    "        \n",
    "        # パラメータの勾配をリセット\n",
    "        optimizer.zero_grad()\n",
    "        \n",
    "        # 順伝播\n",
    "        outputs = net(inputs)\n",
    "        # 損失計算&逆伝播\n",
    "        loss = criterion(outputs, labels)\n",
    "        loss.backward()\n",
    "        # パラメータ更新\n",
    "        optimizer.step()\n",
    "        \n",
    "        # 統計情報の表示\n",
    "        running_loss += loss.item()\n",
    "        \n",
    "        if i % 2000 == 1999:    # 2000に似バッチにつき一回だけ表示\n",
    "            print('[%d, %5d] loss: %.3f' % (epoch + 1, i + 1, running_loss / 2000))\n",
    "            running_loss = 0.0\n",
    "            \n",
    "print('Fininshed training')"
   ]
  },
  {
   "cell_type": "code",
   "execution_count": 10,
   "id": "b6cb24b3-2228-48f9-b010-c321accbc9dc",
   "metadata": {},
   "outputs": [],
   "source": [
    "PATH = './cifar_net.pth'\n",
    "torch.save(net.state_dict(), PATH)"
   ]
  },
  {
   "cell_type": "markdown",
   "id": "d39c8db4-caf1-4f1d-a208-31abafa4f0d8",
   "metadata": {},
   "source": [
    "## テストデータでネットワークをテスト"
   ]
  },
  {
   "cell_type": "code",
   "execution_count": 11,
   "id": "d214d233-584b-469f-b2c2-472fd20d0a13",
   "metadata": {},
   "outputs": [
    {
     "data": {
      "image/png": "[encoded data removed]",
      "text/plain": [
       "<Figure size 640x480 with 1 Axes>"
      ]
     },
     "metadata": {},
     "output_type": "display_data"
    },
    {
     "name": "stdout",
     "output_type": "stream",
     "text": [
      "GroundTruth:    cat  ship  ship plane\n"
     ]
    }
   ],
   "source": [
    "dataiter = iter(testloader)\n",
    "images, labels = dataiter.next()\n",
    "\n",
    "# 画像と正解ラベルの表示\n",
    "imshow(torchvision.utils.make_grid(images))\n",
    "print('GroundTruth: ', ' '.join('%5s' % classes[labels[j]] for j in range(4)))"
   ]
  },
  {
   "cell_type": "code",
   "execution_count": 12,
   "id": "a15e029a-55f1-4ab2-90e8-f2293359a8d7",
   "metadata": {},
   "outputs": [],
   "source": [
    "del net"
   ]
  },
  {
   "cell_type": "code",
   "execution_count": 13,
   "id": "1718f6fc-e9b9-4418-9027-59eac5318207",
   "metadata": {},
   "outputs": [],
   "source": [
    "net = Net()\n",
    "net.load_state_dict(torch.load(PATH))\n",
    "outputs = net(images)"
   ]
  },
  {
   "cell_type": "code",
   "execution_count": 15,
   "id": "65c2031c-bd09-4d55-8a7b-5bbb0ee48473",
   "metadata": {},
   "outputs": [
    {
     "name": "stdout",
     "output_type": "stream",
     "text": [
      "tensor([3, 8, 1, 0])\n",
      "Predicted:    cat  ship   car plane\n"
     ]
    }
   ],
   "source": [
    "_, predicted = torch.max(outputs, 1)\n",
    "\n",
    "# 最も信頼度が高いカテゴリを表示\n",
    "print(predicted)\n",
    "print('Predicted: ', ' '.join('%5s' % classes[predicted[j]] for j in range(4)))"
   ]
  },
  {
   "cell_type": "code",
   "execution_count": 16,
   "id": "e06fed96-00da-4452-a323-d9145669f341",
   "metadata": {},
   "outputs": [
    {
     "name": "stdout",
     "output_type": "stream",
     "text": [
      "Accuracy of the network on the 10000 test images:  54.16\n"
     ]
    }
   ],
   "source": [
    "correct = 0\n",
    "total = 0\n",
    "with torch.no_grad():\n",
    "    for data in testloader:\n",
    "        images, labels = data\n",
    "        outputs = net(images)\n",
    "        _, predicted = torch.max(outputs.data, 1)\n",
    "        total += labels.size(0)\n",
    "        # ラベルが一致しているバッチの総和を取る\n",
    "        correct += (predicted == labels).sum().item()\n",
    "print('Accuracy of the network on the 10000 test images: ', 100 * correct / total)"
   ]
  },
  {
   "cell_type": "markdown",
   "id": "cca6795c-fa3f-4f42-b3e5-86d96d6c8426",
   "metadata": {},
   "source": [
    "## うまく分類できたクラスと, できなかったクラスを分類"
   ]
  },
  {
   "cell_type": "code",
   "execution_count": 21,
   "id": "3360cf4e-659c-4195-86b1-19d053c995dc",
   "metadata": {},
   "outputs": [
    {
     "name": "stdout",
     "output_type": "stream",
     "text": [
      "Accuracy of plane: 62.9\n",
      "Accuracy of car: 64.7\n",
      "Accuracy of bird: 20.7\n",
      "Accuracy of cat: 36.5\n",
      "Accuracy of deer: 64.0\n",
      "Accuracy of dog: 46.5\n",
      "Accuracy of frog: 45.6\n",
      "Accuracy of horse: 72.2\n",
      "Accuracy of ship: 68.2\n",
      "Accuracy of truck: 60.3\n"
     ]
    }
   ],
   "source": [
    "class_correct = list(0. for i in range(10))\n",
    "class_total = list(0. for i in range(10))\n",
    "\n",
    "with torch.no_grad():\n",
    "    for data in testloader:\n",
    "        images, labels = data\n",
    "        outputs = net(images)\n",
    "        _, predicted = torch.max(outputs, 1)\n",
    "        c = (predicted == labels).squeeze()\n",
    "        for i in range(4):\n",
    "            label = labels[i]\n",
    "            class_correct[label] += c[i].item()\n",
    "            class_total[label] += 1\n",
    "            \n",
    "for i in range(10):\n",
    "    print(f'Accuracy of {classes[i]}: {100 * class_correct[i] / class_total[i]}')"
   ]
  },
  {
   "cell_type": "markdown",
   "id": "d6ffe7b3-a47e-4845-a9be-f3045fd7865b",
   "metadata": {},
   "source": [
    "# GPUで学習する方法\n",
    "\n",
    "- PyTorch上からCUDAが見えていれば, GPUを使用することができる"
   ]
  },
  {
   "cell_type": "code",
   "execution_count": 24,
   "id": "f34f2440-733c-482a-a32b-5b60cbc78322",
   "metadata": {},
   "outputs": [
    {
     "name": "stdout",
     "output_type": "stream",
     "text": [
      "cuda:0\n"
     ]
    }
   ],
   "source": [
    "device = torch.device('cuda:0' if torch.cuda.is_available() else 'cpu')\n",
    "print(device)"
   ]
  },
  {
   "cell_type": "code",
   "execution_count": 25,
   "id": "b5c6cb58-c28b-4493-8c8e-ee0160189e26",
   "metadata": {},
   "outputs": [
    {
     "data": {
      "text/plain": [
       "Net(\n",
       "  (conv1): Conv2d(3, 6, kernel_size=(5, 5), stride=(1, 1))\n",
       "  (pool): MaxPool2d(kernel_size=2, stride=2, padding=0, dilation=1, ceil_mode=False)\n",
       "  (conv2): Conv2d(6, 16, kernel_size=(5, 5), stride=(1, 1))\n",
       "  (fc1): Linear(in_features=400, out_features=120, bias=True)\n",
       "  (fc2): Linear(in_features=120, out_features=84, bias=True)\n",
       "  (fc3): Linear(in_features=84, out_features=10, bias=True)\n",
       ")"
      ]
     },
     "execution_count": 25,
     "metadata": {},
     "output_type": "execute_result"
    }
   ],
   "source": [
    "# ネットワーク内の全モジュールを再帰的に調べて, パラメータとバッファをCUDAテンソルに変換する\n",
    "net.to(device)"
   ]
  }
 ],
 "metadata": {
  "kernelspec": {
   "display_name": "pt1.7",
   "language": "python",
   "name": "pt1.7"
  },
  "language_info": {
   "codemirror_mode": {
    "name": "ipython",
    "version": 3
   },
   "file_extension": ".py",
   "mimetype": "text/x-python",
   "name": "python",
   "nbconvert_exporter": "python",
   "pygments_lexer": "ipython3",
   "version": "3.8.10"
  },
  "widgets": {
   "application/vnd.jupyter.widget-state+json": {
    "state": {},
    "version_major": 2,
    "version_minor": 0
   }
  }
 },
 "nbformat": 4,
 "nbformat_minor": 5
}
