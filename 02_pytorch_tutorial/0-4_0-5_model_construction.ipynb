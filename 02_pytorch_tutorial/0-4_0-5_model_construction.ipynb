{
 "cells": [
  {
   "cell_type": "code",
   "execution_count": null,
   "id": "b67101c6-bf4f-4647-a830-a959a62e6efa",
   "metadata": {},
   "outputs": [],
   "source": [
    "import sys\n",
    "import os\n",
    "from pathlib import Path\n",
    "\n",
    "# importディレクトリの追加\n",
    "# sys.path.append(os.path.join(os.path.dirname(__file__), '..'))\n",
    "print(sys.path)\n",
    "\n",
    "# プロキシの設定\n",
    "# os.environ['HTTP_PROXY'] = ''\n",
    "# os.environ['HTTPS_PROXY'] = ''\n",
    "\n",
    "%matplotlib inline"
   ]
  },
  {
   "cell_type": "code",
   "execution_count": null,
   "id": "8b221e63-1a66-4da5-8964-2dedabf6108f",
   "metadata": {},
   "outputs": [],
   "source": [
    "!nvidia-smi"
   ]
  },
  {
   "cell_type": "markdown",
   "id": "d96e84e0-2865-4479-9b33-2de050c78d8f",
   "metadata": {},
   "source": [
    "# Automatic Differentiation with `torch.autograd`\n",
    "\n",
    "- NNを訓練する際, 基本的には誤差逆伝播(back propagation)が使用される\n",
    "    - backpropでは, モデルのパラメータは **損失関数に対するその変数の微分値(勾配)に応じて調整される**\n",
    "    \n",
    "- PyTorchには勾配の値を計算するために, `torch.autograd`という微分エンジンが組み込まれており, 計算グラフの勾配を自動計算できる\n",
    "\n",
    "- 以下, シンプルな1層のネットワークを想定した例で説明"
   ]
  },
  {
   "cell_type": "code",
   "execution_count": 1,
   "id": "7b8f5184-f070-4853-91f2-3689becba190",
   "metadata": {},
   "outputs": [],
   "source": [
    "import torch\n",
    "\n",
    "x = torch.ones(5)\n",
    "y = torch.zeros(3)\n",
    "\n",
    "# 最適化するパラメータ\n",
    "w = torch.randn(5, 3, requires_grad=True)\n",
    "b = torch.randn(3, requires_grad=True)\n",
    "\n",
    "# 計算の定義\n",
    "z = torch.matmul(x, w) + b\n",
    "loss = torch.nn.functional.binary_cross_entropy_with_logits(z, y)"
   ]
  },
  {
   "cell_type": "markdown",
   "id": "8ee9dfcf-5d77-4d59-88d4-e49f2754e3da",
   "metadata": {},
   "source": [
    "## Back Propagation\n",
    "\n",
    "- 計算グラフを構築する際に, テンソルに適用する関数は[Functionクラスのオブジェクト](https://pytorch.org/docs/stable/autograd.html#function)が適用される\n",
    "- Functionクラスオブジェクトには, **順伝播と逆伝播の計算処理の定義が含まれている**\n",
    "- 勾配計算の定義はテンソルの`grad_fn`プロパティに格納される\n",
    "- 偏微分値を求めるためには, `backward()`を実行し, `w.grad`と`b.grad`の値を導出する\n",
    "\n",
    "- **gradは計算グラフのleaf nodeかつ, reuires_grad=Trueのテンソルのみで求めることができる**\n",
    "- すべての変数で勾配計算が行えるわけではない\n",
    "- **勾配計算は各計算グラフに対して, backwardを1回のみ実行できる**\n",
    "    - **同じ計算グラフに複数回のbackwardを実行する場合, retain_graph=Trueをbackwardの引数に指定する必要がある**"
   ]
  },
  {
   "cell_type": "code",
   "execution_count": 3,
   "id": "6e7a386d-5c42-4e43-8c8a-6a8f60fd4883",
   "metadata": {},
   "outputs": [
    {
     "name": "stdout",
     "output_type": "stream",
     "text": [
      "Gradient function for z = <AddBackward0 object at 0x7fadac31d970>\n",
      "Gradient function for loss = <BinaryCrossEntropyWithLogitsBackward object at 0x7fadac31da60>\n"
     ]
    },
    {
     "ename": "RuntimeError",
     "evalue": "Trying to backward through the graph a second time, but the saved intermediate results have already been freed. Specify retain_graph=True when calling backward the first time.",
     "output_type": "error",
     "traceback": [
      "\u001b[0;31m---------------------------------------------------------------------------\u001b[0m",
      "\u001b[0;31mRuntimeError\u001b[0m                              Traceback (most recent call last)",
      "Cell \u001b[0;32mIn[3], line 4\u001b[0m\n\u001b[1;32m      1\u001b[0m \u001b[38;5;28mprint\u001b[39m(\u001b[38;5;124mf\u001b[39m\u001b[38;5;124m'\u001b[39m\u001b[38;5;124mGradient function for z = \u001b[39m\u001b[38;5;132;01m{\u001b[39;00mz\u001b[38;5;241m.\u001b[39mgrad_fn\u001b[38;5;132;01m}\u001b[39;00m\u001b[38;5;124m'\u001b[39m)\n\u001b[1;32m      2\u001b[0m \u001b[38;5;28mprint\u001b[39m(\u001b[38;5;124mf\u001b[39m\u001b[38;5;124m'\u001b[39m\u001b[38;5;124mGradient function for loss = \u001b[39m\u001b[38;5;132;01m{\u001b[39;00mloss\u001b[38;5;241m.\u001b[39mgrad_fn\u001b[38;5;132;01m}\u001b[39;00m\u001b[38;5;124m'\u001b[39m)\n\u001b[0;32m----> 4\u001b[0m \u001b[43mloss\u001b[49m\u001b[38;5;241;43m.\u001b[39;49m\u001b[43mbackward\u001b[49m\u001b[43m(\u001b[49m\u001b[43m)\u001b[49m\n\u001b[1;32m      5\u001b[0m \u001b[38;5;28mprint\u001b[39m(w\u001b[38;5;241m.\u001b[39mgrad)\n\u001b[1;32m      6\u001b[0m \u001b[38;5;28mprint\u001b[39m(b\u001b[38;5;241m.\u001b[39mgrad)\n",
      "File \u001b[0;32m~/venv/pt1.7/lib/python3.8/site-packages/torch/tensor.py:221\u001b[0m, in \u001b[0;36mTensor.backward\u001b[0;34m(self, gradient, retain_graph, create_graph)\u001b[0m\n\u001b[1;32m    213\u001b[0m \u001b[38;5;28;01mif\u001b[39;00m \u001b[38;5;28mtype\u001b[39m(\u001b[38;5;28mself\u001b[39m) \u001b[38;5;129;01mis\u001b[39;00m \u001b[38;5;129;01mnot\u001b[39;00m Tensor \u001b[38;5;129;01mand\u001b[39;00m has_torch_function(relevant_args):\n\u001b[1;32m    214\u001b[0m     \u001b[38;5;28;01mreturn\u001b[39;00m handle_torch_function(\n\u001b[1;32m    215\u001b[0m         Tensor\u001b[38;5;241m.\u001b[39mbackward,\n\u001b[1;32m    216\u001b[0m         relevant_args,\n\u001b[0;32m   (...)\u001b[0m\n\u001b[1;32m    219\u001b[0m         retain_graph\u001b[38;5;241m=\u001b[39mretain_graph,\n\u001b[1;32m    220\u001b[0m         create_graph\u001b[38;5;241m=\u001b[39mcreate_graph)\n\u001b[0;32m--> 221\u001b[0m \u001b[43mtorch\u001b[49m\u001b[38;5;241;43m.\u001b[39;49m\u001b[43mautograd\u001b[49m\u001b[38;5;241;43m.\u001b[39;49m\u001b[43mbackward\u001b[49m\u001b[43m(\u001b[49m\u001b[38;5;28;43mself\u001b[39;49m\u001b[43m,\u001b[49m\u001b[43m \u001b[49m\u001b[43mgradient\u001b[49m\u001b[43m,\u001b[49m\u001b[43m \u001b[49m\u001b[43mretain_graph\u001b[49m\u001b[43m,\u001b[49m\u001b[43m \u001b[49m\u001b[43mcreate_graph\u001b[49m\u001b[43m)\u001b[49m\n",
      "File \u001b[0;32m~/venv/pt1.7/lib/python3.8/site-packages/torch/autograd/__init__.py:130\u001b[0m, in \u001b[0;36mbackward\u001b[0;34m(tensors, grad_tensors, retain_graph, create_graph, grad_variables)\u001b[0m\n\u001b[1;32m    127\u001b[0m \u001b[38;5;28;01mif\u001b[39;00m retain_graph \u001b[38;5;129;01mis\u001b[39;00m \u001b[38;5;28;01mNone\u001b[39;00m:\n\u001b[1;32m    128\u001b[0m     retain_graph \u001b[38;5;241m=\u001b[39m create_graph\n\u001b[0;32m--> 130\u001b[0m \u001b[43mVariable\u001b[49m\u001b[38;5;241;43m.\u001b[39;49m\u001b[43m_execution_engine\u001b[49m\u001b[38;5;241;43m.\u001b[39;49m\u001b[43mrun_backward\u001b[49m\u001b[43m(\u001b[49m\n\u001b[1;32m    131\u001b[0m \u001b[43m    \u001b[49m\u001b[43mtensors\u001b[49m\u001b[43m,\u001b[49m\u001b[43m \u001b[49m\u001b[43mgrad_tensors_\u001b[49m\u001b[43m,\u001b[49m\u001b[43m \u001b[49m\u001b[43mretain_graph\u001b[49m\u001b[43m,\u001b[49m\u001b[43m \u001b[49m\u001b[43mcreate_graph\u001b[49m\u001b[43m,\u001b[49m\n\u001b[1;32m    132\u001b[0m \u001b[43m    \u001b[49m\u001b[43mallow_unreachable\u001b[49m\u001b[38;5;241;43m=\u001b[39;49m\u001b[38;5;28;43;01mTrue\u001b[39;49;00m\u001b[43m)\u001b[49m\n",
      "\u001b[0;31mRuntimeError\u001b[0m: Trying to backward through the graph a second time, but the saved intermediate results have already been freed. Specify retain_graph=True when calling backward the first time."
     ]
    }
   ],
   "source": [
    "print(f'Gradient function for z = {z.grad_fn}')\n",
    "print(f'Gradient function for loss = {loss.grad_fn}')\n",
    "\n",
    "loss.backward()\n",
    "print(w.grad)\n",
    "print(b.grad)\n",
    "\n",
    "# 2回目の誤差逆伝播を実行\n",
    "# loss.backward() => \"Runtime Error: Trying to backward through the graph a second time, but the saved intermediate results have already been freed. Specify retain_graph=True when calling backward the first time.\""
   ]
  },
  {
   "cell_type": "markdown",
   "id": "3edbb2c8-fcf4-4c78-ba20-9811a63595d5",
   "metadata": {},
   "source": [
    "## 勾配計算をしない方法\n",
    "\n",
    "- 勾配計算が不要な場合は以下の方法を用いて無効化できる\n",
    "  - `torch.no_grad()`ブロックを作成し, それらのコードを記載する\n",
    "  - `detach()`を使用する  \n",
    "\n",
    " \n",
    "- 勾配計算や追跡を不能にしたいケースは以下のようなもの\n",
    "\n",
    "  - ネットワークパラメータの一部を固定したい(**ファインチューニング等**)\n",
    "  - 順伝播の計算スピードを高速化したい"
   ]
  },
  {
   "cell_type": "code",
   "execution_count": 4,
   "id": "c0615873-a5fa-4044-b18f-90762493c6be",
   "metadata": {},
   "outputs": [
    {
     "name": "stdout",
     "output_type": "stream",
     "text": [
      "True\n",
      "False\n",
      "False\n"
     ]
    }
   ],
   "source": [
    "z1 = torch.matmul(x, w) + b\n",
    "print(z1.requires_grad)\n",
    "\n",
    "with torch.no_grad():\n",
    "    z2 = torch.matmul(x, w) + b\n",
    "    print(z2.requires_grad)\n",
    "\n",
    "z3 = torch.matmul(x, w) + b\n",
    "z_det = z3.detach()\n",
    "print(z_det.requires_grad)"
   ]
  },
  {
   "cell_type": "markdown",
   "id": "1b6825c6-24b8-45fb-8e7a-4511864ee473",
   "metadata": {},
   "source": [
    "# 計算グラフについて補足"
   ]
  },
  {
   "cell_type": "markdown",
   "id": "c5b9f2a6-7c74-4586-b756-d7016da807dd",
   "metadata": {},
   "source": [
    "- autogradはテンソルとそれらに対する演算処理を[`Function`](https://pytorch.org/docs/stable/autograd.html#torch.autograd.Function)を構成単位として、DAG（a directed acyclic graph）の形で保存したグラフ\n",
    "\n",
    "- DAGにおいて, leafは入力テンソル, rootは出力テンソルとなる\n",
    "- このグラフをrootから各leafまで**微分の連鎖率で追跡する**ことで, 各変数に対する偏微分の値を求めることができる\n",
    "\n",
    "- `.backward()`がDAGのrootテンソルに対して実行されると, autogradは以下を行う\n",
    "  - 各変数の`.grad_fn()`を計算する\n",
    "  - 各変数の`.grad`プロパティに微分値を代入する\n",
    "  - 微分の連鎖率を使用して, 各leafの微分値を求める"
   ]
  },
  {
   "cell_type": "markdown",
   "id": "23034dc3-1482-4042-9def-5f981f8e68cf",
   "metadata": {},
   "source": [
    "## テンソルに対する勾配とヤコビ行列"
   ]
  },
  {
   "cell_type": "markdown",
   "id": "2be063bd-0960-4aab-9c7e-97172744d593",
   "metadata": {},
   "source": [
    "- 損失関数の出力はスカラ値の場合が多いが, テンソルが返されるケースもある\n",
    "- このような場合, PyTorchでは実際の勾配ではなく, **ヤコビ行列(Jacobian matrix)** を計算することができる\n",
    "\n",
    "- ヤコビ行列そのものを計算する代わりに, PytorchではJacobian Productを入力ベクトル $ v $ に対して計算する\n",
    "  - `backward()`を引数なしに実行するのは, **`backward(torch.tensor(1.0))`実行しているのと同じ**  \n",
    "\n",
    "\n",
    "- PyTorchでは`backward`を実行すると,**勾配を蓄積する**\n",
    "  - 計算グラフの全leafのgradには, **勾配が足し算される**"
   ]
  },
  {
   "cell_type": "code",
   "execution_count": 7,
   "id": "0f033b28-14d2-4254-a691-a673d762b30a",
   "metadata": {},
   "outputs": [
    {
     "name": "stdout",
     "output_type": "stream",
     "text": [
      "First call\n",
      " tensor([[4., 2., 2., 2., 2.],\n",
      "        [2., 4., 2., 2., 2.],\n",
      "        [2., 2., 4., 2., 2.],\n",
      "        [2., 2., 2., 4., 2.],\n",
      "        [2., 2., 2., 2., 4.]])\n",
      "\n",
      "Second call\n",
      " tensor([[8., 4., 4., 4., 4.],\n",
      "        [4., 8., 4., 4., 4.],\n",
      "        [4., 4., 8., 4., 4.],\n",
      "        [4., 4., 4., 8., 4.],\n",
      "        [4., 4., 4., 4., 8.]])\n",
      "\n",
      "Call after zeroing gradients\n",
      " tensor([[4., 2., 2., 2., 2.],\n",
      "        [2., 4., 2., 2., 2.],\n",
      "        [2., 2., 4., 2., 2.],\n",
      "        [2., 2., 2., 4., 2.],\n",
      "        [2., 2., 2., 2., 4.]])\n"
     ]
    }
   ],
   "source": [
    "inp = torch.eye(5, requires_grad=True)\n",
    "out = (inp+1).pow(2)\n",
    "\n",
    "# 1回目のbackprop\n",
    "out.backward(torch.ones_like(inp), retain_graph=True)\n",
    "print(\"First call\\n\", inp.grad)\n",
    "\n",
    "# 2回目のbackprop\n",
    "out.backward(torch.ones_like(inp), retain_graph=True)\n",
    "print(\"\\nSecond call\\n\", inp.grad)  # => 勾配が足し算される\n",
    "\n",
    "# 勾配を0リセット\n",
    "inp.grad.zero_()\n",
    "\n",
    "out.backward(torch.ones_like(inp), retain_graph=True)\n",
    "print(\"\\nCall after zeroing gradients\\n\", inp.grad)"
   ]
  }
 ],
 "metadata": {
  "kernelspec": {
   "display_name": "pt1.7",
   "language": "python",
   "name": "pt1.7"
  },
  "language_info": {
   "codemirror_mode": {
    "name": "ipython",
    "version": 3
   },
   "file_extension": ".py",
   "mimetype": "text/x-python",
   "name": "python",
   "nbconvert_exporter": "python",
   "pygments_lexer": "ipython3",
   "version": "3.8.10"
  },
  "widgets": {
   "application/vnd.jupyter.widget-state+json": {
    "state": {},
    "version_major": 2,
    "version_minor": 0
   }
  }
 },
 "nbformat": 4,
 "nbformat_minor": 5
}
