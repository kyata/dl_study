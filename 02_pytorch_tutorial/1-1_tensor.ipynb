{
 "cells": [
  {
   "cell_type": "code",
   "execution_count": 2,
   "id": "b67101c6-bf4f-4647-a830-a959a62e6efa",
   "metadata": {},
   "outputs": [
    {
     "name": "stdout",
     "output_type": "stream",
     "text": [
      "['/home/y-katayama/notebooks/dl_study/02_pytorch_tutorial', '/usr/lib/python38.zip', '/usr/lib/python3.8', '/usr/lib/python3.8/lib-dynload', '', '/home/y-katayama/venv/pt1.7/lib/python3.8/site-packages']\n"
     ]
    }
   ],
   "source": [
    "import sys\n",
    "import os\n",
    "from pathlib import Path\n",
    "\n",
    "# importディレクトリの追加\n",
    "# sys.path.append(os.path.join(os.path.dirname(__file__), '..'))\n",
    "print(sys.path)\n",
    "\n",
    "# プロキシの設定\n",
    "# os.environ['HTTP_PROXY'] = ''\n",
    "# os.environ['HTTPS_PROXY'] = ''\n",
    "\n",
    "%matplotlib inline"
   ]
  },
  {
   "cell_type": "code",
   "execution_count": 3,
   "id": "8b221e63-1a66-4da5-8964-2dedabf6108f",
   "metadata": {},
   "outputs": [
    {
     "name": "stdout",
     "output_type": "stream",
     "text": [
      "Fri Dec  9 14:43:40 2022       \n",
      "+-----------------------------------------------------------------------------+\n",
      "| NVIDIA-SMI 525.60.13    Driver Version: 525.60.13    CUDA Version: 12.0     |\n",
      "|-------------------------------+----------------------+----------------------+\n",
      "| GPU  Name        Persistence-M| Bus-Id        Disp.A | Volatile Uncorr. ECC |\n",
      "| Fan  Temp  Perf  Pwr:Usage/Cap|         Memory-Usage | GPU-Util  Compute M. |\n",
      "|                               |                      |               MIG M. |\n",
      "|===============================+======================+======================|\n",
      "|   0  NVIDIA GeForce ...  On   | 00000000:01:00.0 Off |                  N/A |\n",
      "| 40%   34C    P8    17W / 184W |     50MiB /  8192MiB |      0%      Default |\n",
      "|                               |                      |                  N/A |\n",
      "+-------------------------------+----------------------+----------------------+\n",
      "|   1  NVIDIA GeForce ...  On   | 00000000:03:00.0 Off |                  N/A |\n",
      "| 40%   32C    P8    14W / 184W |      8MiB /  8192MiB |      0%      Default |\n",
      "|                               |                      |                  N/A |\n",
      "+-------------------------------+----------------------+----------------------+\n",
      "                                                                               \n",
      "+-----------------------------------------------------------------------------+\n",
      "| Processes:                                                                  |\n",
      "|  GPU   GI   CI        PID   Type   Process name                  GPU Memory |\n",
      "|        ID   ID                                                   Usage      |\n",
      "|=============================================================================|\n",
      "|    0   N/A  N/A      1986      G   /usr/lib/xorg/Xorg                 45MiB |\n",
      "|    1   N/A  N/A      1986      G   /usr/lib/xorg/Xorg                  4MiB |\n",
      "+-----------------------------------------------------------------------------+\n"
     ]
    }
   ],
   "source": [
    "!nvidia-smi"
   ]
  },
  {
   "cell_type": "code",
   "execution_count": 4,
   "id": "6601fbba-c08f-4bc5-bef1-1c108e9302a9",
   "metadata": {},
   "outputs": [],
   "source": [
    "from __future__ import print_function\n",
    "import torch"
   ]
  },
  {
   "cell_type": "markdown",
   "id": "a639a428-d237-411c-bfbc-10918c52f88c",
   "metadata": {},
   "source": [
    "# Tensor"
   ]
  },
  {
   "cell_type": "markdown",
   "id": "57c1384f-f82c-4b2e-bd6b-b0c9bf7dc2f8",
   "metadata": {},
   "source": [
    "- 初期化されていない行列は実際に使用されるまで、値は不定となる"
   ]
  },
  {
   "cell_type": "code",
   "execution_count": 5,
   "id": "b68b3d07-23d0-4319-b054-74c94d7223ee",
   "metadata": {},
   "outputs": [
    {
     "name": "stdout",
     "output_type": "stream",
     "text": [
      "tensor([[6.3167e-14, 4.5688e-41, 6.3166e-14],\n",
      "        [4.5688e-41, 6.3166e-14, 4.5688e-41],\n",
      "        [6.2012e-14, 4.5688e-41, 6.3166e-14],\n",
      "        [4.5688e-41, 6.2010e-14, 4.5688e-41],\n",
      "        [6.2010e-14, 4.5688e-41, 6.2014e-14]])\n"
     ]
    }
   ],
   "source": [
    "# 未初期化のテンソルを作成\n",
    "x = torch.empty(5, 3)\n",
    "\n",
    "print(x)  # => 色んな値が入ってる"
   ]
  },
  {
   "cell_type": "code",
   "execution_count": 6,
   "id": "25922cce-18b3-4ff4-88de-745ad3d20e2a",
   "metadata": {},
   "outputs": [
    {
     "name": "stdout",
     "output_type": "stream",
     "text": [
      "tensor([[0.4946, 0.8260, 0.3482],\n",
      "        [0.2733, 0.0091, 0.4329],\n",
      "        [0.2194, 0.8463, 0.7269],\n",
      "        [0.5101, 0.9753, 0.4012],\n",
      "        [0.5884, 0.9438, 0.1231]])\n",
      "tensor([[0, 0, 0],\n",
      "        [0, 0, 0],\n",
      "        [0, 0, 0],\n",
      "        [0, 0, 0],\n",
      "        [0, 0, 0]])\n",
      "tensor([5.5000, 3.0000])\n"
     ]
    }
   ],
   "source": [
    "# 乱数によって初期化されたテンソル\n",
    "x = torch.rand(5, 3)\n",
    "print(x)\n",
    "\n",
    "# dtypeパラメータで行列の型を指定できる\n",
    "y = torch.zeros(5, 3, dtype=torch.long)\n",
    "print(y)\n",
    "\n",
    "# 数値を指定して生成することもできる\n",
    "z = torch.tensor([5.5, 3])\n",
    "print(z)"
   ]
  },
  {
   "cell_type": "markdown",
   "id": "3621b3e4-2dc7-4274-8b1b-fe478f9cf0dc",
   "metadata": {},
   "source": [
    "# テンソルの形状"
   ]
  },
  {
   "cell_type": "markdown",
   "id": "735551e5-dae7-4209-9161-727e4dacf4f8",
   "metadata": {},
   "source": [
    "- テンソルの形状は`.shape`または`.size()`で取得できる\n",
    "- torch.Size()はタプルなので, 注意すること"
   ]
  },
  {
   "cell_type": "code",
   "execution_count": 7,
   "id": "d3c85306-45d1-48cf-8980-20b426b03ef5",
   "metadata": {},
   "outputs": [
    {
     "name": "stdout",
     "output_type": "stream",
     "text": [
      "x.shape:  torch.Size([5, 3])\n",
      "x.size():  torch.Size([5, 3])\n"
     ]
    }
   ],
   "source": [
    "print('x.shape: ', x.shape)\n",
    "print('x.size(): ', x.size())"
   ]
  },
  {
   "cell_type": "markdown",
   "id": "8fd25b74-660c-4ded-8858-133ffe64d38d",
   "metadata": {},
   "source": [
    "# テンソルの層さ(変形・変換等)"
   ]
  },
  {
   "cell_type": "markdown",
   "id": "fe6d52e0-774d-431e-9a4f-d4d138e544f2",
   "metadata": {},
   "source": [
    "- tensorの形を変えたい場合は`torch.view`を使用する\n",
    "  - numpyのreshapeに相当するが, 微妙に機能が異なる"
   ]
  },
  {
   "cell_type": "code",
   "execution_count": 8,
   "id": "bfd5201b-f4b7-4626-91fb-71f040be2fa2",
   "metadata": {},
   "outputs": [
    {
     "name": "stdout",
     "output_type": "stream",
     "text": [
      "tensor([[-0.1091, -0.4157,  0.8363,  0.7931],\n",
      "        [-0.3663,  2.1845,  1.4316,  0.8661],\n",
      "        [-2.3937,  0.0236, -0.1421,  0.8042],\n",
      "        [-0.5636,  1.1440, -1.3192,  0.4795]])\n",
      "tensor([-0.1091, -0.4157,  0.8363,  0.7931, -0.3663,  2.1845,  1.4316,  0.8661,\n",
      "        -2.3937,  0.0236, -0.1421,  0.8042, -0.5636,  1.1440, -1.3192,  0.4795])\n",
      "tensor([[-0.1091, -0.4157,  0.8363,  0.7931, -0.3663,  2.1845,  1.4316,  0.8661],\n",
      "        [-2.3937,  0.0236, -0.1421,  0.8042, -0.5636,  1.1440, -1.3192,  0.4795]])\n"
     ]
    }
   ],
   "source": [
    "x = torch.randn(4, 4)\n",
    "print(x)\n",
    "\n",
    "y = x.view(16)\n",
    "print(y)\n",
    "\n",
    "# -1を指定すると他に設定した次元から, 適切な値を自動で計算してくれる\n",
    "z = x.view(-1, 8)\n",
    "\n",
    "print(z)"
   ]
  },
  {
   "cell_type": "markdown",
   "id": "87821037-1664-4d81-8c40-1380d629a244",
   "metadata": {},
   "source": [
    "## 残りは0章と重複するので省略"
   ]
  },
  {
   "cell_type": "markdown",
   "id": "2fd3e4e9-fa65-45fc-990e-9e66ccaaf698",
   "metadata": {
    "tags": []
   },
   "source": [
    "# 2 AutoGrad(自動微分)"
   ]
  },
  {
   "cell_type": "markdown",
   "id": "98b4cc67-3f3f-42d5-96d5-70a84fad487f",
   "metadata": {},
   "source": [
    "- `.requires_grad`が`True`の場合, autogradパッケージによってすべての操作が追跡される\n",
    "  - requires_gradを指定しない場合は, デフォルトでFalseが指定される\n",
    "\n",
    "- 追跡履歴からTensorを切り離して追跡を停止する場合は `.detach()`を呼び出す\n",
    "- 演算が終了した際は`.backward()`を呼び出すことで、すべての操作に対する勾配が自動的に計算される\n",
    "    - `with torch.no_grad()`ブロック内では, まとめて追跡履歴を省略することができる\n",
    "\n"
   ]
  },
  {
   "cell_type": "code",
   "execution_count": 9,
   "id": "abbdc6e7-a150-4c97-bd4c-f694f3782767",
   "metadata": {},
   "outputs": [
    {
     "name": "stdout",
     "output_type": "stream",
     "text": [
      "tensor([[1., 1.],\n",
      "        [1., 1.]], requires_grad=True)\n",
      "tensor([[3., 3.],\n",
      "        [3., 3.]], grad_fn=<AddBackward0>)\n",
      "False\n"
     ]
    }
   ],
   "source": [
    "x = torch.ones(2, 2, requires_grad=True)\n",
    "print(x)\n",
    "\n",
    "y = x + 2\n",
    "print(y)\n",
    "\n",
    "y = y.detach()\n",
    "print(y.requires_grad)"
   ]
  },
  {
   "cell_type": "markdown",
   "id": "32b80991-c082-42d4-bc5c-687148c3327a",
   "metadata": {},
   "source": [
    "## 誤差逆伝播"
   ]
  },
  {
   "cell_type": "code",
   "execution_count": 10,
   "id": "b04e4c28-b627-49eb-829a-1abcdc8eb54c",
   "metadata": {},
   "outputs": [
    {
     "name": "stdout",
     "output_type": "stream",
     "text": [
      "tensor([[27., 27.],\n",
      "        [27., 27.]], grad_fn=<MulBackward0>) tensor(27., grad_fn=<MeanBackward0>)\n"
     ]
    }
   ],
   "source": [
    "del y\n",
    "y = x + 2\n",
    "\n",
    "z = y * y * 3\n",
    "out = z.mean()\n",
    "print(z, out)"
   ]
  },
  {
   "cell_type": "code",
   "execution_count": 11,
   "id": "13ac7e2a-c238-4531-9b97-b33dd0bc7564",
   "metadata": {},
   "outputs": [
    {
     "name": "stdout",
     "output_type": "stream",
     "text": [
      "tensor(27., grad_fn=<MeanBackward0>)\n",
      "tensor([[4.5000, 4.5000],\n",
      "        [4.5000, 4.5000]])\n"
     ]
    }
   ],
   "source": [
    "out.backward()\n",
    "print(out)\n",
    "\n",
    "# 勾配を表示\n",
    "print(x.grad)"
   ]
  },
  {
   "cell_type": "markdown",
   "id": "c012c8d1-852c-4b29-bebe-7813c4aa0d14",
   "metadata": {},
   "source": [
    "- `torch.autograd`はベクトルのヤコビアンの積を算出する\n",
    "- ベクトルのヤコビアンの積は, スカラ量ではない出力を持つモデルに対して,  \n",
    "  **外部から異なる勾配を追加して計算**する際に有効\n",
    "  \n",
    "- `.backward()`を実行する変数はスカラーでなければならないことに注意する。\n",
    "    - 2つ以上の要素を持つ配列で`backward()`を実行すると、エラーが発生する。\n",
    "    - 2つ以上の要素を持つ配列で誤差逆伝播したい場合は, "
   ]
  },
  {
   "cell_type": "code",
   "execution_count": 12,
   "id": "3c3ce0bc-f1bb-401a-85b2-4566e68af10f",
   "metadata": {},
   "outputs": [
    {
     "name": "stdout",
     "output_type": "stream",
     "text": [
      "norm(): 1.6952590942382812\n",
      "norm(): 3.3905181884765625\n",
      "norm(): 6.781036376953125\n",
      "norm(): 13.56207275390625\n",
      "norm(): 27.1241455078125\n",
      "norm(): 54.248291015625\n",
      "norm(): 108.49658203125\n",
      "norm(): 216.9931640625\n",
      "norm(): 433.986328125\n",
      "norm(): 867.97265625\n"
     ]
    }
   ],
   "source": [
    "x = torch.randn(3, requires_grad=True)\n",
    "y = x * 2\n",
    "# print('x: ', x)\n",
    "# print('y: ', y)\n",
    "\n",
    "# yのノルムを計算(各要素の二乗和)し, L2: 1000以下なら二乗する\n",
    "while y.data.norm() < 1000:\n",
    "    # print(f'handcrafted L2', torch.sqrt(y[0]*y[0] + y[1]*y[1] + y[2]*y[2]).item())\n",
    "    print(f'norm():', y.data.norm().item())\n",
    "    # print(f'[{i}] y: ', y)\n",
    "    y = y * 2\n",
    "    # i = i + 1"
   ]
  },
  {
   "cell_type": "markdown",
   "id": "0f89e8cb-df7f-4ede-a667-6fbf9f0fcea2",
   "metadata": {},
   "source": [
    "## ヤコビアン行列の補足\n",
    "https://qiita.com/sudominoru/items/bfe5a3f6499d0ecf8143"
   ]
  },
  {
   "cell_type": "markdown",
   "id": "2aae283a-a06c-4574-a068-a256bbdc4174",
   "metadata": {},
   "source": [
    "- このセルの出力から何倍してyを求めたのか分かる。\n",
    "\n",
    "- `y = scale * x`なので、yのxに関する勾配はscaleとなる\n",
    "- yの勾配をvに対して計算すると, xに対する勾配値が`x.grad`に格納される\n",
    "- `x.grad`はscaleに`v＝[0.1, 1, 0.0001]`が乗算された値となる"
   ]
  },
  {
   "cell_type": "code",
   "execution_count": 13,
   "id": "274deb47-d416-4444-afe1-39de74b40bbf",
   "metadata": {},
   "outputs": [
    {
     "name": "stdout",
     "output_type": "stream",
     "text": [
      "tensor([2.0480e+02, 2.0480e+03, 2.0480e-01])\n",
      "x： tensor([ 0.3558, -0.2641, -0.7226], requires_grad=True)\n",
      "y： tensor([  728.6443,  -540.9526, -1479.8494], grad_fn=<MulBackward0>)\n",
      "倍数： tensor([2048., 2048., 2048.], grad_fn=<DivBackward0>)\n"
     ]
    }
   ],
   "source": [
    "v = torch.tensor([0.1, 1.0, 0.0001], dtype=torch.float)\n",
    "\n",
    "# vに対するyの勾配を計算\n",
    "y.backward(v)\n",
    "\n",
    "print(x.grad)\n",
    "print(\"x：\", x)\n",
    "print(\"y：\", y)\n",
    "\n",
    "# scaleはyに対するxの倍数\n",
    "scale = y/x\n",
    "print(\"倍数：\", scale)"
   ]
  },
  {
   "cell_type": "code",
   "execution_count": 14,
   "id": "6042abce-91d7-447f-8879-1f5ea1bd5194",
   "metadata": {},
   "outputs": [
    {
     "name": "stdout",
     "output_type": "stream",
     "text": [
      "False\n",
      "tensor([True, True, True])\n"
     ]
    }
   ],
   "source": [
    "a = x.detach().clone()\n",
    "print(a.requires_grad)\n",
    "print(a.eq(x))"
   ]
  },
  {
   "cell_type": "code",
   "execution_count": null,
   "id": "53b2fe94-8eda-4a66-b95e-d9588a62e1bc",
   "metadata": {},
   "outputs": [],
   "source": []
  },
  {
   "cell_type": "code",
   "execution_count": null,
   "id": "03bc1841-6b84-445f-893c-39cde22df3da",
   "metadata": {},
   "outputs": [],
   "source": []
  }
 ],
 "metadata": {
  "kernelspec": {
   "display_name": "pt1.7",
   "language": "python",
   "name": "pt1.7"
  },
  "language_info": {
   "codemirror_mode": {
    "name": "ipython",
    "version": 3
   },
   "file_extension": ".py",
   "mimetype": "text/x-python",
   "name": "python",
   "nbconvert_exporter": "python",
   "pygments_lexer": "ipython3",
   "version": "3.8.10"
  },
  "widgets": {
   "application/vnd.jupyter.widget-state+json": {
    "state": {},
    "version_major": 2,
    "version_minor": 0
   }
  }
 },
 "nbformat": 4,
 "nbformat_minor": 5
}
