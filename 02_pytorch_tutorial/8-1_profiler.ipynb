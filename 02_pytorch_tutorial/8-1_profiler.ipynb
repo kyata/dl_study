{
 "cells": [
  {
   "cell_type": "code",
   "execution_count": 1,
   "id": "ca94d365",
   "metadata": {},
   "outputs": [
    {
     "name": "stdout",
     "output_type": "stream",
     "text": [
      "['/home/y-katayama/notebooks/dl_study/02_pytorch_tutorial', '/usr/lib/python38.zip', '/usr/lib/python3.8', '/usr/lib/python3.8/lib-dynload', '', '/home/y-katayama/venv/pt1.7/lib/python3.8/site-packages']\n"
     ]
    }
   ],
   "source": [
    "import sys\n",
    "import os\n",
    "from pathlib import Path\n",
    "\n",
    "# importディレクトリの追加\n",
    "# sys.path.append(os.path.join(os.path.dirname(__file__), '..'))\n",
    "print(sys.path)\n",
    "\n",
    "# プロキシの設定\n",
    "# os.environ['HTTP_PROXY'] = ''\n",
    "# os.environ['HTTPS_PROXY'] = ''\n",
    "\n",
    "%matplotlib inline"
   ]
  },
  {
   "cell_type": "code",
   "execution_count": 2,
   "id": "e0fa03e9",
   "metadata": {},
   "outputs": [
    {
     "name": "stdout",
     "output_type": "stream",
     "text": [
      "Fri Mar 24 16:13:01 2023       \n",
      "+-----------------------------------------------------------------------------+\n",
      "| NVIDIA-SMI 525.85.12    Driver Version: 525.85.12    CUDA Version: 12.0     |\n",
      "|-------------------------------+----------------------+----------------------+\n",
      "| GPU  Name        Persistence-M| Bus-Id        Disp.A | Volatile Uncorr. ECC |\n",
      "| Fan  Temp  Perf  Pwr:Usage/Cap|         Memory-Usage | GPU-Util  Compute M. |\n",
      "|                               |                      |               MIG M. |\n",
      "|===============================+======================+======================|\n",
      "|   0  NVIDIA GeForce ...  On   | 00000000:01:00.0 Off |                  N/A |\n",
      "| 40%   37C    P8    17W / 184W |     16MiB /  8192MiB |      0%      Default |\n",
      "|                               |                      |                  N/A |\n",
      "+-------------------------------+----------------------+----------------------+\n",
      "|   1  NVIDIA GeForce ...  On   | 00000000:03:00.0 Off |                  N/A |\n",
      "| 40%   33C    P8    15W / 184W |      6MiB /  8192MiB |      0%      Default |\n",
      "|                               |                      |                  N/A |\n",
      "+-------------------------------+----------------------+----------------------+\n",
      "                                                                               \n",
      "+-----------------------------------------------------------------------------+\n",
      "| Processes:                                                                  |\n",
      "|  GPU   GI   CI        PID   Type   Process name                  GPU Memory |\n",
      "|        ID   ID                                                   Usage      |\n",
      "|=============================================================================|\n",
      "|    0   N/A  N/A      1943      G   /usr/lib/xorg/Xorg                 14MiB |\n",
      "|    1   N/A  N/A      1943      G   /usr/lib/xorg/Xorg                  4MiB |\n",
      "+-----------------------------------------------------------------------------+\n"
     ]
    }
   ],
   "source": [
    "!nvidia-smi"
   ]
  },
  {
   "cell_type": "code",
   "execution_count": 3,
   "id": "9cc0deba",
   "metadata": {},
   "outputs": [],
   "source": [
    "import torch\n",
    "import numpy as np\n",
    "from torch import nn\n",
    "import torch.autograd.profiler as profiler"
   ]
  },
  {
   "cell_type": "code",
   "execution_count": 4,
   "id": "717547ae",
   "metadata": {},
   "outputs": [],
   "source": [
    "%matplotlib inline"
   ]
  },
  {
   "cell_type": "markdown",
   "id": "4867e090",
   "metadata": {},
   "source": [
    "# PyTorchモジュールのプロファイリング方法"
   ]
  },
  {
   "cell_type": "markdown",
   "id": "6a18368d",
   "metadata": {},
   "source": [
    "- プロファイラはモデル内のパフォーマンスのボトルネックを特定するうえで役立つ\n",
    "\n",
    "- 入力の線形変換\n",
    "- 線形変換の結果を用いたマスクテンソルのインデックスの取得\n",
    "\n",
    "`profiler.record_fcuntion(\"label\")を使用し、各サブタスクを行うコードを分離してラベル付けされたコンテクストマネージャ内にラップする\n",
    "プロファイラの出力ではサブタスクないのすべての処理の総合的なパフォーマンス指標が、対応するラベルの↓に表示される**\n",
    "\n",
    "ランダム入力とマスクテンソル、そしてモデルを初期化します。\n",
    "プロファイラーを実行する前に、正確なパフォーマンスのベンチマークを測定するためにCUDAの準備をします。\n",
    "\n",
    "- profiler.profileコンテクストマネージャー内でモジュールのフォワードパスをラップします。\n",
    "- with_stack=Trueパラメーターは、<u>ファイルとトレース内の処理の行数を追加で記録する</u>\n",
    "    - **with_stack=Trueはオーバーヘッドを生じる**ためコードを調査する目的のときのみ使用する。\n",
    "    - **パフォーマンスを測定する際は、with_stack=Falseにすることを忘れないこと**"
   ]
  },
  {
   "cell_type": "code",
   "execution_count": 5,
   "id": "507db5bb",
   "metadata": {},
   "outputs": [],
   "source": [
    "class MyModule(nn.Module):\n",
    "    def __init__(self, in_features: int, out_features: int, bias: bool = True):\n",
    "        super(MyModule, self).__init__()\n",
    "        self.linear = nn.Linear(in_features, out_features, bias)\n",
    "        \n",
    "    def forward(self, input, mask):\n",
    "        with profiler.record_function('LINEAR PASS'):\n",
    "            out = self.linear(input)\n",
    "        \n",
    "        with profiler.record_function('MASK INDICES'):\n",
    "            threshold = out.sum(axis=1).mean().item()\n",
    "            hi_idx = np.argwhere(mask.cpu().numpy() > threshold)\n",
    "            hi_idx = torch.from_numpy(hi_idx).cuda()\n",
    "        \n",
    "        return out, hi_idx"
   ]
  },
  {
   "cell_type": "markdown",
   "id": "51ec4e4f-e78b-415a-af93-2ad7da4aed02",
   "metadata": {
    "tags": []
   },
   "source": [
    "# プロファイル結果の出力\n",
    "\n",
    "- `profiler.key_averages`で処理名、任意で入力の形状、またはスタックトレースのイベント毎で結果を集約します。\n",
    "\n",
    "- 入力の形状でグループ化を行うことは、どのテンソルの形状がモデルに利用されているか特定する上で役に立ちます。\n",
    "- ここで、処理と（直近5つのイベントのみに切り取られた）処理のトレースバック毎に実行時間を集約するgroup_by_stack_n=5 を使用し、それらが登録された順番でイベントを表示します。\n",
    "- 表は、sort_by引数を与えることでソートできます。有効なソートキーについては、ドキュメントをご参照ください。\n",
    "\n",
    "- ノートブック内でプロファイラーを実行していると、スタックトレース内のファイル名ではなく、<ipython-input-18-193a910735e8>(13): forwardのようなエントリを目にするかもしれません。 これらは、<notebook-cell>(line number): calling-functionに対応しています。"
   ]
  },
  {
   "cell_type": "code",
   "execution_count": 6,
   "id": "84813b02",
   "metadata": {},
   "outputs": [
    {
     "name": "stdout",
     "output_type": "stream",
     "text": [
      "-----------------------------  ------------  ------------  ------------  ------------  ------------  ------------  ------------  ------------  ------------  ------------  ---------------------------------------------------------------------------  \n",
      "                         Name    Self CPU %      Self CPU   CPU total %     CPU total  CPU time avg       CPU Mem  Self CPU Mem      CUDA Mem  Self CUDA Mem    # of Calls  Source Location                                                              \n",
      "-----------------------------  ------------  ------------  ------------  ------------  ------------  ------------  ------------  ------------  ------------  ------------  ---------------------------------------------------------------------------  \n",
      "                 MASK INDICES        70.92%        1.363s        99.97%        1.921s        1.921s          -4 b    -953.67 Mb       2.79 Gb      -1.00 Kb             1  /home/y-katayama/venv/pt1.7/lib/python3.8/site-packages/torch/autograd/prof  \n",
      "                                                                                                                                                                           /tmp/ipykernel_168484/2418469077.py(10): forward                             \n",
      "                                                                                                                                                                           /home/y-katayama/venv/pt1.7/lib/python3.8/site-packages/torch/nn/modules/mo  \n",
      "                                                                                                                                                                           /tmp/ipykernel_168484/2233878988.py(9): <module>                             \n",
      "                                                                                                                                                                           /home/y-katayama/venv/pt1.7/lib/python3.8/site-packages/IPython/core/intera  \n",
      "                                                                                                                                                                                                                                                        \n",
      "                  aten::copy_        15.29%     293.800ms        15.29%     293.800ms     293.800ms           0 b           0 b           0 b           0 b             1  /tmp/ipykernel_168484/2418469077.py(12): forward                             \n",
      "                                                                                                                                                                           /home/y-katayama/venv/pt1.7/lib/python3.8/site-packages/torch/nn/modules/mo  \n",
      "                                                                                                                                                                           /tmp/ipykernel_168484/2233878988.py(9): <module>                             \n",
      "                                                                                                                                                                           /home/y-katayama/venv/pt1.7/lib/python3.8/site-packages/IPython/core/intera  \n",
      "                                                                                                                                                                           /home/y-katayama/venv/pt1.7/lib/python3.8/site-packages/IPython/core/intera  \n",
      "                                                                                                                                                                                                                                                        \n",
      "                  aten::copy_        13.73%     263.766ms        13.73%     263.766ms     263.766ms           0 b           0 b           0 b           0 b             1  /tmp/ipykernel_168484/2418469077.py(13): forward                             \n",
      "                                                                                                                                                                           /home/y-katayama/venv/pt1.7/lib/python3.8/site-packages/torch/nn/modules/mo  \n",
      "                                                                                                                                                                           /tmp/ipykernel_168484/2233878988.py(9): <module>                             \n",
      "                                                                                                                                                                           /home/y-katayama/venv/pt1.7/lib/python3.8/site-packages/IPython/core/intera  \n",
      "                                                                                                                                                                           /home/y-katayama/venv/pt1.7/lib/python3.8/site-packages/IPython/core/intera  \n",
      "                                                                                                                                                                                                                                                        \n",
      "                  aten::addmm         0.01%     118.675us         0.01%     261.000us     261.000us           0 b           0 b       5.00 Kb           0 b             1  /home/y-katayama/venv/pt1.7/lib/python3.8/site-packages/torch/nn/functional  \n",
      "                                                                                                                                                                           /home/y-katayama/venv/pt1.7/lib/python3.8/site-packages/torch/nn/modules/li  \n",
      "                                                                                                                                                                           /home/y-katayama/venv/pt1.7/lib/python3.8/site-packages/torch/nn/modules/mo  \n",
      "                                                                                                                                                                           /tmp/ipykernel_168484/2418469077.py(8): forward                              \n",
      "                                                                                                                                                                           /home/y-katayama/venv/pt1.7/lib/python3.8/site-packages/torch/nn/modules/mo  \n",
      "                                                                                                                                                                                                                                                        \n",
      "                  LINEAR PASS         0.00%      59.262us         0.02%     432.525us     432.525us          -4 b        -276 b       5.00 Kb           0 b             1  /home/y-katayama/venv/pt1.7/lib/python3.8/site-packages/torch/autograd/prof  \n",
      "                                                                                                                                                                           /tmp/ipykernel_168484/2418469077.py(7): forward                              \n",
      "                                                                                                                                                                           /home/y-katayama/venv/pt1.7/lib/python3.8/site-packages/torch/nn/modules/mo  \n",
      "                                                                                                                                                                           /tmp/ipykernel_168484/2233878988.py(9): <module>                             \n",
      "                                                                                                                                                                           /home/y-katayama/venv/pt1.7/lib/python3.8/site-packages/IPython/core/intera  \n",
      "                                                                                                                                                                                                                                                        \n",
      "-----------------------------  ------------  ------------  ------------  ------------  ------------  ------------  ------------  ------------  ------------  ------------  ---------------------------------------------------------------------------  \n",
      "Self CPU time total: 1.921s\n",
      "\n"
     ]
    }
   ],
   "source": [
    "model = MyModule(500, 10).cuda()\n",
    "input = torch.rand(128, 500).cuda()\n",
    "mask = torch.rand((500, 500, 500), dtype=torch.double).cuda()\n",
    "\n",
    "# warm-up\n",
    "model(input, mask)\n",
    "\n",
    "with profiler.profile(with_stack=True, profile_memory=True) as prof:\n",
    "    out, idx = model(input, mask)\n",
    "    \n",
    "# プロファイル結果の出力\n",
    "print(prof.key_averages(group_by_stack_n=5).table(sort_by='self_cpu_time_total', row_limit=5))"
   ]
  },
  {
   "cell_type": "markdown",
   "id": "3d213e77-7430-4e6f-af32-47147d2bacff",
   "metadata": {},
   "source": [
    "# メモリパフォーマンスの向上"
   ]
  },
  {
   "cell_type": "markdown",
   "id": "f9456ede-cf93-448a-9faf-0d73c3407147",
   "metadata": {},
   "source": [
    "- 上記のプロファイル結果から、最も高コストな処理はマスクインデックスの処理`forward(10)`であることがわかる\n",
    "- まずはメモリ消費の改善に取り組むことにする\n",
    "\n",
    "- L.12の`.to().cpu()`で953.67Mbのメモリを消費していることがわかる`Self CPU Memを参照`\n",
    "  - この処理はmaskをcpuにコピーしている処理\n",
    "- torch.doubleをtorch.floatにキャストするとメモリ不可を軽減できるだろうか？\n",
    "  - 以下、対象の処理ではCPUのメモリ使用量が半減することが確認できる"
   ]
  },
  {
   "cell_type": "code",
   "execution_count": 7,
   "id": "4e275860-32dd-4547-8dea-e5e9814cb7b1",
   "metadata": {},
   "outputs": [
    {
     "name": "stdout",
     "output_type": "stream",
     "text": [
      "-----------------------------  ------------  ------------  ------------  ------------  ------------  ------------  ------------  ------------  ------------  ------------  ---------------------------------------------------------------------------  \n",
      "                         Name    Self CPU %      Self CPU   CPU total %     CPU total  CPU time avg       CPU Mem  Self CPU Mem      CUDA Mem  Self CUDA Mem    # of Calls  Source Location                                                              \n",
      "-----------------------------  ------------  ------------  ------------  ------------  ------------  ------------  ------------  ------------  ------------  ------------  ---------------------------------------------------------------------------  \n",
      "                 MASK INDICES        82.05%        1.276s        99.96%        1.554s        1.554s          -4 b    -476.84 Mb       1.40 Gb      -1.00 Kb             1  /home/y-katayama/venv/pt1.7/lib/python3.8/site-packages/torch/autograd/prof  \n",
      "                                                                                                                                                                           /tmp/ipykernel_168484/2418469077.py(10): forward                             \n",
      "                                                                                                                                                                           /home/y-katayama/venv/pt1.7/lib/python3.8/site-packages/torch/nn/modules/mo  \n",
      "                                                                                                                                                                           /tmp/ipykernel_168484/3234922508.py(11): <module>                            \n",
      "                                                                                                                                                                           /home/y-katayama/venv/pt1.7/lib/python3.8/site-packages/IPython/core/intera  \n",
      "                                                                                                                                                                                                                                                        \n",
      "                  aten::copy_         9.46%     147.029ms         9.46%     147.029ms     147.029ms           0 b           0 b           0 b           0 b             1  /tmp/ipykernel_168484/2418469077.py(12): forward                             \n",
      "                                                                                                                                                                           /home/y-katayama/venv/pt1.7/lib/python3.8/site-packages/torch/nn/modules/mo  \n",
      "                                                                                                                                                                           /tmp/ipykernel_168484/3234922508.py(11): <module>                            \n",
      "                                                                                                                                                                           /home/y-katayama/venv/pt1.7/lib/python3.8/site-packages/IPython/core/intera  \n",
      "                                                                                                                                                                           /home/y-katayama/venv/pt1.7/lib/python3.8/site-packages/IPython/core/intera  \n",
      "                                                                                                                                                                                                                                                        \n",
      "                  aten::copy_         8.42%     130.855ms         8.42%     130.855ms     130.855ms           0 b           0 b           0 b           0 b             1  /tmp/ipykernel_168484/2418469077.py(13): forward                             \n",
      "                                                                                                                                                                           /home/y-katayama/venv/pt1.7/lib/python3.8/site-packages/torch/nn/modules/mo  \n",
      "                                                                                                                                                                           /tmp/ipykernel_168484/3234922508.py(11): <module>                            \n",
      "                                                                                                                                                                           /home/y-katayama/venv/pt1.7/lib/python3.8/site-packages/IPython/core/intera  \n",
      "                                                                                                                                                                           /home/y-katayama/venv/pt1.7/lib/python3.8/site-packages/IPython/core/intera  \n",
      "                                                                                                                                                                                                                                                        \n",
      "                  aten::addmm         0.01%     119.117us         0.02%     260.591us     260.591us           0 b           0 b       5.00 Kb           0 b             1  /home/y-katayama/venv/pt1.7/lib/python3.8/site-packages/torch/nn/functional  \n",
      "                                                                                                                                                                           /home/y-katayama/venv/pt1.7/lib/python3.8/site-packages/torch/nn/modules/li  \n",
      "                                                                                                                                                                           /home/y-katayama/venv/pt1.7/lib/python3.8/site-packages/torch/nn/modules/mo  \n",
      "                                                                                                                                                                           /tmp/ipykernel_168484/2418469077.py(8): forward                              \n",
      "                                                                                                                                                                           /home/y-katayama/venv/pt1.7/lib/python3.8/site-packages/torch/nn/modules/mo  \n",
      "                                                                                                                                                                                                                                                        \n",
      "                  LINEAR PASS         0.00%      60.651us         0.03%     435.392us     435.392us          -4 b        -276 b       5.00 Kb           0 b             1  /home/y-katayama/venv/pt1.7/lib/python3.8/site-packages/torch/autograd/prof  \n",
      "                                                                                                                                                                           /tmp/ipykernel_168484/2418469077.py(7): forward                              \n",
      "                                                                                                                                                                           /home/y-katayama/venv/pt1.7/lib/python3.8/site-packages/torch/nn/modules/mo  \n",
      "                                                                                                                                                                           /tmp/ipykernel_168484/3234922508.py(11): <module>                            \n",
      "                                                                                                                                                                           /home/y-katayama/venv/pt1.7/lib/python3.8/site-packages/IPython/core/intera  \n",
      "                                                                                                                                                                                                                                                        \n",
      "-----------------------------  ------------  ------------  ------------  ------------  ------------  ------------  ------------  ------------  ------------  ------------  ---------------------------------------------------------------------------  \n",
      "Self CPU time total: 1.555s\n",
      "\n"
     ]
    }
   ],
   "source": [
    "model = MyModule(500, 10).cuda()\n",
    "input = torch.rand(128, 500).cuda()\n",
    "\n",
    "# maskのデータ型をtorch.floatに変更\n",
    "mask = torch.rand((500, 500, 500), dtype=torch.float).cuda()\n",
    "\n",
    "# 準備\n",
    "model(input, mask)\n",
    "\n",
    "with profiler.profile(with_stack=True, profile_memory=True) as prof:\n",
    "    out, idx = model(input, mask)\n",
    "\n",
    "# 彩度プロファイルを取る\n",
    "print(prof.key_averages(group_by_stack_n=5).table(sort_by='self_cpu_time_total', row_limit=5))"
   ]
  },
  {
   "cell_type": "markdown",
   "id": "7f665e0d-fd6b-4884-ae2f-eb0095103d49",
   "metadata": {},
   "source": [
    "# 時間パフォーマンスの向上"
   ]
  },
  {
   "cell_type": "markdown",
   "id": "b682b1b1-acde-4845-a105-b6761571402b",
   "metadata": {},
   "source": [
    "- メモリ消費量に加えて。時間のコストもやや減らせましたが、依然として実行に時間が掛かり過ぎています。\n",
    "- 行列をCUDAからCPUにコピーする処理がいかに高コストな処理であるかわかります。\n",
    "\n",
    "- `forward (12)`内の`aten::copy_`は、`mask`をCPUにコピーし、NumPyの`argwhere`関数を使用できるようにしています。\n",
    "- そして`forward(13)`の`aten::copy_`は、配列をテンソルとしてCUDAにコピーし直しています。\n",
    "- 代わりに`torch.nonzero()`を使用すれば、これら2つの処理を両方取り除くことができます。"
   ]
  },
  {
   "cell_type": "code",
   "execution_count": 8,
   "id": "ab5ea24c-8a39-4886-a15b-c8776a234d1b",
   "metadata": {},
   "outputs": [],
   "source": [
    "class MyModule_reduce_time(nn.Module):\n",
    "    def __init__(self, in_features: int, out_features: int, bias: bool = True):\n",
    "        super(MyModule_reduce_time, self).__init__()\n",
    "        self.linear = nn.Linear(in_features, out_features, bias)\n",
    "\n",
    "    def forward(self, input, mask):\n",
    "        with profiler.record_function(\"LINEAR PASS\"):\n",
    "            out = self.linear(input)\n",
    "\n",
    "        with profiler.record_function(\"MASK INDICES\"):\n",
    "            threshold = out.sum(axis=1).mean()\n",
    "            # hi_idx = np.argwhere(mask.cpu().numpy() > threshold)\n",
    "            # マスクと閾値の比較処理をnonzero()をtorch.nn.nonzero()使って判定するように変更\n",
    "            hi_idx = (mask > threshold).nonzero(as_tuple=True)\n",
    "\n",
    "        return out, hi_idx"
   ]
  },
  {
   "cell_type": "code",
   "execution_count": 9,
   "id": "6f1be0de-e63d-4cf8-b623-f96e4a209500",
   "metadata": {},
   "outputs": [
    {
     "name": "stdout",
     "output_type": "stream",
     "text": [
      "-----------------------  ------------  ------------  ------------  ------------  ------------  ------------  ------------  ------------  ------------  ------------  ---------------------------------------------------------------------------  \n",
      "                   Name    Self CPU %      Self CPU   CPU total %     CPU total  CPU time avg       CPU Mem  Self CPU Mem      CUDA Mem  Self CUDA Mem    # of Calls  Source Location                                                              \n",
      "-----------------------  ------------  ------------  ------------  ------------  ------------  ------------  ------------  ------------  ------------  ------------  ---------------------------------------------------------------------------  \n",
      "          aten::nonzero        87.42%       8.154ms        88.81%       8.284ms       8.284ms           0 b           0 b     668.97 Mb           0 b             1  /tmp/ipykernel_168484/3383356899.py(14): forward                             \n",
      "                                                                                                                                                                     /home/y-katayama/venv/pt1.7/lib/python3.8/site-packages/torch/nn/modules/mo  \n",
      "                                                                                                                                                                     /tmp/ipykernel_168484/2567119154.py(9): <module>                             \n",
      "                                                                                                                                                                     /home/y-katayama/venv/pt1.7/lib/python3.8/site-packages/IPython/core/intera  \n",
      "                                                                                                                                                                     /home/y-katayama/venv/pt1.7/lib/python3.8/site-packages/IPython/core/intera  \n",
      "                                                                                                                                                                                                                                                  \n",
      "            aten::addmm         0.85%      79.488us         2.34%     218.561us     218.561us           0 b           0 b       5.00 Kb           0 b             1  /home/y-katayama/venv/pt1.7/lib/python3.8/site-packages/torch/nn/functional  \n",
      "                                                                                                                                                                     /home/y-katayama/venv/pt1.7/lib/python3.8/site-packages/torch/nn/modules/li  \n",
      "                                                                                                                                                                     /home/y-katayama/venv/pt1.7/lib/python3.8/site-packages/torch/nn/modules/mo  \n",
      "                                                                                                                                                                     /tmp/ipykernel_168484/3383356899.py(8): forward                              \n",
      "                                                                                                                                                                     /home/y-katayama/venv/pt1.7/lib/python3.8/site-packages/torch/nn/modules/mo  \n",
      "                                                                                                                                                                                                                                                  \n",
      "               aten::gt         0.72%      67.167us         1.63%     151.698us      75.849us           0 b           0 b     238.42 Mb           0 b             2  /home/y-katayama/venv/pt1.7/lib/python3.8/site-packages/torch/tensor.py(27)  \n",
      "                                                                                                                                                                     /tmp/ipykernel_168484/3383356899.py(14): forward                             \n",
      "                                                                                                                                                                     /home/y-katayama/venv/pt1.7/lib/python3.8/site-packages/torch/nn/modules/mo  \n",
      "                                                                                                                                                                     /tmp/ipykernel_168484/2567119154.py(9): <module>                             \n",
      "                                                                                                                                                                     /home/y-katayama/venv/pt1.7/lib/python3.8/site-packages/IPython/core/intera  \n",
      "                                                                                                                                                                                                                                                  \n",
      "       aten::as_strided         0.71%      65.966us         0.71%      65.966us      16.491us           0 b           0 b           0 b           0 b             4  /tmp/ipykernel_168484/3383356899.py(14): forward                             \n",
      "                                                                                                                                                                     /home/y-katayama/venv/pt1.7/lib/python3.8/site-packages/torch/nn/modules/mo  \n",
      "                                                                                                                                                                     /tmp/ipykernel_168484/2567119154.py(9): <module>                             \n",
      "                                                                                                                                                                     /home/y-katayama/venv/pt1.7/lib/python3.8/site-packages/IPython/core/intera  \n",
      "                                                                                                                                                                     /home/y-katayama/venv/pt1.7/lib/python3.8/site-packages/IPython/core/intera  \n",
      "                                                                                                                                                                                                                                                  \n",
      "           aten::stride         0.63%      58.593us         0.63%      58.593us      19.531us           0 b           0 b           0 b           0 b             3  /home/y-katayama/venv/pt1.7/lib/python3.8/site-packages/torch/nn/functional  \n",
      "                                                                                                                                                                     /home/y-katayama/venv/pt1.7/lib/python3.8/site-packages/torch/nn/modules/li  \n",
      "                                                                                                                                                                     /home/y-katayama/venv/pt1.7/lib/python3.8/site-packages/torch/nn/modules/mo  \n",
      "                                                                                                                                                                     /tmp/ipykernel_168484/3383356899.py(8): forward                              \n",
      "                                                                                                                                                                     /home/y-katayama/venv/pt1.7/lib/python3.8/site-packages/torch/nn/modules/mo  \n",
      "                                                                                                                                                                                                                                                  \n",
      "-----------------------  ------------  ------------  ------------  ------------  ------------  ------------  ------------  ------------  ------------  ------------  ---------------------------------------------------------------------------  \n",
      "Self CPU time total: 9.328ms\n",
      "\n"
     ]
    }
   ],
   "source": [
    "model_2 = MyModule_reduce_time(500, 10).cuda()\n",
    "input = torch.rand(128, 500).cuda()\n",
    "mask = torch.rand((500, 500, 500), dtype=torch.float).cuda()\n",
    "\n",
    "# warm-up\n",
    "model_2(input, mask)\n",
    "\n",
    "with profiler.profile(with_stack=True, profile_memory=True) as prof:\n",
    "    out, idx = model_2(input, mask)\n",
    "\n",
    "print(prof.key_averages(group_by_stack_n=5).table(sort_by='self_cpu_time_total', row_limit=5))"
   ]
  },
  {
   "cell_type": "markdown",
   "id": "0c568d50-dab1-43d5-ae08-5b0f2ac22513",
   "metadata": {},
   "source": [
    "- Numpyとの変換処理取り除かれたことで、推論時間が激減することが確認できた。(Self CPU time total: 1.555s -> Self CPU time total: 9.328ms)"
   ]
  },
  {
   "cell_type": "code",
   "execution_count": null,
   "id": "c6d3028e-5bef-4967-bbfc-c80910870db2",
   "metadata": {},
   "outputs": [],
   "source": []
  }
 ],
 "metadata": {
  "kernelspec": {
   "display_name": "pt1.7",
   "language": "python",
   "name": "pt1.7"
  },
  "language_info": {
   "codemirror_mode": {
    "name": "ipython",
    "version": 3
   },
   "file_extension": ".py",
   "mimetype": "text/x-python",
   "name": "python",
   "nbconvert_exporter": "python",
   "pygments_lexer": "ipython3",
   "version": "3.8.10"
  },
  "widgets": {
   "application/vnd.jupyter.widget-state+json": {
    "state": {},
    "version_major": 2,
    "version_minor": 0
   }
  }
 },
 "nbformat": 4,
 "nbformat_minor": 5
}
